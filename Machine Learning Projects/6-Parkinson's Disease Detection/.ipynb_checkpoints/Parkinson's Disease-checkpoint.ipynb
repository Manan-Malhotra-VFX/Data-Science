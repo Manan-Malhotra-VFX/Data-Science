{
 "cells": [
  {
   "cell_type": "markdown",
   "id": "cbae8ebc",
   "metadata": {},
   "source": [
    "* name - ASCII subject name and recording number\n",
    "* MDVP:Fo(Hz) - Average vocal fundamental frequency\n",
    "* MDVP:Fhi(Hz) - Maximum vocal fundamental frequency\n",
    "* MDVP:Flo(Hz) - Minimum vocal fundamental frequency\n",
    "* MDVP:Jitter(%),MDVP:Jitter(Abs),MDVP:RAP,MDVP:PPQ,Jitter:DDP - Several\n",
    "* measures of variation in fundamental frequency\n",
    "* MDVP:Shimmer,MDVP:Shimmer(dB),Shimmer:APQ3,Shimmer:APQ5,MDVP:APQ,Shimmer:DDA - Several measures of variation in amplitude\n",
    "* NHR,HNR - Two measures of ratio of noise to tonal components in the voice\n",
    "* status - Health status of the subject (one) - Parkinson's, (zero) - healthy\n",
    "* RPDE,D2 - Two nonlinear dynamical complexity measures\n",
    "* DFA - Signal fractal scaling exponent\n",
    "* spread1,spread2,PPE - Three nonlinear measures of fundamental frequency variation"
   ]
  },
  {
   "cell_type": "code",
   "execution_count": null,
   "id": "8f95ebf2",
   "metadata": {},
   "outputs": [],
   "source": []
  }
 ],
 "metadata": {
  "kernelspec": {
   "display_name": "Python 3 (ipykernel)",
   "language": "python",
   "name": "python3"
  },
  "language_info": {
   "codemirror_mode": {
    "name": "ipython",
    "version": 3
   },
   "file_extension": ".py",
   "mimetype": "text/x-python",
   "name": "python",
   "nbconvert_exporter": "python",
   "pygments_lexer": "ipython3",
   "version": "3.8.8"
  },
  "toc": {
   "base_numbering": 1,
   "nav_menu": {},
   "number_sections": true,
   "sideBar": true,
   "skip_h1_title": false,
   "title_cell": "Table of Contents",
   "title_sidebar": "Contents",
   "toc_cell": false,
   "toc_position": {},
   "toc_section_display": true,
   "toc_window_display": false
  },
  "varInspector": {
   "cols": {
    "lenName": 16,
    "lenType": 16,
    "lenVar": 40
   },
   "kernels_config": {
    "python": {
     "delete_cmd_postfix": "",
     "delete_cmd_prefix": "del ",
     "library": "var_list.py",
     "varRefreshCmd": "print(var_dic_list())"
    },
    "r": {
     "delete_cmd_postfix": ") ",
     "delete_cmd_prefix": "rm(",
     "library": "var_list.r",
     "varRefreshCmd": "cat(var_dic_list()) "
    }
   },
   "types_to_exclude": [
    "module",
    "function",
    "builtin_function_or_method",
    "instance",
    "_Feature"
   ],
   "window_display": false
  }
 },
 "nbformat": 4,
 "nbformat_minor": 5
}
