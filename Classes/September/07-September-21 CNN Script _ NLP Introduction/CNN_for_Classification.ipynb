{
  "nbformat": 4,
  "nbformat_minor": 0,
  "metadata": {
    "kernelspec": {
      "display_name": "Python 3",
      "language": "python",
      "name": "python3"
    },
    "language_info": {
      "codemirror_mode": {
        "name": "ipython",
        "version": 3
      },
      "file_extension": ".py",
      "mimetype": "text/x-python",
      "name": "python",
      "nbconvert_exporter": "python",
      "pygments_lexer": "ipython3",
      "version": "3.8.5"
    },
    "colab": {
      "name": "CNN for Classification.ipynb",
      "provenance": []
    }
  },
  "cells": [
    {
      "cell_type": "code",
      "metadata": {
        "id": "Y4p8zsAOx2T4"
      },
      "source": [
        "import keras"
      ],
      "execution_count": null,
      "outputs": []
    },
    {
      "cell_type": "code",
      "metadata": {
        "id": "09B1K-Wox2T6"
      },
      "source": [
        "from keras.models import Sequential\n",
        "from keras.layers import Dense,Conv2D,MaxPooling2D,Flatten"
      ],
      "execution_count": null,
      "outputs": []
    },
    {
      "cell_type": "code",
      "metadata": {
        "id": "uvkxd40ix2T7"
      },
      "source": [
        "#Step 1 : Initialize the pipeline\n",
        "classifier = Sequential()"
      ],
      "execution_count": null,
      "outputs": []
    },
    {
      "cell_type": "code",
      "metadata": {
        "id": "l7_k9p05x2T8"
      },
      "source": [
        "#Step2: Convo layer\n",
        "classifier.add(Conv2D( filters = 32,kernel_size = (3,3), input_shape = (64,64,3), activation = 'relu' , padding=\"same\", strides = 1))"
      ],
      "execution_count": null,
      "outputs": []
    },
    {
      "cell_type": "code",
      "metadata": {
        "id": "-DAoT7D3x2T9"
      },
      "source": [
        "#Step3: Maxpooling\n",
        "classifier.add(MaxPooling2D(pool_size = (2,2)))"
      ],
      "execution_count": null,
      "outputs": []
    },
    {
      "cell_type": "code",
      "metadata": {
        "id": "i3KxqY6Xx2T9"
      },
      "source": [
        "#Step4: Flatten\n",
        "classifier.add(Flatten()) #1024 neuron got created in the first layer"
      ],
      "execution_count": null,
      "outputs": []
    },
    {
      "cell_type": "code",
      "metadata": {
        "id": "fLgcizdjx2T-"
      },
      "source": [
        "#Step 5:FFNN\n",
        "classifier.add(Dense(units = 150, activation = 'relu' ))"
      ],
      "execution_count": null,
      "outputs": []
    },
    {
      "cell_type": "code",
      "metadata": {
        "id": "u4Pmg_uCx2T_"
      },
      "source": [
        "#Step6: Output layer\n",
        "classifier.add(Dense(units = 5, activation = 'sigmoid'))"
      ],
      "execution_count": null,
      "outputs": []
    },
    {
      "cell_type": "code",
      "metadata": {
        "id": "iSqP11NKx2UA"
      },
      "source": [
        "classifier.compile(optimizer='Adam',loss='binary_crossentropy',metrics=['accuracy'])"
      ],
      "execution_count": null,
      "outputs": []
    },
    {
      "cell_type": "code",
      "metadata": {
        "id": "JlVvJ9iWx2UB"
      },
      "source": [
        "#Image preprocessing\n",
        "from keras.preprocessing.image import ImageDataGenerator\n",
        "\n",
        "train_datagen = ImageDataGenerator(rescale = 1./255, shear_range = 0.2, zoom_range = 0.2, horizontal_flip = True)\n",
        "\n",
        "test_datagen = ImageDataGenerator(rescale = 1./255)"
      ],
      "execution_count": null,
      "outputs": []
    },
    {
      "cell_type": "code",
      "metadata": {
        "id": "2ejcTquVx2UB",
        "outputId": "46c4a58d-09ef-46a3-da96-ce9841716ee0"
      },
      "source": [
        "train_generator = train_datagen.flow_from_directory(r'D:\\DLCVNLP\\Parent', target_size=(64, 64), batch_size=32, class_mode='categorical')\n",
        "test_generator = test_datagen.flow_from_directory(r'D:\\DLCVNLP\\Parent', target_size=(64,64), batch_size=32, class_mode='categorical')"
      ],
      "execution_count": null,
      "outputs": [
        {
          "name": "stdout",
          "output_type": "stream",
          "text": [
            "Found 80 images belonging to 5 classes.\n",
            "Found 80 images belonging to 5 classes.\n"
          ]
        }
      ]
    },
    {
      "cell_type": "code",
      "metadata": {
        "id": "sqpb4TXfx2UC",
        "outputId": "b8ba7996-c4e4-4038-faaf-34bf269836d4"
      },
      "source": [
        "r = classifier.fit(train_generator, steps_per_epoch=2, epochs=25, validation_data=test_generator, validation_steps=5)"
      ],
      "execution_count": null,
      "outputs": [
        {
          "name": "stdout",
          "output_type": "stream",
          "text": [
            "Epoch 1/25\n",
            "2/2 [==============================] - ETA: 0s - loss: 0.4205 - accuracy: 0.5417WARNING:tensorflow:Your input ran out of data; interrupting training. Make sure that your dataset or generator can generate at least `steps_per_epoch * epochs` batches (in this case, 5 batches). You may need to use the repeat() function when building your dataset.\n",
            "2/2 [==============================] - 73s 36s/step - loss: 0.4205 - accuracy: 0.5417 - val_loss: 0.3518 - val_accuracy: 0.5875\n",
            "Epoch 2/25\n",
            "2/2 [==============================] - 8s 4s/step - loss: 0.3363 - accuracy: 0.7083\n",
            "Epoch 3/25\n",
            "2/2 [==============================] - 16s 8s/step - loss: 0.3254 - accuracy: 0.7500\n",
            "Epoch 4/25\n",
            "2/2 [==============================] - 16s 8s/step - loss: 0.3296 - accuracy: 0.5625\n",
            "Epoch 5/25\n",
            "2/2 [==============================] - 16s 8s/step - loss: 0.3008 - accuracy: 0.6875\n",
            "Epoch 6/25\n",
            "2/2 [==============================] - 16s 8s/step - loss: 0.2831 - accuracy: 0.7083\n",
            "Epoch 7/25\n",
            "2/2 [==============================] - 16s 8s/step - loss: 0.2721 - accuracy: 0.7292\n",
            "Epoch 8/25\n",
            "2/2 [==============================] - 16s 8s/step - loss: 0.2315 - accuracy: 0.7812\n",
            "Epoch 9/25\n",
            "2/2 [==============================] - 9s 5s/step - loss: 0.2039 - accuracy: 0.9167\n",
            "Epoch 10/25\n",
            "2/2 [==============================] - 9s 4s/step - loss: 0.2074 - accuracy: 0.8958\n",
            "Epoch 11/25\n",
            "2/2 [==============================] - 8s 4s/step - loss: 0.1858 - accuracy: 0.9167\n",
            "Epoch 12/25\n",
            "2/2 [==============================] - 9s 4s/step - loss: 0.1558 - accuracy: 0.9167\n",
            "Epoch 13/25\n",
            "2/2 [==============================] - 9s 5s/step - loss: 0.1388 - accuracy: 0.9167\n",
            "Epoch 14/25\n",
            "2/2 [==============================] - 16s 8s/step - loss: 0.1306 - accuracy: 0.9219\n",
            "Epoch 15/25\n",
            "2/2 [==============================] - 18s 9s/step - loss: 0.1441 - accuracy: 0.8958\n",
            "Epoch 16/25\n",
            "2/2 [==============================] - 15s 8s/step - loss: 0.1027 - accuracy: 0.9844\n",
            "Epoch 17/25\n",
            "2/2 [==============================] - 15s 8s/step - loss: 0.1204 - accuracy: 0.9219\n",
            "Epoch 18/25\n",
            "2/2 [==============================] - 7s 4s/step - loss: 0.1041 - accuracy: 0.9583\n",
            "Epoch 19/25\n",
            "2/2 [==============================] - 15s 7s/step - loss: 0.0987 - accuracy: 0.9688\n",
            "Epoch 20/25\n",
            "2/2 [==============================] - 8s 4s/step - loss: 0.0868 - accuracy: 0.9792\n",
            "Epoch 21/25\n",
            "2/2 [==============================] - 22s 11s/step - loss: 0.0817 - accuracy: 0.9583\n",
            "Epoch 22/25\n",
            "2/2 [==============================] - 18s 9s/step - loss: 0.0900 - accuracy: 0.9792\n",
            "Epoch 23/25\n",
            "2/2 [==============================] - 10s 5s/step - loss: 0.0945 - accuracy: 0.9375\n",
            "Epoch 24/25\n",
            "2/2 [==============================] - 17s 8s/step - loss: 0.0805 - accuracy: 0.9844\n",
            "Epoch 25/25\n",
            "2/2 [==============================] - 15s 8s/step - loss: 0.0820 - accuracy: 0.9792\n"
          ]
        },
        {
          "data": {
            "text/plain": [
              "<tensorflow.python.keras.callbacks.History at 0x1ec3d9ed700>"
            ]
          },
          "execution_count": 13,
          "metadata": {},
          "output_type": "execute_result"
        }
      ]
    },
    {
      "cell_type": "code",
      "metadata": {
        "id": "sq3f_5hfx2UC"
      },
      "source": [
        "classifier.save('multiclassmodel.h5')"
      ],
      "execution_count": null,
      "outputs": []
    },
    {
      "cell_type": "code",
      "metadata": {
        "id": "sGXl1naUx2UD",
        "outputId": "ec54fdea-07ff-4724-ba06-842968b15bc3"
      },
      "source": [
        "train_generator.class_indices"
      ],
      "execution_count": null,
      "outputs": [
        {
          "data": {
            "text/plain": [
              "{'iyan': 0, 'john': 1, 'mary': 2, 'superman': 3, 'suresh': 4}"
            ]
          },
          "execution_count": 15,
          "metadata": {},
          "output_type": "execute_result"
        }
      ]
    },
    {
      "cell_type": "code",
      "metadata": {
        "id": "hWVZi0-Lx2UD",
        "outputId": "0199bdc6-3323-4aae-9eeb-2f596c0bb17d"
      },
      "source": [
        "# Part 3 - Making new predictions\n",
        "from keras.models import load_model\n",
        "import numpy as np\n",
        "from keras.preprocessing import image\n",
        "\n",
        "test_image = image.load_img(r'D:\\DLCVNLP\\Image_Test_Files\\mary_test\\IMG_1848.JPG', target_size = (64, 64))\n",
        "test_image = image.img_to_array(test_image)\n",
        "test_image = np.expand_dims(test_image, axis = 0)\n",
        "\n",
        "# load model\n",
        "model = load_model('multiclassmodel.h5')\n",
        "result = model.predict(test_image)\n",
        "\n",
        "if result[0][0] == 1:\n",
        "    prediction = 'iyan'\n",
        "    print(prediction)\n",
        "\n",
        "elif result[0][1] ==1:\n",
        "    prediction = 'john'\n",
        "    print(prediction)\n",
        "    \n",
        "elif result[0][2]==1:\n",
        "    print(\"mary\")\n",
        "    \n",
        "elif result[0][3]==1:\n",
        "    print(\"superman\")\n",
        "    \n",
        "else:\n",
        "    print(\"suresh\")"
      ],
      "execution_count": null,
      "outputs": [
        {
          "name": "stdout",
          "output_type": "stream",
          "text": [
            "WARNING:tensorflow:7 out of the last 7 calls to <function Model.make_predict_function.<locals>.predict_function at 0x000001EC40E03670> triggered tf.function retracing. Tracing is expensive and the excessive number of tracings could be due to (1) creating @tf.function repeatedly in a loop, (2) passing tensors with different shapes, (3) passing Python objects instead of tensors. For (1), please define your @tf.function outside of the loop. For (2), @tf.function has experimental_relax_shapes=True option that relaxes argument shapes that can avoid unnecessary retracing. For (3), please refer to https://www.tensorflow.org/tutorials/customization/performance#python_or_tensor_args and https://www.tensorflow.org/api_docs/python/tf/function for  more details.\n",
            "mary\n"
          ]
        }
      ]
    },
    {
      "cell_type": "code",
      "metadata": {
        "id": "RZEwP-Cjx2UE",
        "outputId": "84fb096e-0ccc-4876-d782-f7a6b87b4562"
      },
      "source": [
        "# loss\n",
        "import matplotlib.pyplot as plt\n",
        "plt.plot(r.history['loss'], label='train loss')\n",
        "plt.plot(r.history['val_loss'], label='val loss')\n",
        "plt.legend()\n",
        "plt.show()\n",
        "plt.savefig('LossVal_loss')"
      ],
      "execution_count": null,
      "outputs": [
        {
          "ename": "NameError",
          "evalue": "name 'r' is not defined",
          "output_type": "error",
          "traceback": [
            "\u001b[1;31m---------------------------------------------------------------------------\u001b[0m",
            "\u001b[1;31mNameError\u001b[0m                                 Traceback (most recent call last)",
            "\u001b[1;32m<ipython-input-24-5294419bb119>\u001b[0m in \u001b[0;36m<module>\u001b[1;34m\u001b[0m\n\u001b[0;32m      1\u001b[0m \u001b[1;31m# loss\u001b[0m\u001b[1;33m\u001b[0m\u001b[1;33m\u001b[0m\u001b[1;33m\u001b[0m\u001b[0m\n\u001b[0;32m      2\u001b[0m \u001b[1;32mimport\u001b[0m \u001b[0mmatplotlib\u001b[0m\u001b[1;33m.\u001b[0m\u001b[0mpyplot\u001b[0m \u001b[1;32mas\u001b[0m \u001b[0mplt\u001b[0m\u001b[1;33m\u001b[0m\u001b[1;33m\u001b[0m\u001b[0m\n\u001b[1;32m----> 3\u001b[1;33m \u001b[0mplt\u001b[0m\u001b[1;33m.\u001b[0m\u001b[0mplot\u001b[0m\u001b[1;33m(\u001b[0m\u001b[0mr\u001b[0m\u001b[1;33m.\u001b[0m\u001b[0mhistory\u001b[0m\u001b[1;33m[\u001b[0m\u001b[1;34m'loss'\u001b[0m\u001b[1;33m]\u001b[0m\u001b[1;33m,\u001b[0m \u001b[0mlabel\u001b[0m\u001b[1;33m=\u001b[0m\u001b[1;34m'train loss'\u001b[0m\u001b[1;33m)\u001b[0m\u001b[1;33m\u001b[0m\u001b[1;33m\u001b[0m\u001b[0m\n\u001b[0m\u001b[0;32m      4\u001b[0m \u001b[0mplt\u001b[0m\u001b[1;33m.\u001b[0m\u001b[0mplot\u001b[0m\u001b[1;33m(\u001b[0m\u001b[0mr\u001b[0m\u001b[1;33m.\u001b[0m\u001b[0mhistory\u001b[0m\u001b[1;33m[\u001b[0m\u001b[1;34m'val_loss'\u001b[0m\u001b[1;33m]\u001b[0m\u001b[1;33m,\u001b[0m \u001b[0mlabel\u001b[0m\u001b[1;33m=\u001b[0m\u001b[1;34m'val loss'\u001b[0m\u001b[1;33m)\u001b[0m\u001b[1;33m\u001b[0m\u001b[1;33m\u001b[0m\u001b[0m\n\u001b[0;32m      5\u001b[0m \u001b[0mplt\u001b[0m\u001b[1;33m.\u001b[0m\u001b[0mlegend\u001b[0m\u001b[1;33m(\u001b[0m\u001b[1;33m)\u001b[0m\u001b[1;33m\u001b[0m\u001b[1;33m\u001b[0m\u001b[0m\n",
            "\u001b[1;31mNameError\u001b[0m: name 'r' is not defined"
          ]
        }
      ]
    },
    {
      "cell_type": "code",
      "metadata": {
        "id": "hEbyNgyMx2UE"
      },
      "source": [
        "# accuracies\n",
        "plt.plot(r.history['accuracy'], label='train acc')\n",
        "plt.plot(r.history['val_accuracy'], label='val acc')\n",
        "plt.legend()\n",
        "plt.show()\n",
        "plt.savefig('AccVal_acc')"
      ],
      "execution_count": null,
      "outputs": []
    }
  ]
}