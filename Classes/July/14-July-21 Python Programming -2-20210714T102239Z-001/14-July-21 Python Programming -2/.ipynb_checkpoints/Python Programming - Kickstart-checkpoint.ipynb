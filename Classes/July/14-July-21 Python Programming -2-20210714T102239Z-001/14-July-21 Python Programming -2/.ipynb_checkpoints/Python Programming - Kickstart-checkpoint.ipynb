{
 "cells": [
  {
   "cell_type": "markdown",
   "metadata": {
    "id": "dwPiDmD9I-oZ"
   },
   "source": [
    "# Chapter 1 - Hello World"
   ]
  },
  {
   "cell_type": "markdown",
   "metadata": {
    "id": "q7YCXCBeI-oc"
   },
   "source": [
    "## 1[a] Hello World"
   ]
  },
  {
   "cell_type": "code",
   "execution_count": null,
   "metadata": {
    "id": "95uLYxafI-oc",
    "outputId": "9bfe542c-1c09-4f98-b5ca-2ab3e77d0ae2"
   },
   "outputs": [
    {
     "name": "stdout",
     "output_type": "stream",
     "text": [
      "Welcome Dhanashreee!!!\n"
     ]
    }
   ],
   "source": [
    "print('Welcome Dhanashreee!!!')"
   ]
  },
  {
   "cell_type": "code",
   "execution_count": null,
   "metadata": {
    "id": "DM-HCnOOI-od",
    "outputId": "250dd42c-adae-4d32-e3b9-ff1d8a4401d6"
   },
   "outputs": [
    {
     "name": "stdout",
     "output_type": "stream",
     "text": [
      "Welcome Sai\n"
     ]
    }
   ],
   "source": [
    "print(\"Welcome Sai\")"
   ]
  },
  {
   "cell_type": "code",
   "execution_count": null,
   "metadata": {
    "id": "h6SdUhXxI-oe",
    "outputId": "6c1fa131-53bf-4ba0-f690-ab75c15fc11d"
   },
   "outputs": [
    {
     "name": "stdout",
     "output_type": "stream",
     "text": [
      "Mentoring makes learner's mind push beyonf the limits\n"
     ]
    }
   ],
   "source": [
    "print(\"Mentoring makes learner's mind push beyonf the limits\")"
   ]
  },
  {
   "cell_type": "markdown",
   "metadata": {
    "id": "Rk80SHq0I-oe"
   },
   "source": [
    "## 1[b] Create a variable "
   ]
  },
  {
   "cell_type": "code",
   "execution_count": null,
   "metadata": {
    "id": "ZrPhE0JxI-oe"
   },
   "outputs": [],
   "source": [
    "numbers = [\"Aditi\",\"Ashwathy\",\"Sneha\",123,78]"
   ]
  },
  {
   "cell_type": "code",
   "execution_count": null,
   "metadata": {
    "id": "XQyNjFYNI-of",
    "outputId": "e164e7b7-8c55-4d27-b7c0-95becc349533"
   },
   "outputs": [
    {
     "name": "stdout",
     "output_type": "stream",
     "text": [
      "['Aditi', 'Ashwathy', 'Sneha', 123, 78]\n"
     ]
    }
   ],
   "source": [
    "print(numbers)"
   ]
  },
  {
   "cell_type": "code",
   "execution_count": null,
   "metadata": {
    "id": "lU9uFEcjI-of",
    "outputId": "7c8d2f28-d429-4282-dc48-ecf353926831"
   },
   "outputs": [
    {
     "name": "stdout",
     "output_type": "stream",
     "text": [
      "34\n"
     ]
    }
   ],
   "source": [
    "#Dont make a variable name with a keyword\n",
    "len_ = 34"
   ]
  },
  {
   "cell_type": "markdown",
   "metadata": {
    "id": "aLmOwAnYI-og"
   },
   "source": [
    "### -----------------------------------------------------------------------------------------------------------------------------------------------------------"
   ]
  },
  {
   "cell_type": "markdown",
   "metadata": {
    "id": "mRskeZb9I-og"
   },
   "source": [
    "# Chapter 2 - Strings and String Methods"
   ]
  },
  {
   "cell_type": "markdown",
   "metadata": {
    "id": "d8c_I3cbI-og"
   },
   "source": [
    "## 2[a] What is a String?"
   ]
  },
  {
   "cell_type": "code",
   "execution_count": null,
   "metadata": {
    "id": "aKtq9rctI-og",
    "outputId": "363ba0a9-9344-4f5d-eef6-12ede4b854a8"
   },
   "outputs": [
    {
     "data": {
      "text/plain": [
       "'Manan'"
      ]
     },
     "execution_count": 10,
     "metadata": {
      "tags": []
     },
     "output_type": "execute_result"
    }
   ],
   "source": [
    "#Anything whihc is enclosed within quotes.\n",
    "learner_names = \"Manan\"\n",
    "learner_names"
   ]
  },
  {
   "cell_type": "code",
   "execution_count": null,
   "metadata": {
    "id": "fCkA4bJ0I-oh",
    "outputId": "c3aab65a-10e5-4f1c-c2f2-8466eda9d451"
   },
   "outputs": [
    {
     "data": {
      "text/plain": [
       "str"
      ]
     },
     "execution_count": 11,
     "metadata": {
      "tags": []
     },
     "output_type": "execute_result"
    }
   ],
   "source": [
    "type(learner_names)"
   ]
  },
  {
   "cell_type": "code",
   "execution_count": null,
   "metadata": {
    "id": "BctO3ob0I-oh",
    "outputId": "a2ab9d3a-27cf-4c30-b7f8-4c4d562d4693"
   },
   "outputs": [
    {
     "name": "stdout",
     "output_type": "stream",
     "text": [
      "394\n",
      "<class 'int'>\n"
     ]
    }
   ],
   "source": [
    "target_score = 394\n",
    "print(target_score)\n",
    "print(type(target_score))"
   ]
  },
  {
   "cell_type": "code",
   "execution_count": null,
   "metadata": {
    "id": "4iAH7eeaI-oi",
    "outputId": "6293c30b-bd55-463a-e44b-99cc7e9253fa"
   },
   "outputs": [
    {
     "data": {
      "text/plain": [
       "float"
      ]
     },
     "execution_count": 18,
     "metadata": {
      "tags": []
     },
     "output_type": "execute_result"
    }
   ],
   "source": [
    "batting_average = 139.34\n",
    "type(batting_average)"
   ]
  },
  {
   "cell_type": "markdown",
   "metadata": {
    "id": "N57lDCpPI-oi"
   },
   "source": [
    "## 2[b] Concatenation - Indexing and Slicing"
   ]
  },
  {
   "cell_type": "code",
   "execution_count": null,
   "metadata": {
    "id": "rYQeby_iI-oi",
    "outputId": "cc017bc3-2bfc-49d2-e314-f7d71dc80d7c"
   },
   "outputs": [
    {
     "name": "stdout",
     "output_type": "stream",
     "text": [
      "Aswathy Palathingalis my new learner DS_11am_batch.\n"
     ]
    }
   ],
   "source": [
    "fname = \"Aswathy\"\n",
    "lname = \"Palathingal\"\n",
    "batch = \"DS_11am_batch\"\n",
    "print(fname + \" \" + lname + \"is my new learner\" + \" \" +batch + \".\")"
   ]
  },
  {
   "cell_type": "code",
   "execution_count": null,
   "metadata": {
    "id": "4jromWBLI-oj",
    "outputId": "329a7436-59dc-4975-a36e-62723ef77dc8"
   },
   "outputs": [
    {
     "data": {
      "text/plain": [
       "34"
      ]
     },
     "execution_count": 42,
     "metadata": {
      "tags": []
     },
     "output_type": "execute_result"
    }
   ],
   "source": [
    "name= \"Naresh Chandra sdhskjdkfs sjdhakja\"\n",
    "len(name)"
   ]
  },
  {
   "cell_type": "code",
   "execution_count": null,
   "metadata": {
    "id": "x7UzUGXJI-oj",
    "outputId": "f1e81c2a-096d-47ef-f115-8e97e46787d9"
   },
   "outputs": [
    {
     "data": {
      "text/plain": [
       "'Chandra'"
      ]
     },
     "execution_count": 44,
     "metadata": {
      "tags": []
     },
     "output_type": "execute_result"
    }
   ],
   "source": [
    "#Index number in python always starts from 0.\n",
    "name[7:14]"
   ]
  },
  {
   "cell_type": "markdown",
   "metadata": {
    "id": "1QOd2GrHI-oj"
   },
   "source": [
    "## 2[c] Manipulate Strings with methods"
   ]
  },
  {
   "cell_type": "markdown",
   "metadata": {
    "id": "qjpebR2aI-ok"
   },
   "source": [
    "* Methods/Function - both are same. Methods are something which is ending with ()."
   ]
  },
  {
   "cell_type": "code",
   "execution_count": null,
   "metadata": {
    "id": "iTbEWXYXI-ok"
   },
   "outputs": [],
   "source": [
    "learner_1 = \"Darshan\"\n",
    "learner_2 = \"Chandramohan\"\n",
    "learner_3 = \"wasim\""
   ]
  },
  {
   "cell_type": "code",
   "execution_count": null,
   "metadata": {
    "id": "67V5TMCpI-ok",
    "outputId": "64742994-228c-46bc-f9a6-ee8d6810f6ea"
   },
   "outputs": [
    {
     "name": "stdout",
     "output_type": "stream",
     "text": [
      "Darshan\n",
      "Chandramohan\n",
      "wasim\n"
     ]
    }
   ],
   "source": [
    "print(learner_1)\n",
    "print(learner_2)\n",
    "print(learner_3)"
   ]
  },
  {
   "cell_type": "code",
   "execution_count": null,
   "metadata": {
    "id": "n0A9Ewu-I-ok",
    "outputId": "a852a8ca-8ff0-4574-b246-d2f37c00963d"
   },
   "outputs": [
    {
     "name": "stdout",
     "output_type": "stream",
     "text": [
      "DARSHAN\n",
      "CHANDRAMOHAN\n",
      "WASIM\n"
     ]
    }
   ],
   "source": [
    "print(learner_1.upper())\n",
    "print(learner_2.upper())\n",
    "print(learner_3.upper())"
   ]
  },
  {
   "cell_type": "code",
   "execution_count": null,
   "metadata": {
    "id": "vw6xKf7_I-ol"
   },
   "outputs": [],
   "source": [
    "learner_1 = \"darshan\"\n",
    "learner_2 = \"chandramohan\"\n",
    "learner_3 = \"wasim\""
   ]
  },
  {
   "cell_type": "code",
   "execution_count": null,
   "metadata": {
    "id": "2R-9XzmVI-ol",
    "outputId": "b2f2f4b1-91e8-4901-fbd7-0b1c838280b6"
   },
   "outputs": [
    {
     "name": "stdout",
     "output_type": "stream",
     "text": [
      "Darshan\n",
      "Chandramohan\n",
      "Wasim\n"
     ]
    }
   ],
   "source": [
    "print(learner_1.capitalize())\n",
    "print(learner_2.capitalize())\n",
    "print(learner_3.capitalize())"
   ]
  },
  {
   "cell_type": "markdown",
   "metadata": {
    "id": "O4mRWZuMI-ol"
   },
   "source": [
    "## 2[d] - Interact with user input"
   ]
  },
  {
   "cell_type": "code",
   "execution_count": null,
   "metadata": {
    "id": "qGGGDjDlI-ol",
    "outputId": "d45f3f45-61f6-41a9-a65b-81c46b5b0653"
   },
   "outputs": [
    {
     "name": "stdout",
     "output_type": "stream",
     "text": [
      "Username: Manoj Yadav\n",
      "11\n"
     ]
    }
   ],
   "source": [
    "name = input(\"Username: \")\n",
    "len(name)"
   ]
  },
  {
   "cell_type": "code",
   "execution_count": null,
   "metadata": {
    "id": "MnF4RNySI-ol",
    "outputId": "bdf9d9f3-400a-477d-a877-2b9acf1ec9c4"
   },
   "outputs": [
    {
     "name": "stdout",
     "output_type": "stream",
     "text": [
      "Enter you name: Akash\n",
      "Akash\n",
      "akash\n",
      "akash\n"
     ]
    }
   ],
   "source": [
    "#Get name from the user and make all the alphabets in lower letter\n",
    "name =  input(\"Enter you name: \")\n",
    "print(name)\n",
    "print(name.lower())\n",
    "print(name.casefold())"
   ]
  },
  {
   "cell_type": "markdown",
   "metadata": {
    "id": "tcREk6AII-om"
   },
   "source": [
    "## 2[e] Get and print the first letter of the username"
   ]
  },
  {
   "cell_type": "code",
   "execution_count": null,
   "metadata": {
    "id": "FESMmp9uI-om",
    "outputId": "89335cd4-6388-4844-fadc-03b92dee87ca"
   },
   "outputs": [
    {
     "name": "stdout",
     "output_type": "stream",
     "text": [
      "Enter the username: pavan\n",
      "Hint: First letter:  p\n"
     ]
    }
   ],
   "source": [
    "username = input(\"Enter the username: \")\n",
    "#username[0]\n",
    "print(\"Hint: First letter: \",username[0])"
   ]
  },
  {
   "cell_type": "markdown",
   "metadata": {
    "id": "h_qKx6-RI-om"
   },
   "source": [
    "## 2[f] Working with Strings and Numbers"
   ]
  },
  {
   "cell_type": "code",
   "execution_count": null,
   "metadata": {
    "id": "nOWAgJ5qI-om",
    "outputId": "24d0fb04-9104-4a99-d13d-5d08f562169c"
   },
   "outputs": [
    {
     "name": "stdout",
     "output_type": "stream",
     "text": [
      "Enter a number: 7.8\n",
      "Enter another number11.6677\n",
      "The product of 7.8 and 11.6677 is 91.00806.\n"
     ]
    }
   ],
   "source": [
    "#Product of 2 number. User preference.\n",
    "num_1 = input(\"Enter a number: \")\n",
    "num_2 = input(\"Enter another number\")\n",
    "product = float(num_1) * float(num_2)\n",
    "print(\"The product of \"+ num_1 + \" and \" + num_2 + \" is \" + str(product) +\".\")"
   ]
  },
  {
   "cell_type": "code",
   "execution_count": null,
   "metadata": {
    "id": "fcgEctyvI-on",
    "outputId": "0aa4cd8c-06e8-4f15-fb1d-ce8387a2cc01"
   },
   "outputs": [
    {
     "data": {
      "text/plain": [
       "float"
      ]
     },
     "execution_count": 21,
     "metadata": {
      "tags": []
     },
     "output_type": "execute_result"
    }
   ],
   "source": [
    "type(product)"
   ]
  },
  {
   "cell_type": "markdown",
   "metadata": {
    "id": "iKO-zsZxI-on"
   },
   "source": [
    "## 2[g] Streamline your print Statements"
   ]
  },
  {
   "cell_type": "code",
   "execution_count": null,
   "metadata": {
    "id": "arQ4imeKI-on",
    "outputId": "ee131c63-8891-4f17-ec4d-bfdd87a45676"
   },
   "outputs": [
    {
     "name": "stdout",
     "output_type": "stream",
     "text": [
      "DhanaShree is from my DataScience 11 am batch.\n"
     ]
    }
   ],
   "source": [
    "name = \"DhanaShree\" #str\n",
    "batch = 11 # int\n",
    "print(\"{} is from my DataScience {} am batch.\".format(name,batch))"
   ]
  },
  {
   "cell_type": "code",
   "execution_count": null,
   "metadata": {
    "id": "6MqzFXyFI-on",
    "outputId": "3e76e2f9-f832-4df0-a2b9-62cef9c4bbe3"
   },
   "outputs": [
    {
     "name": "stdout",
     "output_type": "stream",
     "text": [
      "Name: Bhpendra\n",
      "Batch Time: 8.30\n",
      "Bhpendra is from my DataScience 8.30 am batch.\n"
     ]
    }
   ],
   "source": [
    "name = input(\"Name: \")\n",
    "batch = input(\"Batch Time: \")\n",
    "print(\"{} is from my DataScience {} am batch.\".format(name,batch))"
   ]
  },
  {
   "cell_type": "markdown",
   "metadata": {
    "id": "kOoOZArxI-oo"
   },
   "source": [
    "## 2[h] Find-a-string-in-a-string"
   ]
  },
  {
   "cell_type": "code",
   "execution_count": null,
   "metadata": {
    "id": "wyBt4KxQI-oo"
   },
   "outputs": [],
   "source": [
    "comment = \"I dont know why EXCELR is paying money to John. Worst Trainer\""
   ]
  },
  {
   "cell_type": "code",
   "execution_count": null,
   "metadata": {
    "id": "qWaus8n8I-oo",
    "outputId": "d2098cc7-8511-4a2b-9e36-e7de071fe5fa"
   },
   "outputs": [
    {
     "data": {
      "text/plain": [
       "48"
      ]
     },
     "execution_count": 28,
     "metadata": {
      "tags": []
     },
     "output_type": "execute_result"
    }
   ],
   "source": [
    "comment.find(\"Worst\")"
   ]
  },
  {
   "cell_type": "code",
   "execution_count": null,
   "metadata": {
    "id": "rc5UXZeXI-oo",
    "outputId": "0b74665c-e62d-4b86-dcd5-41343999a680"
   },
   "outputs": [
    {
     "data": {
      "text/plain": [
       "'I dont know why EXCELR is paying money to John. Somewhat OK Trainer'"
      ]
     },
     "execution_count": 29,
     "metadata": {
      "tags": []
     },
     "output_type": "execute_result"
    }
   ],
   "source": [
    "comment.replace(\"Worst\",\"Somewhat OK\")"
   ]
  },
  {
   "cell_type": "code",
   "execution_count": null,
   "metadata": {
    "id": "koT1OxqII-oo",
    "outputId": "a8ea1a00-645d-45f5-fec4-416ae7293764"
   },
   "outputs": [
    {
     "data": {
      "text/plain": [
       "'You have won $1000 lottery. Congradulations!!!!!'"
      ]
     },
     "execution_count": 30,
     "metadata": {
      "tags": []
     },
     "output_type": "execute_result"
    }
   ],
   "source": [
    "mail = \"You have won $1000 lottery. Congradulations!!!!!\" \n",
    "mail"
   ]
  },
  {
   "cell_type": "code",
   "execution_count": null,
   "metadata": {
    "id": "ijwZs0JTI-op",
    "outputId": "030d87fc-b060-4c4f-ca33-0cdde49ac121"
   },
   "outputs": [
    {
     "data": {
      "text/plain": [
       "'You have won 1000 lottery. Congradulations!!!!!'"
      ]
     },
     "execution_count": 36,
     "metadata": {
      "tags": []
     },
     "output_type": "execute_result"
    }
   ],
   "source": [
    "mail.replace(\"$\",\"\")"
   ]
  },
  {
   "cell_type": "code",
   "execution_count": null,
   "metadata": {
    "id": "5BqsG3NkI-op"
   },
   "outputs": [],
   "source": [
    "#Study about Regular expressions"
   ]
  },
  {
   "cell_type": "markdown",
   "metadata": {
    "id": "EEmlY0nMI-op"
   },
   "source": [
    "# Chapter 3 - Numbers in Python"
   ]
  },
  {
   "cell_type": "markdown",
   "metadata": {
    "id": "39dZiIZKI-op"
   },
   "source": [
    "## 3[a] Integers and floating point numbers"
   ]
  },
  {
   "cell_type": "code",
   "execution_count": null,
   "metadata": {
    "id": "4qZhGJAcI-op"
   },
   "outputs": [],
   "source": [
    "team_goal = 4"
   ]
  },
  {
   "cell_type": "code",
   "execution_count": null,
   "metadata": {
    "id": "fseDfOivI-oq",
    "outputId": "6d69583f-9a48-4e54-b11e-b0a8f8f47910"
   },
   "outputs": [
    {
     "data": {
      "text/plain": [
       "int"
      ]
     },
     "execution_count": 39,
     "metadata": {
      "tags": []
     },
     "output_type": "execute_result"
    }
   ],
   "source": [
    "type(team_goal)"
   ]
  },
  {
   "cell_type": "code",
   "execution_count": null,
   "metadata": {
    "id": "u4ATcFElI-oq",
    "outputId": "8d5e4116-fb2a-4cc4-ed7d-294fba41aff3"
   },
   "outputs": [
    {
     "data": {
      "text/plain": [
       "float"
      ]
     },
     "execution_count": 43,
     "metadata": {
      "tags": []
     },
     "output_type": "execute_result"
    }
   ],
   "source": [
    "avg_marks = -8.56\n",
    "type(avg_marks)"
   ]
  },
  {
   "cell_type": "code",
   "execution_count": null,
   "metadata": {
    "id": "QNzOj_caI-oq",
    "outputId": "576f991f-9014-47d2-a10d-f2ae406cae0f"
   },
   "outputs": [
    {
     "name": "stdout",
     "output_type": "stream",
     "text": [
      "8.56\n"
     ]
    }
   ],
   "source": [
    "print(abs(avg_marks))"
   ]
  },
  {
   "cell_type": "markdown",
   "metadata": {
    "id": "ZuHugE2-I-oq"
   },
   "source": [
    "# Chapter 4 - Functions and Loops"
   ]
  },
  {
   "cell_type": "markdown",
   "metadata": {
    "id": "TvlHAgV1I-oq"
   },
   "source": [
    "#### 3 Types of Function:\n",
    "* Predefined Functions  - is something which gets installed while you instal jupyter notebook.\n",
    "* Userdefined Functions - sequence of methods which repeated sequencially, ie, step by step - one after the another.\n",
    "* Anonymous Functions"
   ]
  },
  {
   "cell_type": "markdown",
   "metadata": {
    "id": "R6PG9shgI-or"
   },
   "source": [
    "## 4[a] Write your own functions"
   ]
  },
  {
   "cell_type": "code",
   "execution_count": null,
   "metadata": {
    "id": "HCUCU9SjI-or"
   },
   "outputs": [],
   "source": [
    "def chicken_shop():\n",
    "    print(\"250g of chicken\")\n",
    "    print(\"Ginger garlic Paste\")\n",
    "    print(\"4eggs\")"
   ]
  },
  {
   "cell_type": "code",
   "execution_count": null,
   "metadata": {
    "id": "YKlXqyqyI-or",
    "outputId": "e553c796-6f4d-47b4-d363-cb6210bbacf2"
   },
   "outputs": [
    {
     "name": "stdout",
     "output_type": "stream",
     "text": [
      "250g of chicken\n",
      "Ginger garlic Paste\n",
      "4eggs\n"
     ]
    }
   ],
   "source": [
    "chicken_shop()"
   ]
  },
  {
   "cell_type": "markdown",
   "metadata": {
    "id": "SbcWasI7I-or"
   },
   "source": [
    "#### Positional Argument"
   ]
  },
  {
   "cell_type": "code",
   "execution_count": null,
   "metadata": {
    "id": "dmKTWhDgI-or"
   },
   "outputs": [],
   "source": [
    "def add_numbers(num_1,num_2): #Arguments\n",
    "    print(\"Product of 2 numbers:\",num_1 * num_2)"
   ]
  },
  {
   "cell_type": "code",
   "execution_count": null,
   "metadata": {
    "id": "JvjcAPxvI-os",
    "outputId": "d75357a8-3b83-4fe4-ecaa-ed8b98870fde"
   },
   "outputs": [
    {
     "name": "stdout",
     "output_type": "stream",
     "text": [
      "Product of 2 numbers: 63\n"
     ]
    }
   ],
   "source": [
    "add_numbers(7,9) # Parameters"
   ]
  },
  {
   "cell_type": "code",
   "execution_count": null,
   "metadata": {
    "id": "qHw52ygsI-os",
    "outputId": "553c2e90-de7e-448c-ca83-d08aea061cc5"
   },
   "outputs": [
    {
     "name": "stdout",
     "output_type": "stream",
     "text": [
      "Product of 2 numbers: 30.24\n"
     ]
    }
   ],
   "source": [
    "add_numbers(5.4,5.6)"
   ]
  },
  {
   "cell_type": "code",
   "execution_count": null,
   "metadata": {
    "id": "-9N-i5v1I-os",
    "outputId": "bc37f3fa-daa4-4f6f-94f6-dd8ec7c7d559"
   },
   "outputs": [
    {
     "name": "stdout",
     "output_type": "stream",
     "text": [
      "Product of 2 numbers: 30\n"
     ]
    }
   ],
   "source": [
    "add_numbers(5,6)"
   ]
  },
  {
   "cell_type": "code",
   "execution_count": null,
   "metadata": {
    "id": "kzGJs7bnI-os"
   },
   "outputs": [],
   "source": [
    "#Get 3 different datatypes and create your own function which returns some meaningful statement."
   ]
  },
  {
   "cell_type": "code",
   "execution_count": null,
   "metadata": {
    "id": "uD4MsowbI-os"
   },
   "outputs": [],
   "source": [
    "def user_details(age,weight,name):\n",
    "    return \"You name is {} and you are {} years old and your weight is {} kg.\".format(name,age,weight)"
   ]
  },
  {
   "cell_type": "code",
   "execution_count": null,
   "metadata": {
    "id": "O82mQ6NkI-ot",
    "outputId": "fb2dec0b-c7b7-45ec-c171-59fdac8ca11f"
   },
   "outputs": [
    {
     "name": "stdout",
     "output_type": "stream",
     "text": [
      "You name is Dhanashree and you are 23 years old and your weight is 58.3 kg.\n"
     ]
    }
   ],
   "source": [
    "user_details(23,58.3,\"Dhanashree\")"
   ]
  },
  {
   "cell_type": "markdown",
   "metadata": {
    "id": "WU6fp11UI-ot"
   },
   "source": [
    "#### Default arguments"
   ]
  },
  {
   "cell_type": "code",
   "execution_count": null,
   "metadata": {
    "id": "cKHj1CLCI-ot"
   },
   "outputs": [],
   "source": [
    "def get_emp_details(name,age,sal,company = 'Google'):\n",
    "    print(\"Name:\", name)\n",
    "    print(\"Age:\" , age)\n",
    "    print(\"Salary:\",sal)\n",
    "    print(\"Company:\",company)"
   ]
  },
  {
   "cell_type": "code",
   "execution_count": null,
   "metadata": {
    "id": "DWp1jlKrI-ot",
    "outputId": "0cc3d8c5-6142-456f-f02d-36365acb3e61"
   },
   "outputs": [
    {
     "name": "stdout",
     "output_type": "stream",
     "text": [
      "Name: Dhanashree\n",
      "Age: 50\n",
      "Salary: 150000\n",
      "Company: Google\n"
     ]
    }
   ],
   "source": [
    "get_emp_details(age = 50, sal=150000, name = 'Sangeeta')"
   ]
  },
  {
   "cell_type": "code",
   "execution_count": null,
   "metadata": {
    "id": "ib73ehZcI-ot",
    "outputId": "482846e0-bead-4ba7-b985-991120152875"
   },
   "outputs": [
    {
     "name": "stdout",
     "output_type": "stream",
     "text": [
      "Name: Hritik\n",
      "Age: 25\n",
      "Salary: 50000\n",
      "Company: Microsoft\n"
     ]
    }
   ],
   "source": [
    "get_emp_details('Hritik', 25, 50000,'Microsoft')"
   ]
  },
  {
   "cell_type": "code",
   "execution_count": null,
   "metadata": {
    "id": "_6Mg-ch4I-ou",
    "outputId": "461d986f-e68c-469b-aad9-fbf48e883007"
   },
   "outputs": [
    {
     "name": "stdout",
     "output_type": "stream",
     "text": [
      "Name: Kumar\n",
      "Age: 27\n",
      "Salary: 90000\n",
      "Company: Google\n"
     ]
    }
   ],
   "source": [
    "get_emp_details('Kumar',27,90000)"
   ]
  },
  {
   "cell_type": "markdown",
   "metadata": {
    "id": "uNO8qFdOI-ou"
   },
   "source": [
    "#### Variable-length arguments"
   ]
  },
  {
   "cell_type": "code",
   "execution_count": null,
   "metadata": {
    "id": "czIkzafWI-ou",
    "outputId": "10a74d01-4ce4-4066-e51d-339b62862424"
   },
   "outputs": [
    {
     "name": "stdout",
     "output_type": "stream",
     "text": [
      "Name: Pravina\n",
      "Age: 24\n",
      "Salary: 45000\n",
      "Company: ('Google', 'Microsoft', 'IBM')\n"
     ]
    }
   ],
   "source": [
    "def get_emp_details(name,age,sal,*company):\n",
    "    print(\"Name:\", name)\n",
    "    print(\"Age:\" , age)\n",
    "    print(\"Salary:\",sal)\n",
    "    print(\"Company:\",company)\n",
    "get_emp_details('Pravina',24,45000,'Google','Microsoft','IBM')"
   ]
  },
  {
   "cell_type": "code",
   "execution_count": null,
   "metadata": {
    "id": "Tf4Cd3tcI-ou",
    "outputId": "af854c20-cbe1-4ae9-b841-2fdcf9b24013"
   },
   "outputs": [
    {
     "name": "stdout",
     "output_type": "stream",
     "text": [
      "Name: John\n",
      "Age: 28\n",
      "Salary: 20000\n",
      "Company: ('EXCELR', 'DecoderTechnology', 'RIA Academy', 'Dataebook')\n"
     ]
    }
   ],
   "source": [
    "get_emp_details('John',28,20000,'EXCELR','DecoderTechnology','RIA Academy','Dataebook')"
   ]
  },
  {
   "cell_type": "code",
   "execution_count": null,
   "metadata": {
    "id": "NNRuG1IFI-ov",
    "outputId": "295f541b-ec91-412f-ddcd-61752eec8013"
   },
   "outputs": [
    {
     "name": "stdout",
     "output_type": "stream",
     "text": [
      "Name: Pravina\n",
      "Age: 24\n",
      "Salary: 45000\n",
      "Company: {'company_1': 'Google', 'company_2': 'Microsoft', 'company_3': 'IBM'}\n"
     ]
    }
   ],
   "source": [
    "def get_emp_details(name,age,sal,**company):\n",
    "    print(\"Name:\", name)\n",
    "    print(\"Age:\" , age)\n",
    "    print(\"Salary:\",sal)\n",
    "    print(\"Company:\",company)\n",
    "get_emp_details('Pravina',24,45000,company_1 = 'Google',company_2 = 'Microsoft',company_3 ='IBM')"
   ]
  },
  {
   "cell_type": "markdown",
   "metadata": {
    "id": "dg5isYRRI-ov"
   },
   "source": [
    "## 4[b] Run in circles"
   ]
  },
  {
   "cell_type": "code",
   "execution_count": null,
   "metadata": {
    "id": "zn8Uo1o7I-ov",
    "outputId": "d18894d1-8264-4629-a26f-c0e3cbd41fec"
   },
   "outputs": [
    {
     "data": {
      "text/plain": [
       "[1, 2, 3, 4, 5, 6, 7, 8, 9, 10]"
      ]
     },
     "execution_count": 126,
     "metadata": {
      "tags": []
     },
     "output_type": "execute_result"
    }
   ],
   "source": [
    "a = [1,2,3,4,5,6,7,8,9,10]\n",
    "a"
   ]
  },
  {
   "cell_type": "code",
   "execution_count": null,
   "metadata": {
    "id": "clDTp1oWI-ow",
    "outputId": "0ed02c00-a343-47e0-dfe7-68501a479dd6"
   },
   "outputs": [
    {
     "name": "stdout",
     "output_type": "stream",
     "text": [
      "1\n",
      "2\n",
      "3\n",
      "4\n",
      "5\n",
      "6\n",
      "7\n",
      "8\n",
      "9\n",
      "10\n"
     ]
    }
   ],
   "source": [
    "for i in a:\n",
    "    print(i)"
   ]
  },
  {
   "cell_type": "code",
   "execution_count": null,
   "metadata": {
    "id": "tyfamoO2I-ow",
    "outputId": "6365eb50-5f12-4279-bb2c-65cd5ccb129b"
   },
   "outputs": [
    {
     "name": "stdout",
     "output_type": "stream",
     "text": [
      "1\n",
      "3\n",
      "5\n",
      "7\n",
      "9\n"
     ]
    }
   ],
   "source": [
    "for i in range(1,11,2):\n",
    "    print(i)"
   ]
  },
  {
   "cell_type": "markdown",
   "metadata": {
    "id": "WVKkyegEI-ox"
   },
   "source": [
    "## 4[c] Defintions with for loop"
   ]
  },
  {
   "cell_type": "code",
   "execution_count": null,
   "metadata": {
    "id": "vc2QL_6eI-ox",
    "outputId": "1f10f0bb-dee8-4100-b989-4ed3c8f47a53"
   },
   "outputs": [
    {
     "name": "stdout",
     "output_type": "stream",
     "text": [
      "N\n",
      "e\n",
      "h\n",
      "a\n"
     ]
    },
    {
     "data": {
      "text/plain": [
       "'Splitting is completed'"
      ]
     },
     "execution_count": 147,
     "metadata": {
      "tags": []
     },
     "output_type": "execute_result"
    }
   ],
   "source": [
    "def get_name(name):\n",
    "    for i in name:\n",
    "        print(i)\n",
    "    return \"Splitting is completed\"\n",
    "\n",
    "get_name(\"Neha\")"
   ]
  },
  {
   "cell_type": "markdown",
   "metadata": {
    "id": "289u8r6zI-ox"
   },
   "source": [
    "## ----------------------------------------------------------------------------------------------------------------"
   ]
  },
  {
   "cell_type": "markdown",
   "metadata": {
    "id": "-TokUu_ZI-ox"
   },
   "source": [
    "# Chapter 5 - Conditional logic"
   ]
  },
  {
   "cell_type": "markdown",
   "metadata": {
    "id": "1zd3NKuGI-ox"
   },
   "source": [
    "## 5[a] Compare values using Arithmentic Operators"
   ]
  },
  {
   "cell_type": "code",
   "execution_count": null,
   "metadata": {
    "id": "vsqJlBx3I-oy",
    "outputId": "1f3d8778-0ab6-4446-83c0-7967e0ce8e31"
   },
   "outputs": [
    {
     "data": {
      "text/plain": [
       "False"
      ]
     },
     "execution_count": 151,
     "metadata": {
      "tags": []
     },
     "output_type": "execute_result"
    }
   ],
   "source": [
    "1 == 5 # equal to"
   ]
  },
  {
   "cell_type": "code",
   "execution_count": null,
   "metadata": {
    "id": "4ovUf1zPI-oy",
    "outputId": "770fe885-7fa9-4bc8-e0d3-59ee242cd30a"
   },
   "outputs": [
    {
     "data": {
      "text/plain": [
       "True"
      ]
     },
     "execution_count": 155,
     "metadata": {
      "tags": []
     },
     "output_type": "execute_result"
    }
   ],
   "source": [
    "\"Sneha\" == \"Sneha\" # equal to"
   ]
  },
  {
   "cell_type": "code",
   "execution_count": null,
   "metadata": {
    "id": "2a93U7jdI-oy",
    "outputId": "3e8e4caf-1437-49d9-e20b-86b9d782c873"
   },
   "outputs": [
    {
     "data": {
      "text/plain": [
       "True"
      ]
     },
     "execution_count": 158,
     "metadata": {
      "tags": []
     },
     "output_type": "execute_result"
    }
   ],
   "source": [
    "1 != 5 #not equal to"
   ]
  },
  {
   "cell_type": "code",
   "execution_count": null,
   "metadata": {
    "id": "oIil0CneI-oy",
    "outputId": "68982b87-fc4e-4752-bd9e-4ed5c604afd1"
   },
   "outputs": [
    {
     "data": {
      "text/plain": [
       "False"
      ]
     },
     "execution_count": 159,
     "metadata": {
      "tags": []
     },
     "output_type": "execute_result"
    }
   ],
   "source": [
    "1 == '1'"
   ]
  },
  {
   "cell_type": "markdown",
   "metadata": {
    "id": "NTcaDq8oI-oz"
   },
   "source": [
    "## 5[b] Add some logic"
   ]
  },
  {
   "cell_type": "code",
   "execution_count": null,
   "metadata": {
    "id": "KRdbBPjYI-oz",
    "outputId": "6251c212-4554-4da6-e5f3-84e9253bb5be"
   },
   "outputs": [
    {
     "data": {
      "text/plain": [
       "True"
      ]
     },
     "execution_count": 165,
     "metadata": {
      "tags": []
     },
     "output_type": "execute_result"
    }
   ],
   "source": [
    "a = 5\n",
    "b = 10\n",
    "c = 15"
   ]
  },
  {
   "cell_type": "markdown",
   "metadata": {
    "id": "pRsn7V8dI-oz"
   },
   "source": [
    "#### AND Operator\n",
    "T T ---> T\n",
    "\n",
    "#### OR operator\n",
    "F F --> F"
   ]
  },
  {
   "cell_type": "code",
   "execution_count": 1,
   "metadata": {
    "colab": {
     "base_uri": "https://localhost:8080/",
     "height": 185
    },
    "executionInfo": {
     "elapsed": 20,
     "status": "error",
     "timestamp": 1626251633938,
     "user": {
      "displayName": "Darshan Jain",
      "photoUrl": "https://lh3.googleusercontent.com/a-/AOh14GjCkTb7EP6Gy6YAXYiIxwvxQFCrywhCPvRCG33S=s64",
      "userId": "00802527714332877293"
     },
     "user_tz": -330
    },
    "id": "cEjBmKcLI-oz",
    "outputId": "388aa046-8c2d-4f1c-a428-72b39d002b49"
   },
   "outputs": [
    {
     "ename": "NameError",
     "evalue": "ignored",
     "output_type": "error",
     "traceback": [
      "\u001b[0;31m---------------------------------------------------------------------------\u001b[0m",
      "\u001b[0;31mNameError\u001b[0m                                 Traceback (most recent call last)",
      "\u001b[0;32m<ipython-input-1-9620ab3ff114>\u001b[0m in \u001b[0;36m<module>\u001b[0;34m()\u001b[0m\n\u001b[1;32m      1\u001b[0m \u001b[0;31m#AND operator\u001b[0m\u001b[0;34m\u001b[0m\u001b[0;34m\u001b[0m\u001b[0;34m\u001b[0m\u001b[0m\n\u001b[0;32m----> 2\u001b[0;31m \u001b[0ma\u001b[0m\u001b[0;34m>\u001b[0m\u001b[0mb\u001b[0m \u001b[0;32mand\u001b[0m \u001b[0mb\u001b[0m\u001b[0;34m<\u001b[0m\u001b[0mc\u001b[0m\u001b[0;34m\u001b[0m\u001b[0;34m\u001b[0m\u001b[0m\n\u001b[0m",
      "\u001b[0;31mNameError\u001b[0m: name 'a' is not defined"
     ]
    }
   ],
   "source": [
    "#AND operator\n",
    "a>b and b<c"
   ]
  },
  {
   "cell_type": "code",
   "execution_count": null,
   "metadata": {
    "executionInfo": {
     "elapsed": 11,
     "status": "aborted",
     "timestamp": 1626251633932,
     "user": {
      "displayName": "Darshan Jain",
      "photoUrl": "https://lh3.googleusercontent.com/a-/AOh14GjCkTb7EP6Gy6YAXYiIxwvxQFCrywhCPvRCG33S=s64",
      "userId": "00802527714332877293"
     },
     "user_tz": -330
    },
    "id": "TV-HW6A5I-oz"
   },
   "outputs": [],
   "source": [
    "#OR operator\n",
    "a>b or b<c"
   ]
  },
  {
   "cell_type": "code",
   "execution_count": null,
   "metadata": {
    "executionInfo": {
     "elapsed": 15,
     "status": "aborted",
     "timestamp": 1626251633936,
     "user": {
      "displayName": "Darshan Jain",
      "photoUrl": "https://lh3.googleusercontent.com/a-/AOh14GjCkTb7EP6Gy6YAXYiIxwvxQFCrywhCPvRCG33S=s64",
      "userId": "00802527714332877293"
     },
     "user_tz": -330
    },
    "id": "1U126kRwI-o0"
   },
   "outputs": [],
   "source": [
    "#IN operator - checks whther the given word is present in my paragraph\n",
    "trainer_feedback  = \"Snehal Dalvi is a quick learner\"\n",
    "\"quick\" in trainer_feedback"
   ]
  },
  {
   "cell_type": "code",
   "execution_count": null,
   "metadata": {
    "executionInfo": {
     "elapsed": 16,
     "status": "aborted",
     "timestamp": 1626251633937,
     "user": {
      "displayName": "Darshan Jain",
      "photoUrl": "https://lh3.googleusercontent.com/a-/AOh14GjCkTb7EP6Gy6YAXYiIxwvxQFCrywhCPvRCG33S=s64",
      "userId": "00802527714332877293"
     },
     "user_tz": -330
    },
    "id": "0I98ScapI-o0"
   },
   "outputs": [],
   "source": [
    "#Not in\n",
    "\"quick\" not in trainer_feedback"
   ]
  },
  {
   "cell_type": "markdown",
   "metadata": {
    "id": "BSZ-TPBFI-o0"
   },
   "source": [
    "## 5[c] Control the flow of your program"
   ]
  },
  {
   "cell_type": "code",
   "execution_count": null,
   "metadata": {
    "id": "VJzCOB2dI-o0",
    "outputId": "90753937-6b8f-4699-e75c-8d9271d279b8"
   },
   "outputs": [
    {
     "name": "stdout",
     "output_type": "stream",
     "text": [
      "Type something...Vishal Biradar\n",
      "Your input is greater than 5 characters\n"
     ]
    }
   ],
   "source": [
    "#Simple ifele statement\n",
    "user_input = input(\"Type something...\")\n",
    "\n",
    "if len(user_input)<5:\n",
    "    print(\"Your input is less than 5 characters\")\n",
    "else:\n",
    "    print(\"Your input is greater than 5 characters\")"
   ]
  },
  {
   "cell_type": "code",
   "execution_count": null,
   "metadata": {
    "id": "m0ipWLlVI-o0",
    "outputId": "5e0c0e43-3b88-41cf-fbfb-9001d7d457bf"
   },
   "outputs": [
    {
     "name": "stdout",
     "output_type": "stream",
     "text": [
      "Type something...Sneha\n",
      "Your input is exactly equal to 5 characters\n"
     ]
    }
   ],
   "source": [
    "#Nestedif statement\n",
    "user_input = input(\"Type something...\")\n",
    "\n",
    "if len(user_input)<5:\n",
    "    print(\"Your input is less than 5 characters\")\n",
    "elif len(user_input)>5:\n",
    "    print(\"Your input is greater than 5 characters\")\n",
    "else:\n",
    "    print(\"Your input is exactly equal to 5 characters\")"
   ]
  },
  {
   "cell_type": "markdown",
   "metadata": {
    "id": "4Wb543FWI-o1"
   },
   "source": [
    "## 5[d] Challenge to find the factors of a number."
   ]
  },
  {
   "cell_type": "markdown",
   "metadata": {
    "id": "FJhVh5k1I-o1"
   },
   "source": [
    "#For eg, if input = 10, my output = 1,2,5,10.\n",
    "1. get input\n",
    "2. use for loop\n",
    "3. use if statement\n",
    "    if num % i == 0:\n",
    "        print()"
   ]
  },
  {
   "cell_type": "code",
   "execution_count": null,
   "metadata": {
    "id": "I8G08EBHI-o1",
    "outputId": "67d44dfb-11fe-4870-913b-169d5aacbf5d"
   },
   "outputs": [
    {
     "name": "stdout",
     "output_type": "stream",
     "text": [
      "Enter any number, I'll say the factors of the number you want..15\n",
      "1 is a factor of 15.\n",
      "3 is a factor of 15.\n",
      "5 is a factor of 15.\n",
      "15 is a factor of 15.\n"
     ]
    }
   ],
   "source": [
    "user_input = int(input(\"Enter any number, I'll say the factors of the number you want..\"))\n",
    "\n",
    "for i in range(1,user_input+1):\n",
    "    if user_input % i == 0:\n",
    "        print(\"{} is a factor of {}.\".format(i,user_input))"
   ]
  },
  {
   "cell_type": "markdown",
   "metadata": {
    "id": "OLYYoCrkI-o1"
   },
   "source": [
    "## 5[e] Break out of the pattern"
   ]
  },
  {
   "cell_type": "code",
   "execution_count": null,
   "metadata": {
    "id": "K82wtlOdI-o2",
    "outputId": "c5e50a1f-3e7f-4e18-b9e8-fa3e2bfe3362"
   },
   "outputs": [
    {
     "name": "stdout",
     "output_type": "stream",
     "text": [
      "Type q or Q to quit from this window:r\n",
      "Type q or Q to quit from this window:t\n",
      "Type q or Q to quit from this window:a\n"
     ]
    }
   ],
   "source": [
    "#Break with loop\n",
    "while True:\n",
    "    get_input = input(\"Type q or Q to quit from this window:\")\n",
    "    if get_input.lower() == 'a' and 'e' and 'i' and 'o' and 'u':\n",
    "        break"
   ]
  },
  {
   "cell_type": "code",
   "execution_count": null,
   "metadata": {
    "id": "l7O9qKCMI-o2",
    "outputId": "cc64ce51-616d-4643-d6de-4f4d8d51494b"
   },
   "outputs": [
    {
     "name": "stdout",
     "output_type": "stream",
     "text": [
      "1\n",
      "2\n",
      "4\n",
      "5\n",
      "7\n",
      "8\n",
      "10\n",
      "11\n",
      "13\n",
      "14\n",
      "16\n",
      "17\n",
      "19\n",
      "20\n",
      "22\n",
      "23\n",
      "25\n",
      "26\n",
      "28\n",
      "29\n",
      "31\n",
      "32\n",
      "34\n",
      "35\n",
      "37\n",
      "38\n",
      "40\n",
      "41\n",
      "43\n",
      "44\n",
      "46\n",
      "47\n",
      "49\n",
      "50\n",
      "52\n",
      "53\n",
      "55\n",
      "56\n",
      "58\n",
      "59\n",
      "61\n",
      "62\n",
      "64\n",
      "65\n",
      "67\n",
      "68\n",
      "70\n",
      "71\n",
      "73\n",
      "74\n",
      "76\n",
      "77\n",
      "79\n",
      "80\n",
      "82\n",
      "83\n",
      "85\n",
      "86\n",
      "88\n",
      "89\n",
      "91\n",
      "92\n",
      "94\n",
      "95\n",
      "97\n",
      "98\n"
     ]
    }
   ],
   "source": [
    "#continue inside loop\n",
    "for i in range(1,100):\n",
    "    if i%3 == 0:\n",
    "        continue\n",
    "    print(i)"
   ]
  },
  {
   "cell_type": "code",
   "execution_count": null,
   "metadata": {
    "id": "3WsPHrGmI-o2"
   },
   "outputs": [],
   "source": []
  }
 ],
 "metadata": {
  "colab": {
   "name": "Python Programming - Kickstart.ipynb",
   "provenance": []
  },
  "kernelspec": {
   "display_name": "Python 3",
   "language": "python",
   "name": "python3"
  },
  "language_info": {
   "codemirror_mode": {
    "name": "ipython",
    "version": 3
   },
   "file_extension": ".py",
   "mimetype": "text/x-python",
   "name": "python",
   "nbconvert_exporter": "python",
   "pygments_lexer": "ipython3",
   "version": "3.8.8"
  }
 },
 "nbformat": 4,
 "nbformat_minor": 1
}
