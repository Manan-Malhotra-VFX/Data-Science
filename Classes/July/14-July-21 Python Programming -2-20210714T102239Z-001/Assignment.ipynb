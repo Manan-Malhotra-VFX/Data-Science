{
 "cells": [
  {
   "cell_type": "markdown",
   "id": "ff2fe7d5",
   "metadata": {},
   "source": [
    "##### # Assignment - 1\n",
    "Submit 2 examples for each module.\n",
    "1. while loop\n",
    "2. for loop\n",
    "3. if else\n",
    "4. if elif else\n",
    "5. user defined functions without for loop, if loop\n",
    "6. user defined functions with for loop\n",
    "7. user defined functions with for loop and if loop\n",
    "8. break\n",
    "9. continue\n",
    "10. for loop with in operator\n",
    "11. for loop with if statement \n",
    "12. for loop with not in operator\n",
    "10. if with in operator\n",
    "11. if with not in operator"
   ]
  },
  {
   "cell_type": "markdown",
   "id": "52a3f871",
   "metadata": {},
   "source": [
    "## 1.while loop"
   ]
  },
  {
   "cell_type": "code",
   "execution_count": 2,
   "id": "280ee219",
   "metadata": {},
   "outputs": [
    {
     "name": "stdout",
     "output_type": "stream",
     "text": [
      "Enter your name: manan\n",
      "Wrong name entered\n",
      "Enter your name: hi\n",
      "Wrong name entered\n",
      "Enter your name: Manan\n",
      "Manan\n"
     ]
    }
   ],
   "source": [
    "while True:\n",
    "    var1=input(\"Enter your name: \")\n",
    "    var2=\"Manan\"\n",
    "    if var1==var2:\n",
    "        print(\"Manan\")\n",
    "        break\n",
    "    else:\n",
    "        print(\"Wrong name entered\")"
   ]
  },
  {
   "cell_type": "code",
   "execution_count": 3,
   "id": "e4b41830",
   "metadata": {
    "scrolled": true
   },
   "outputs": [
    {
     "name": "stdout",
     "output_type": "stream",
     "text": [
      "Enter your name: hi\n",
      "Wrong name entered\n",
      "Enter your name: manan\n",
      "Wrong name entered\n",
      "Enter your name: Manan\n",
      "Manan\n",
      "Enter your name: stop\n"
     ]
    }
   ],
   "source": [
    "while True:\n",
    "    var1=input(\"Enter your name: \")\n",
    "    var2=\"Manan\"\n",
    "    if var1==var2:\n",
    "        print(\"Manan\")\n",
    "        continue\n",
    "    elif var1==\"stop\":\n",
    "        break\n",
    "    else:\n",
    "        print(\"Wrong name entered\")"
   ]
  },
  {
   "cell_type": "markdown",
   "id": "65bbd1a7",
   "metadata": {},
   "source": [
    "## 2.for loop"
   ]
  },
  {
   "cell_type": "code",
   "execution_count": 18,
   "id": "3695adf6",
   "metadata": {},
   "outputs": [
    {
     "name": "stdout",
     "output_type": "stream",
     "text": [
      "Enter 1st number: 1\n",
      "Enter 2nd number: 30\n",
      "The Number within the range will have a diffence of 3 increments:\n",
      "1\n",
      "4\n",
      "7\n",
      "10\n",
      "13\n",
      "16\n",
      "19\n",
      "22\n",
      "25\n",
      "28\n"
     ]
    }
   ],
   "source": [
    "var1=int(input(\"Enter 1st number: \"))\n",
    "var2=int(input(\"Enter 2nd number: \"))\n",
    "print(\"The Number's within the range will have a diffence of 3 increments:\")\n",
    "for i in range(var1,var2,3):\n",
    "    print(i)"
   ]
  },
  {
   "cell_type": "code",
   "execution_count": 31,
   "id": "78e3b007",
   "metadata": {
    "scrolled": false
   },
   "outputs": [
    {
     "name": "stdout",
     "output_type": "stream",
     "text": [
      "Enter the number: 21\n",
      "Table of 21 is:\n",
      "21 X 1 = 21\n",
      "21 X 2 = 42\n",
      "21 X 3 = 63\n",
      "21 X 4 = 84\n",
      "21 X 5 = 105\n",
      "21 X 6 = 126\n",
      "21 X 7 = 147\n",
      "21 X 8 = 168\n",
      "21 X 9 = 189\n",
      "21 X 10 = 210\n"
     ]
    }
   ],
   "source": [
    "var1=int(input(\"Enter the number: \"))\n",
    "print(\"Table of {} is:\".format(var1))\n",
    "for i in range(1,11):\n",
    "    print(var1,\"X\",i,\"=\",var1*i)"
   ]
  },
  {
   "cell_type": "markdown",
   "id": "dbb95f32",
   "metadata": {},
   "source": [
    "## 3.if else"
   ]
  },
  {
   "cell_type": "code",
   "execution_count": 41,
   "id": "f901346e",
   "metadata": {},
   "outputs": [
    {
     "name": "stdout",
     "output_type": "stream",
     "text": [
      "Enter the number:1\n",
      "odd\n"
     ]
    }
   ],
   "source": [
    "var=int(input(\"Enter the number:\"))\n",
    "if var%2==0:\n",
    "    print(\"even\")\n",
    "else:\n",
    "    print(\"odd\")"
   ]
  },
  {
   "cell_type": "code",
   "execution_count": 42,
   "id": "683d2967",
   "metadata": {},
   "outputs": [
    {
     "name": "stdout",
     "output_type": "stream",
     "text": [
      "Enter the number:2\n",
      "Convert Even to Odd 3\n"
     ]
    }
   ],
   "source": [
    "var=int(input(\"Enter the number:\"))\n",
    "if var%2==0:\n",
    "    var=var+1\n",
    "    print(\"Convert Even to Odd\",var)\n",
    "else:\n",
    "    var=var+1\n",
    "    print(\"Convert Odd to Even\",var)"
   ]
  },
  {
   "cell_type": "markdown",
   "id": "c7fbfddd",
   "metadata": {},
   "source": [
    "## 4. if elif else"
   ]
  },
  {
   "cell_type": "code",
   "execution_count": 6,
   "id": "212aaab9",
   "metadata": {},
   "outputs": [
    {
     "name": "stdout",
     "output_type": "stream",
     "text": [
      "Enter the number0\n",
      "0\n"
     ]
    }
   ],
   "source": [
    "var=int(input(\"Enter the number\"))\n",
    "if var<0:\n",
    "    print(\"-ve\")\n",
    "elif var>0:\n",
    "    print(\"+ve\")\n",
    "else: \n",
    "    print(\"0\")"
   ]
  },
  {
   "cell_type": "code",
   "execution_count": 19,
   "id": "66494dd9",
   "metadata": {},
   "outputs": [
    {
     "name": "stdout",
     "output_type": "stream",
     "text": [
      "Enter the number21\n",
      "If value is more than 20 add 3:\t\t\t 24\n"
     ]
    }
   ],
   "source": [
    "var=int(input(\"Enter the number\"))\n",
    "if var<10:\n",
    "    var=var+1\n",
    "    print(\"If value is less than 10 add 1:\\t\",var)\n",
    "elif var<20:\n",
    "    var=var+2\n",
    "    print(\"If value is less than 20 add 2:\\t\",var)\n",
    "else: \n",
    "    var=var+3\n",
    "    print(\"If value is more than 20 add 3:\\t\",var)"
   ]
  },
  {
   "cell_type": "markdown",
   "id": "07190e37",
   "metadata": {},
   "source": [
    "##  5.user defined functions without for loop, if loop"
   ]
  },
  {
   "cell_type": "code",
   "execution_count": 23,
   "id": "dd2da586",
   "metadata": {},
   "outputs": [
    {
     "data": {
      "text/plain": [
       "5"
      ]
     },
     "execution_count": 23,
     "metadata": {},
     "output_type": "execute_result"
    }
   ],
   "source": [
    "def func(var1,var2):\n",
    "    sum=var1+var2\n",
    "    return sum\n",
    "func(2,3)"
   ]
  },
  {
   "cell_type": "code",
   "execution_count": 24,
   "id": "2d9436f4",
   "metadata": {},
   "outputs": [
    {
     "data": {
      "text/plain": [
       "6"
      ]
     },
     "execution_count": 24,
     "metadata": {},
     "output_type": "execute_result"
    }
   ],
   "source": [
    "def func(var1,var2):\n",
    "    mul=var1*var2\n",
    "    return mul\n",
    "func(2,3)"
   ]
  },
  {
   "cell_type": "markdown",
   "id": "65dbac58",
   "metadata": {},
   "source": [
    "## 6.user defined functions with for loop"
   ]
  },
  {
   "cell_type": "code",
   "execution_count": 18,
   "id": "4c2d85cb",
   "metadata": {},
   "outputs": [
    {
     "name": "stdout",
     "output_type": "stream",
     "text": [
      "56 X 1 = 56\n",
      "56 X 2 = 112\n",
      "56 X 3 = 168\n",
      "56 X 4 = 224\n",
      "56 X 5 = 280\n",
      "56 X 6 = 336\n",
      "56 X 7 = 392\n",
      "56 X 8 = 448\n",
      "56 X 9 = 504\n",
      "56 X 10 = 560\n"
     ]
    }
   ],
   "source": [
    "def func(var1):\n",
    "    for i in range(1,11):\n",
    "        print(var1,\"X\",i,\"=\",var1*i)  \n",
    "func(56)"
   ]
  },
  {
   "cell_type": "code",
   "execution_count": 23,
   "id": "2357793d",
   "metadata": {},
   "outputs": [
    {
     "name": "stdout",
     "output_type": "stream",
     "text": [
      "Numbers in range entered are:\n",
      "1\n",
      "2\n",
      "3\n",
      "4\n",
      "5\n",
      "6\n",
      "7\n",
      "8\n",
      "9\n",
      "10\n"
     ]
    }
   ],
   "source": [
    "def func(var1,var2):\n",
    "    print(\"Numbers in range entered are:\")\n",
    "    for i in range(var1,var2):\n",
    "        print(i)  \n",
    "func(1,11)"
   ]
  },
  {
   "cell_type": "markdown",
   "id": "8eefccf2",
   "metadata": {},
   "source": [
    "## 7.user defined functions with for loop and if loop"
   ]
  },
  {
   "cell_type": "code",
   "execution_count": 42,
   "id": "f251f39e",
   "metadata": {},
   "outputs": [
    {
     "name": "stdout",
     "output_type": "stream",
     "text": [
      "Even numbers: 2\n",
      "Even numbers: 4\n",
      "Even numbers: 6\n",
      "Even numbers: 8\n",
      "Even numbers: 10\n",
      "Even numbers: 12\n",
      "Even numbers: 14\n",
      "Even numbers: 16\n",
      "Even numbers: 18\n"
     ]
    }
   ],
   "source": [
    "def func(var1,var2,var3):\n",
    "    for i in range(var1,var2):\n",
    "        if var3%2==0:\n",
    "            print(\"Even numbers:\",i*2)\n",
    "        else:                            \n",
    "            print(\"Odd Numbers:\",i)\n",
    "func(1,10,2)        "
   ]
  },
  {
   "cell_type": "code",
   "execution_count": 23,
   "id": "4202f185",
   "metadata": {},
   "outputs": [
    {
     "name": "stdout",
     "output_type": "stream",
     "text": [
      "1\n",
      "2\n",
      "5\n",
      "10\n"
     ]
    }
   ],
   "source": [
    "def func(var1):\n",
    "    for i in range(1,var1+1):\n",
    "        if var1%i==0:\n",
    "             print(i)\n",
    "func(10)"
   ]
  },
  {
   "cell_type": "markdown",
   "id": "f6a55d71",
   "metadata": {},
   "source": [
    "## 8.break\n"
   ]
  },
  {
   "cell_type": "code",
   "execution_count": 27,
   "id": "87161847",
   "metadata": {},
   "outputs": [
    {
     "name": "stdout",
     "output_type": "stream",
     "text": [
      "Enter your name: fo\n",
      "Wrong name entered\n",
      "Enter your name: manan\n",
      "Wrong name entered\n",
      "Enter your name: Manan\n",
      "Manan\n"
     ]
    }
   ],
   "source": [
    "while True:\n",
    "    var1=input(\"Enter your name: \")\n",
    "    var2=\"Manan\"\n",
    "    if var1==var2:\n",
    "        print(\"Manan\")\n",
    "        break\n",
    "    else:\n",
    "        print(\"Wrong name entered\")"
   ]
  },
  {
   "cell_type": "code",
   "execution_count": 32,
   "id": "932078e5",
   "metadata": {},
   "outputs": [
    {
     "name": "stdout",
     "output_type": "stream",
     "text": [
      "Enter your name: sd\n",
      "Enter your name: hi\n",
      "Enter your name: QUIT\n"
     ]
    }
   ],
   "source": [
    "while True:\n",
    "    var1=input(\"Enter your name: \")\n",
    "    if var1.lower()==\"quit\":\n",
    "        break\n",
    "    "
   ]
  },
  {
   "cell_type": "markdown",
   "id": "61c1aa5a",
   "metadata": {},
   "source": [
    "## 9.continue"
   ]
  },
  {
   "cell_type": "code",
   "execution_count": 33,
   "id": "e0b4635f",
   "metadata": {},
   "outputs": [
    {
     "name": "stdout",
     "output_type": "stream",
     "text": [
      "Enter your name: iih\n",
      "Wrong name entered\n",
      "Enter your name: manan\n",
      "Wrong name entered\n",
      "Enter your name: MAnan\n",
      "Wrong name entered\n",
      "Enter your name: Manan\n",
      "Manan\n",
      "Enter your name: stop\n"
     ]
    }
   ],
   "source": [
    "while True:\n",
    "    var1=input(\"Enter your name: \")\n",
    "    var2=\"Manan\"\n",
    "    if var1==var2:\n",
    "        print(\"Manan\")\n",
    "        continue\n",
    "    elif var1==\"stop\":\n",
    "        break\n",
    "    else:\n",
    "        print(\"Wrong name entered\")"
   ]
  },
  {
   "cell_type": "code",
   "execution_count": 35,
   "id": "25e5bc8f",
   "metadata": {},
   "outputs": [
    {
     "name": "stdout",
     "output_type": "stream",
     "text": [
      "Enter manan: manan\n",
      "Enter manan: manan\n",
      "Enter manan: sdfdf\n"
     ]
    }
   ],
   "source": [
    "while True:\n",
    "    var1=input(\"Enter manan: \")\n",
    "    if var1.lower()==\"manan\":\n",
    "        continue\n",
    "    else:\n",
    "        break\n",
    "        \n",
    "    "
   ]
  },
  {
   "cell_type": "markdown",
   "id": "e56e6a58",
   "metadata": {},
   "source": [
    "## 10.for loop with in operator"
   ]
  },
  {
   "cell_type": "code",
   "execution_count": 70,
   "id": "485d6515",
   "metadata": {
    "scrolled": true
   },
   "outputs": [
    {
     "name": "stdout",
     "output_type": "stream",
     "text": [
      "H\n",
      "i\n",
      " \n",
      "I\n",
      " \n",
      "a\n",
      "m\n",
      " \n",
      "M\n",
      "a\n",
      "n\n",
      "a\n",
      "n\n",
      " \n",
      "M\n",
      "a\n",
      "l\n",
      "h\n",
      "o\n",
      "t\n",
      "r\n",
      "a\n"
     ]
    }
   ],
   "source": [
    "var=\"Hi I am Manan Malhotra\"\n",
    "for i in var:\n",
    "    if \"Manan\" in var:\n",
    "        print(i)"
   ]
  },
  {
   "cell_type": "code",
   "execution_count": 83,
   "id": "14a0ab3e",
   "metadata": {},
   "outputs": [
    {
     "name": "stdout",
     "output_type": "stream",
     "text": [
      "Hi I am MANAN Malhotra\n"
     ]
    }
   ],
   "source": [
    "var=\"Hi I am Manan Malhotra\"\n",
    "for i in var:\n",
    "    if \"Manan\" in var:\n",
    "        var=var.replace(\"Manan\",\"MANAN\")\n",
    "        print(var)"
   ]
  },
  {
   "cell_type": "markdown",
   "id": "af1e8b7b",
   "metadata": {},
   "source": [
    "## 11.for loop with if statement"
   ]
  },
  {
   "cell_type": "code",
   "execution_count": 46,
   "id": "60c526b9",
   "metadata": {},
   "outputs": [
    {
     "name": "stdout",
     "output_type": "stream",
     "text": [
      "Enter 1st number1\n",
      "Enter 2nd number11\n",
      "Enter 1 or 2 (1 for odd and 2 for even)  number2\n",
      "Even numbers: 2\n",
      "Even numbers: 4\n",
      "Even numbers: 6\n",
      "Even numbers: 8\n",
      "Even numbers: 10\n",
      "Even numbers: 12\n",
      "Even numbers: 14\n",
      "Even numbers: 16\n",
      "Even numbers: 18\n",
      "Even numbers: 20\n"
     ]
    }
   ],
   "source": [
    "var1=int(input(\"Enter 1st number\"))\n",
    "var2=int(input(\"Enter 2nd number\"))\n",
    "var3=int(input(\"Enter 1 or 2 (1 for odd and 2 for even)  number\"))\n",
    "for i in range(var1,var2):\n",
    "        if var3%2==0:\n",
    "            print(\"Even numbers:\",i*2)\n",
    "        else:                            \n",
    "            print(\"Odd Numbers:\",i)"
   ]
  },
  {
   "cell_type": "code",
   "execution_count": 50,
   "id": "0811e8d2",
   "metadata": {},
   "outputs": [
    {
     "name": "stdout",
     "output_type": "stream",
     "text": [
      "Enter the number:20\n",
      "1\n",
      "2\n",
      "4\n",
      "5\n",
      "10\n",
      "20\n",
      "Factors of  20\n"
     ]
    }
   ],
   "source": [
    "var1=int(input(\"Enter the number:\"))\n",
    "for i in range(1,var1+1):\n",
    "    if var1%i==0:\n",
    "        print(i)\n",
    "print(\"Factors of \",var1)        "
   ]
  },
  {
   "cell_type": "markdown",
   "id": "a2d9c714",
   "metadata": {},
   "source": [
    "## 12.for loop with not in operator"
   ]
  },
  {
   "cell_type": "code",
   "execution_count": 76,
   "id": "f1b0bbcf",
   "metadata": {
    "scrolled": true
   },
   "outputs": [
    {
     "name": "stdout",
     "output_type": "stream",
     "text": [
      "H\n",
      "i\n",
      " \n",
      "I\n",
      " \n",
      "a\n",
      "m\n",
      " \n",
      "M\n",
      "a\n",
      "n\n",
      "a\n",
      "n\n",
      " \n",
      "M\n",
      "a\n",
      "l\n",
      "h\n",
      "o\n",
      "t\n",
      "r\n",
      "a\n"
     ]
    }
   ],
   "source": [
    "var=\"Hi I am Manan Malhotra\"\n",
    "for i in var:\n",
    "    if \"manan\" not in var:\n",
    "        print(i)"
   ]
  },
  {
   "cell_type": "code",
   "execution_count": 77,
   "id": "da7ad003",
   "metadata": {},
   "outputs": [
    {
     "data": {
      "text/plain": [
       "'Hi I am MANAN Malhotra'"
      ]
     },
     "execution_count": 77,
     "metadata": {},
     "output_type": "execute_result"
    }
   ],
   "source": [
    "var=\"Hi I am Manan Malhotra\"\n",
    "for i in var:\n",
    "    if \"manan\" not in var:\n",
    "        var=var.replace(\"Manan\",\"MANAN\")\n",
    "var        "
   ]
  },
  {
   "cell_type": "markdown",
   "id": "b661e3a6",
   "metadata": {},
   "source": [
    "## 13.if with in operator"
   ]
  },
  {
   "cell_type": "code",
   "execution_count": 80,
   "id": "b8b776c8",
   "metadata": {},
   "outputs": [
    {
     "name": "stdout",
     "output_type": "stream",
     "text": [
      "Hi I am Manan Malhotra\n"
     ]
    }
   ],
   "source": [
    "var=\"Hi I am Manan Malhotra\"\n",
    "if \"Manan\" in var:\n",
    "    print(var)"
   ]
  },
  {
   "cell_type": "code",
   "execution_count": 84,
   "id": "e3f45172",
   "metadata": {},
   "outputs": [
    {
     "data": {
      "text/plain": [
       "'Hi I am MANAN Malhotra'"
      ]
     },
     "execution_count": 84,
     "metadata": {},
     "output_type": "execute_result"
    }
   ],
   "source": [
    "var=\"Hi I am Manan Malhotra\"\n",
    "if \"Manan\" in var:\n",
    "    var=var.replace(\"Manan\",\"MANAN\")\n",
    "var       "
   ]
  },
  {
   "cell_type": "markdown",
   "id": "bb797ff1",
   "metadata": {},
   "source": [
    "## 14.if with not in operator"
   ]
  },
  {
   "cell_type": "code",
   "execution_count": 86,
   "id": "76e326e5",
   "metadata": {},
   "outputs": [
    {
     "name": "stdout",
     "output_type": "stream",
     "text": [
      "Hi I am Manan Malhotra\n"
     ]
    }
   ],
   "source": [
    "var=\"Hi I am Manan Malhotra\"\n",
    "if \"manan\" not in var:\n",
    "    print(var)"
   ]
  },
  {
   "cell_type": "code",
   "execution_count": 88,
   "id": "80c20c0c",
   "metadata": {},
   "outputs": [
    {
     "data": {
      "text/plain": [
       "'Hi I am MANAN Malhotra'"
      ]
     },
     "execution_count": 88,
     "metadata": {},
     "output_type": "execute_result"
    }
   ],
   "source": [
    "var=\"Hi I am Manan Malhotra\"\n",
    "if \"manan\" not in var:\n",
    "    var=var.replace(\"Manan\",\"MANAN\")\n",
    "var        "
   ]
  }
 ],
 "metadata": {
  "kernelspec": {
   "display_name": "Python 3",
   "language": "python",
   "name": "python3"
  },
  "language_info": {
   "codemirror_mode": {
    "name": "ipython",
    "version": 3
   },
   "file_extension": ".py",
   "mimetype": "text/x-python",
   "name": "python",
   "nbconvert_exporter": "python",
   "pygments_lexer": "ipython3",
   "version": "3.8.8"
  }
 },
 "nbformat": 4,
 "nbformat_minor": 5
}
