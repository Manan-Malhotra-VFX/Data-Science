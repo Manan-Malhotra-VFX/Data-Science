{
 "cells": [
  {
   "cell_type": "markdown",
   "metadata": {},
   "source": [
    "# Statistical Tests"
   ]
  },
  {
   "cell_type": "markdown",
   "metadata": {},
   "source": [
    "## 1. Chi-squared Test\n",
    "\n",
    "##### Purpose: To find is there any siginifant association/relationship between 2 qualitative variables."
   ]
  },
  {
   "cell_type": "code",
   "execution_count": 2,
   "metadata": {},
   "outputs": [],
   "source": [
    "import seaborn as sns\n",
    "import pandas as pd\n",
    "import numpy as np\n",
    "import scipy.stats as stats"
   ]
  },
  {
   "cell_type": "code",
   "execution_count": 4,
   "metadata": {},
   "outputs": [
    {
     "data": {
      "text/plain": [
       "['anagrams',\n",
       " 'anscombe',\n",
       " 'attention',\n",
       " 'brain_networks',\n",
       " 'car_crashes',\n",
       " 'diamonds',\n",
       " 'dots',\n",
       " 'exercise',\n",
       " 'flights',\n",
       " 'fmri',\n",
       " 'gammas',\n",
       " 'geyser',\n",
       " 'iris',\n",
       " 'mpg',\n",
       " 'penguins',\n",
       " 'planets',\n",
       " 'tips',\n",
       " 'titanic']"
      ]
     },
     "execution_count": 4,
     "metadata": {},
     "output_type": "execute_result"
    }
   ],
   "source": [
    "sns.get_dataset_names()"
   ]
  },
  {
   "cell_type": "code",
   "execution_count": 6,
   "metadata": {},
   "outputs": [
    {
     "data": {
      "text/html": [
       "<div>\n",
       "<style scoped>\n",
       "    .dataframe tbody tr th:only-of-type {\n",
       "        vertical-align: middle;\n",
       "    }\n",
       "\n",
       "    .dataframe tbody tr th {\n",
       "        vertical-align: top;\n",
       "    }\n",
       "\n",
       "    .dataframe thead th {\n",
       "        text-align: right;\n",
       "    }\n",
       "</style>\n",
       "<table border=\"1\" class=\"dataframe\">\n",
       "  <thead>\n",
       "    <tr style=\"text-align: right;\">\n",
       "      <th></th>\n",
       "      <th>total_bill</th>\n",
       "      <th>tip</th>\n",
       "      <th>sex</th>\n",
       "      <th>smoker</th>\n",
       "      <th>day</th>\n",
       "      <th>time</th>\n",
       "      <th>size</th>\n",
       "    </tr>\n",
       "  </thead>\n",
       "  <tbody>\n",
       "    <tr>\n",
       "      <th>0</th>\n",
       "      <td>16.99</td>\n",
       "      <td>1.01</td>\n",
       "      <td>Female</td>\n",
       "      <td>No</td>\n",
       "      <td>Sun</td>\n",
       "      <td>Dinner</td>\n",
       "      <td>2</td>\n",
       "    </tr>\n",
       "    <tr>\n",
       "      <th>1</th>\n",
       "      <td>10.34</td>\n",
       "      <td>1.66</td>\n",
       "      <td>Male</td>\n",
       "      <td>No</td>\n",
       "      <td>Sun</td>\n",
       "      <td>Dinner</td>\n",
       "      <td>3</td>\n",
       "    </tr>\n",
       "    <tr>\n",
       "      <th>2</th>\n",
       "      <td>21.01</td>\n",
       "      <td>3.50</td>\n",
       "      <td>Male</td>\n",
       "      <td>No</td>\n",
       "      <td>Sun</td>\n",
       "      <td>Dinner</td>\n",
       "      <td>3</td>\n",
       "    </tr>\n",
       "    <tr>\n",
       "      <th>3</th>\n",
       "      <td>23.68</td>\n",
       "      <td>3.31</td>\n",
       "      <td>Male</td>\n",
       "      <td>No</td>\n",
       "      <td>Sun</td>\n",
       "      <td>Dinner</td>\n",
       "      <td>2</td>\n",
       "    </tr>\n",
       "    <tr>\n",
       "      <th>4</th>\n",
       "      <td>24.59</td>\n",
       "      <td>3.61</td>\n",
       "      <td>Female</td>\n",
       "      <td>No</td>\n",
       "      <td>Sun</td>\n",
       "      <td>Dinner</td>\n",
       "      <td>4</td>\n",
       "    </tr>\n",
       "  </tbody>\n",
       "</table>\n",
       "</div>"
      ],
      "text/plain": [
       "   total_bill   tip     sex smoker  day    time  size\n",
       "0       16.99  1.01  Female     No  Sun  Dinner     2\n",
       "1       10.34  1.66    Male     No  Sun  Dinner     3\n",
       "2       21.01  3.50    Male     No  Sun  Dinner     3\n",
       "3       23.68  3.31    Male     No  Sun  Dinner     2\n",
       "4       24.59  3.61  Female     No  Sun  Dinner     4"
      ]
     },
     "execution_count": 6,
     "metadata": {},
     "output_type": "execute_result"
    }
   ],
   "source": [
    "tips_data = sns.load_dataset('tips')\n",
    "tips_data.head()"
   ]
  },
  {
   "cell_type": "markdown",
   "metadata": {},
   "source": [
    "## 1. Perform Initial Analysis"
   ]
  },
  {
   "cell_type": "code",
   "execution_count": 27,
   "metadata": {},
   "outputs": [
    {
     "data": {
      "text/html": [
       "<div>\n",
       "<style scoped>\n",
       "    .dataframe tbody tr th:only-of-type {\n",
       "        vertical-align: middle;\n",
       "    }\n",
       "\n",
       "    .dataframe tbody tr th {\n",
       "        vertical-align: top;\n",
       "    }\n",
       "\n",
       "    .dataframe thead th {\n",
       "        text-align: right;\n",
       "    }\n",
       "</style>\n",
       "<table border=\"1\" class=\"dataframe\">\n",
       "  <thead>\n",
       "    <tr style=\"text-align: right;\">\n",
       "      <th>smoker</th>\n",
       "      <th>Yes</th>\n",
       "      <th>No</th>\n",
       "    </tr>\n",
       "    <tr>\n",
       "      <th>sex</th>\n",
       "      <th></th>\n",
       "      <th></th>\n",
       "    </tr>\n",
       "  </thead>\n",
       "  <tbody>\n",
       "    <tr>\n",
       "      <th>Male</th>\n",
       "      <td>60</td>\n",
       "      <td>97</td>\n",
       "    </tr>\n",
       "    <tr>\n",
       "      <th>Female</th>\n",
       "      <td>33</td>\n",
       "      <td>54</td>\n",
       "    </tr>\n",
       "  </tbody>\n",
       "</table>\n",
       "</div>"
      ],
      "text/plain": [
       "smoker  Yes  No\n",
       "sex            \n",
       "Male     60  97\n",
       "Female   33  54"
      ]
     },
     "execution_count": 27,
     "metadata": {},
     "output_type": "execute_result"
    }
   ],
   "source": [
    "sex_smoker_data = pd.crosstab(index = tips_data.sex, columns = tips_data.smoker)\n",
    "sex_smoker_data"
   ]
  },
  {
   "cell_type": "code",
   "execution_count": 35,
   "metadata": {},
   "outputs": [
    {
     "name": "stdout",
     "output_type": "stream",
     "text": [
      "Chi-square score is 0.008763290531773594.\n",
      "p value is 0.925417020494423.\n",
      "df is 1.\n",
      "Expected table is \n",
      "[[59.84016393 97.15983607]\n",
      " [33.15983607 53.84016393]]\n"
     ]
    }
   ],
   "source": [
    "chi_square_tscore,pval,df,exp_table = stats.chi2_contingency(sex_smoker_data)\n",
    "print('Chi-square score is {}.\\np value is {}.\\ndf is {}.\\nExpected table is \\n{}'.format(chi_square_tscore,pval,df,exp_table))"
   ]
  },
  {
   "cell_type": "code",
   "execution_count": 36,
   "metadata": {},
   "outputs": [
    {
     "name": "stdout",
     "output_type": "stream",
     "text": [
      "We do not reject the null hypothesis saying that there is no significant relationship between smoker and sex\n"
     ]
    }
   ],
   "source": [
    "if pval<0.05:\n",
    "    print(\"We reject the null hypothesis saying that there is a significant relationship between smoker and sex.\")\n",
    "else:\n",
    "    print(\"We do not reject the null hypothesis saying that there is no significant relationship between smoker and sex.\")"
   ]
  },
  {
   "cell_type": "markdown",
   "metadata": {},
   "source": [
    "## ----------------------------------------------------------------------------------------------------------------------"
   ]
  },
  {
   "cell_type": "markdown",
   "metadata": {},
   "source": [
    "## 2. T - test\n",
    "* 1 sample t test\n",
    "* 2 sample t test\n",
    "* Paired test\n",
    "* 3 sample test - ANOVA"
   ]
  },
  {
   "cell_type": "markdown",
   "metadata": {},
   "source": [
    "### 1 Sample t test"
   ]
  },
  {
   "cell_type": "code",
   "execution_count": 37,
   "metadata": {},
   "outputs": [
    {
     "data": {
      "text/plain": [
       "25"
      ]
     },
     "execution_count": 37,
     "metadata": {},
     "output_type": "execute_result"
    }
   ],
   "source": [
    "ages = [20,25,30,35,20,19,20,25,27,28,40,35,40,20,23,26,27,28,29,30,31,33,36,21,22]\n",
    "len(ages)"
   ]
  },
  {
   "cell_type": "code",
   "execution_count": 40,
   "metadata": {},
   "outputs": [
    {
     "data": {
      "text/plain": [
       "28.0"
      ]
     },
     "execution_count": 40,
     "metadata": {},
     "output_type": "execute_result"
    }
   ],
   "source": [
    "round(np.mean(ages)) # Average age of the entire population"
   ]
  },
  {
   "cell_type": "code",
   "execution_count": 44,
   "metadata": {},
   "outputs": [
    {
     "data": {
      "text/plain": [
       "array([27, 25, 20, 30, 25])"
      ]
     },
     "execution_count": 44,
     "metadata": {},
     "output_type": "execute_result"
    }
   ],
   "source": [
    "randam_selection = np.random.choice(ages,size=5)\n",
    "randam_selection"
   ]
  },
  {
   "cell_type": "code",
   "execution_count": 45,
   "metadata": {},
   "outputs": [],
   "source": [
    "from scipy.stats import ttest_1samp # to perform one sample t test"
   ]
  },
  {
   "cell_type": "code",
   "execution_count": 47,
   "metadata": {},
   "outputs": [],
   "source": [
    "t_value, pval = ttest_1samp(randam_selection,28)"
   ]
  },
  {
   "cell_type": "code",
   "execution_count": 48,
   "metadata": {},
   "outputs": [
    {
     "name": "stdout",
     "output_type": "stream",
     "text": [
      "We do not reject the null hypothesis saying that there is no significant difference between average age of pop and sample\n"
     ]
    }
   ],
   "source": [
    "if pval<0.05:\n",
    "    print(\"We reject the null hypothesis saying that there is a significant difference between average age of pop and samp\")\n",
    "else:\n",
    "    print(\"We do not reject the null hypothesis saying that there is no significant difference between average age of pop and sample\")"
   ]
  },
  {
   "cell_type": "markdown",
   "metadata": {},
   "source": [
    "#### 2 Sample t test"
   ]
  },
  {
   "cell_type": "code",
   "execution_count": 49,
   "metadata": {},
   "outputs": [],
   "source": [
    "from scipy.stats import ttest_ind"
   ]
  },
  {
   "cell_type": "code",
   "execution_count": 53,
   "metadata": {},
   "outputs": [
    {
     "name": "stdout",
     "output_type": "stream",
     "text": [
      "statistics 0.6347264748233893 \n",
      " pvalue is 0.5358425325708169\n",
      "null hypothesis will not be rejected\n"
     ]
    }
   ],
   "source": [
    "#Sangeeta\n",
    "hostelers=[80,60,70,90,40,50,60,80]\n",
    "day_borders=[40,50,80,60,60,50,70,80]\n",
    "statistics,pvalue=ttest_ind(hostelers,day_borders)\n",
    "print(\"statistics {} \\n pvalue is {}\".format(statistics,pvalue))\n",
    "\n",
    "if (pvalue < 0.05):\n",
    "    print(\"null hypothesis will be rejected\")\n",
    "else:\n",
    "    print(\"null hypothesis will not be rejected\")\n"
   ]
  },
  {
   "cell_type": "code",
   "execution_count": 51,
   "metadata": {},
   "outputs": [
    {
     "name": "stdout",
     "output_type": "stream",
     "text": [
      "We do not reject the null hypothesis saying that there is no ignificant difference in weight(gms) b/w Apples from Farm A compared to Farm B\n"
     ]
    }
   ],
   "source": [
    "#Manju Kiran\n",
    "farm_a=[100,120,95,90,105,110,99,92,119,112]\n",
    "farm_b=[90,98,82,73,110,120,118,120,100,90]\n",
    "ttest_ind(farm_a,farm_b)\n",
    "\n",
    "if pval<0.05:\n",
    "    print(\"We reject the null hypothesis saying there is a significant difference in weight(gms) b/w Apples from Farm A compared to Farm B\")\n",
    "else:\n",
    "    print(\"We do not reject the null hypothesis saying that there is no ignificant difference in weight(gms) b/w Apples from Farm A compared to Farm B\")\n"
   ]
  },
  {
   "cell_type": "code",
   "execution_count": 54,
   "metadata": {},
   "outputs": [
    {
     "name": "stdout",
     "output_type": "stream",
     "text": [
      "Statistic value is -4.822894284384691 and pval is 0.0013164978992511245\n"
     ]
    }
   ],
   "source": [
    "#Dhanashree\n",
    "from scipy.stats import ttest_ind\n",
    "vaccine1= pd.Series([20,30,40,50,70])\n",
    "vaccine2=pd.Series([100,120,150,200,115])\n",
    "statistic,pval =ttest_ind(vaccine1,vaccine2)\n",
    "print('Statistic value is {} and pval is {}'.format(statistic,pval))\n",
    "#HO: no significant change in vaccine1 people from vaccine 2\n",
    "#Ha: there is significant change in vaccine 1 people from vaccine 2\n",
    "\n",
    "#INFERENCE: VACCINE1 IS EFFECTIVE THAN VACCINE 2"
   ]
  },
  {
   "cell_type": "code",
   "execution_count": 56,
   "metadata": {},
   "outputs": [
    {
     "name": "stdout",
     "output_type": "stream",
     "text": [
      "statistics is 6.170946051643655\n",
      " pvalue is 7.95610232719977e-06\n",
      "There is significant difference in strength produced by them\n",
      "cement produced more strenght\n"
     ]
    }
   ],
   "source": [
    "#Rooba\n",
    "cement_str=[20,30,25,35,40,45,37,34,56,47]\n",
    "flyash_str=[10,21,15,17,14,17,19,9,10,14]\n",
    "mean_cement_str=np.mean(cement_str)\n",
    "mean_flyash_str=np.mean(flyash_str)\n",
    "statistic,pvalue=ttest_ind(cement_str,flyash_str)\n",
    "print('statistics is {}\\n pvalue is {}'.format(statistic,pvalue))\n",
    "\n",
    "if pvalue<0.05:\n",
    "    print('There is significant difference in strength produced by them')\n",
    "else:\n",
    "    print('The average strength produced by fly-ash is same as that of cement')\n",
    "\n",
    "if mean_cement_str>mean_flyash_str:\n",
    "    print('cement produced more strenght')\n",
    "else:\n",
    "    print('flyash have more strenght')"
   ]
  },
  {
   "cell_type": "markdown",
   "metadata": {},
   "source": [
    "#### Paired t test"
   ]
  },
  {
   "cell_type": "code",
   "execution_count": 57,
   "metadata": {},
   "outputs": [],
   "source": [
    "from scipy.stats import ttest_rel"
   ]
  },
  {
   "cell_type": "code",
   "execution_count": null,
   "metadata": {},
   "outputs": [],
   "source": [
    "ttest_rel()"
   ]
  },
  {
   "cell_type": "code",
   "execution_count": 58,
   "metadata": {},
   "outputs": [
    {
     "name": "stdout",
     "output_type": "stream",
     "text": [
      "Statistics is 5.07655590683381 \n",
      " pvalue is 0.0002722070875643695\n",
      "We reject null hypothesis saying that there is a significant relationship between average weight before and after \n"
     ]
    }
   ],
   "source": [
    "#Darshan - Paired test\n",
    "weight_preworkout = [89,85,35,95,79,82,99,88,101,72,84,86,92]\n",
    "weight_postworkout = [55,62,65,56,42,46,68,52,70,60,55,51,69]\n",
    "statistics,pval = ttest_rel(weight_preworkout,weight_postworkout)\n",
    "print(\"Statistics is {} \\n pvalue is {}\".format(statistics,pval))\n",
    "if pval < 0.05:\n",
    "    print(\"We reject null hypothesis saying that there is a significant relationship between average weight before and after \")\n",
    "else:\n",
    "    print(\"We do not reject null hypothesis saying that there is no significant relationship between average weight before and after\")\n",
    "\n",
    "# INFERENCE: There is chnage in weight of people \n",
    "#NH: No change\n",
    "#AH: There is change in weight"
   ]
  },
  {
   "cell_type": "markdown",
   "metadata": {},
   "source": [
    "## ANOVA - more than 2 sample t test"
   ]
  },
  {
   "cell_type": "code",
   "execution_count": 59,
   "metadata": {},
   "outputs": [],
   "source": [
    "from scipy.stats import f_oneway"
   ]
  },
  {
   "cell_type": "code",
   "execution_count": null,
   "metadata": {},
   "outputs": [],
   "source": [
    "# f_oneway()"
   ]
  },
  {
   "cell_type": "code",
   "execution_count": 60,
   "metadata": {},
   "outputs": [
    {
     "name": "stdout",
     "output_type": "stream",
     "text": [
      "statistics is 0.07590657652120467\n",
      " pvalue is 0.9270641538661927\n",
      "Tamilnadu recieves uniform amount of rainfall\n"
     ]
    }
   ],
   "source": [
    "#H0\n",
    "#Ha\n",
    "\n",
    "#Data Collection\n",
    "rainfall_2018=[32,41,20,21,22,27,26,37,40,41,42,40]\n",
    "rainfall_2019=[40,30,20,22,32,37,24,29,30,32,41,41]\n",
    "rainfall_2020=[30,20,45,44,47,21,20,19,20,21,42,42]\n",
    "statistic,pvalue=f_oneway(rainfall_2018,rainfall_2019,rainfall_2020)\n",
    "print('statistics is {}\\n pvalue is {}'.format(statistic,pvalue))\n",
    "if pvalue<0.05:\n",
    "    print('Tamilnadu recieves different amouth of rainfall') #Ha\n",
    "else:\n",
    "    print('Tamilnadu recieves uniform amount of rainfall') #Ho\n",
    "    \n",
    "# 12 month rainfall data is collected for 3 years\n",
    "# Here null hypothesis is accepted \n",
    "# inference tamilnadu recieves unifrom amount of rainfall\n"
   ]
  },
  {
   "cell_type": "code",
   "execution_count": 61,
   "metadata": {},
   "outputs": [
    {
     "name": "stdout",
     "output_type": "stream",
     "text": [
      "The f-stat is 0.8624460167233299 and pval is 0.4467184149873274\n",
      "We do not reject the null hypothesis saying that there is no significant difference in scores b/w the Students from School A,B and C\n"
     ]
    }
   ],
   "source": [
    "#Manju Kiran\n",
    "school_a=[100,98,95,90,89]\n",
    "school_b=[99,98,96,35,75]\n",
    "school_c=[70,55,98,92,89]\n",
    "f_stat,pval=f_oneway(school_a,school_b,school_c)\n",
    "print(\"The f-stat is {} and pval is {}\".format(f_stat,pval))\n",
    "\n",
    "if pval<0.05:\n",
    "    print(\"We reject the null hypothesis saying there is a significant difference in scores b/w the Students from School A,B and C\")\n",
    "else:\n",
    "    print(\"We do not reject the null hypothesis saying that there is no significant difference in scores b/w the Students from School A,B and C\")\n"
   ]
  },
  {
   "cell_type": "code",
   "execution_count": 62,
   "metadata": {},
   "outputs": [
    {
     "name": "stdout",
     "output_type": "stream",
     "text": [
      "Statistics 1.4411764705882355\n",
      " Pvalue 0.2864377648612401\n",
      "Runners don't have significance of weight \n"
     ]
    }
   ],
   "source": [
    "normalcdf(lower limit, upper limit, 0, 1)#Sangeeta\n",
    "hun_mt=[50,40,60,50]\n",
    "two_hun_mt=[60,50,60,55]\n",
    "marathon=[40,50,60,35]\n",
    "statistic,pvalue=f_oneway(hun_mt,two_hun_mt,marathon)\n",
    "print(\"Statistics {}\\n Pvalue {}\".format(statistic,pvalue))\n",
    "if (pvalue<0.05):\n",
    "    print(\"Runners have significance of weight \")\n",
    "else:\n",
    "    print(\"Runners don't have significance of weight \")\n"
   ]
  },
  {
   "cell_type": "code",
   "execution_count": null,
   "metadata": {},
   "outputs": [],
   "source": [
    "hun_mt=[50,40,60,50]\n",
    "two_hun_mt=[60,50,60,55]\n",
    "marathon=[40,50,60,35]\n",
    "statistic,pvalue=f_oneway(hun_mt,two_hun_mt,marathon)\n",
    "print(\"Statistics {}\\n Pvalue {}\".format(statistic,pvalue))\n",
    "if (pvalue<0.05):\n",
    "    print(\"Runners have significance of weight \")\n",
    "else:\n",
    "    print(\"Runners don't have significance of weight \")\n"
   ]
  },
  {
   "cell_type": "markdown",
   "metadata": {},
   "source": [
    "## 1 Sample proportion test"
   ]
  },
  {
   "cell_type": "code",
   "execution_count": null,
   "metadata": {},
   "outputs": [],
   "source": [
    "normalcdf(lower limit, upper limit, 0, 1)"
   ]
  },
  {
   "cell_type": "code",
   "execution_count": 37,
   "metadata": {},
   "outputs": [
    {
     "data": {
      "text/plain": [
       "25"
      ]
     },
     "execution_count": 37,
     "metadata": {},
     "output_type": "execute_result"
    }
   ],
   "source": [
    "ages = [20,25,30,35,20,19,20,25,27,28,40,35,40,20,23,26,27,28,29,30,31,33,36,21,22]\n",
    "len(ages)"
   ]
  },
  {
   "cell_type": "code",
   "execution_count": 40,
   "metadata": {},
   "outputs": [
    {
     "data": {
      "text/plain": [
       "28.0"
      ]
     },
     "execution_count": 40,
     "metadata": {},
     "output_type": "execute_result"
    }
   ],
   "source": [
    "round(np.mean(ages)) # Average age of the entire population"
   ]
  },
  {
   "cell_type": "code",
   "execution_count": 44,
   "metadata": {},
   "outputs": [
    {
     "data": {
      "text/plain": [
       "array([27, 25, 20, 30, 25])"
      ]
     },
     "execution_count": 44,
     "metadata": {},
     "output_type": "execute_result"
    }
   ],
   "source": [
    "randam_selection = np.random.choice(ages,size=5)\n",
    "randam_selection"
   ]
  },
  {
   "cell_type": "code",
   "execution_count": 45,
   "metadata": {},
   "outputs": [],
   "source": [
    "from scipy.stats import ttest_1samp # to perform one sample t test"
   ]
  },
  {
   "cell_type": "code",
   "execution_count": 47,
   "metadata": {},
   "outputs": [],
   "source": [
    "t_value, pval = ttest_1samp(randam_selection,28)"
   ]
  },
  {
   "cell_type": "code",
   "execution_count": 48,
   "metadata": {},
   "outputs": [
    {
     "name": "stdout",
     "output_type": "stream",
     "text": [
      "We do not reject the null hypothesis saying that there is no significant difference between average age of pop and sample\n"
     ]
    }
   ],
   "source": [
    "if pval<0.05:\n",
    "    print(\"We reject the null hypothesis saying that there is a significant difference between average age of pop and samp\")\n",
    "else:\n",
    "    print(\"We do not reject the null hypothesis saying that there is no significant difference between average age of pop and sample\")"
   ]
  },
  {
   "cell_type": "markdown",
   "metadata": {},
   "source": [
    "## 2 Sample proportion test"
   ]
  },
  {
   "cell_type": "code",
   "execution_count": 4,
   "metadata": {},
   "outputs": [],
   "source": [
    "import numpy as np\n",
    "import statsmodels.stats.proportion as a"
   ]
  },
  {
   "cell_type": "code",
   "execution_count": null,
   "metadata": {},
   "outputs": [],
   "source": []
  },
  {
   "cell_type": "markdown",
   "metadata": {},
   "source": [
    "## Chi-squared test"
   ]
  },
  {
   "cell_type": "code",
   "execution_count": 1,
   "metadata": {},
   "outputs": [
    {
     "name": "stdout",
     "output_type": "stream",
     "text": [
      "stat=0.272, p=0.873\n",
      "Probably independent\n"
     ]
    }
   ],
   "source": [
    "# Example of the Chi-Squared Test\n",
    "from scipy.stats import chi2_contingency\n",
    "table = [[10, 20, 30],[6,  9,  17]]\n",
    "stat, p, dof, expected = chi2_contingency(table)\n",
    "print('stat=%.3f, p=%.3f' % (stat, p))\n",
    "if p > 0.05:\n",
    "\tprint('Probably independent')\n",
    "else:\n",
    "\tprint('Probably dependent')"
   ]
  }
 ],
 "metadata": {
  "kernelspec": {
   "display_name": "Python 3",
   "language": "python",
   "name": "python3"
  },
  "language_info": {
   "codemirror_mode": {
    "name": "ipython",
    "version": 3
   },
   "file_extension": ".py",
   "mimetype": "text/x-python",
   "name": "python",
   "nbconvert_exporter": "python",
   "pygments_lexer": "ipython3",
   "version": "3.8.8"
  }
 },
 "nbformat": 4,
 "nbformat_minor": 4
}
