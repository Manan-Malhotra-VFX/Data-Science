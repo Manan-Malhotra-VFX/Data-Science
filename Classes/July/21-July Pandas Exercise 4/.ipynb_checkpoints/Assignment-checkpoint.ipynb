{
 "cells": [
  {
   "cell_type": "code",
   "execution_count": 1,
   "metadata": {},
   "outputs": [],
   "source": [
    "import pandas as pd\n",
    "import numpy as np"
   ]
  },
  {
   "cell_type": "code",
   "execution_count": 2,
   "metadata": {},
   "outputs": [],
   "source": [
    "a=pd.read_csv(\"Sales Transactions-2017.csv\")\n",
    "b=pd.read_csv(\"Sales Transactions-2018.csv\")\n",
    "c=pd.read_csv(\"Sales Transactions-2019.csv\")"
   ]
  },
  {
   "cell_type": "code",
   "execution_count": 3,
   "metadata": {},
   "outputs": [
    {
     "data": {
      "text/plain": [
       "((47290, 9), (44740, 9), (19176, 9))"
      ]
     },
     "execution_count": 3,
     "metadata": {},
     "output_type": "execute_result"
    }
   ],
   "source": [
    "a.shape,b.shape,c.shape"
   ]
  },
  {
   "cell_type": "code",
   "execution_count": 4,
   "metadata": {},
   "outputs": [],
   "source": [
    "data=pd.concat([a,b,c])"
   ]
  },
  {
   "cell_type": "code",
   "execution_count": 5,
   "metadata": {},
   "outputs": [
    {
     "data": {
      "text/plain": [
       "(111206, 9)"
      ]
     },
     "execution_count": 5,
     "metadata": {},
     "output_type": "execute_result"
    }
   ],
   "source": [
    "data.shape"
   ]
  },
  {
   "cell_type": "code",
   "execution_count": 6,
   "metadata": {},
   "outputs": [
    {
     "data": {
      "text/html": [
       "<div>\n",
       "<style scoped>\n",
       "    .dataframe tbody tr th:only-of-type {\n",
       "        vertical-align: middle;\n",
       "    }\n",
       "\n",
       "    .dataframe tbody tr th {\n",
       "        vertical-align: top;\n",
       "    }\n",
       "\n",
       "    .dataframe thead th {\n",
       "        text-align: right;\n",
       "    }\n",
       "</style>\n",
       "<table border=\"1\" class=\"dataframe\">\n",
       "  <thead>\n",
       "    <tr style=\"text-align: right;\">\n",
       "      <th></th>\n",
       "      <th>Date</th>\n",
       "      <th>Voucher</th>\n",
       "      <th>Party</th>\n",
       "      <th>Product</th>\n",
       "      <th>Qty</th>\n",
       "      <th>Rate</th>\n",
       "      <th>Gross</th>\n",
       "      <th>Disc</th>\n",
       "      <th>Voucher Amount</th>\n",
       "    </tr>\n",
       "  </thead>\n",
       "  <tbody>\n",
       "    <tr>\n",
       "      <th>0</th>\n",
       "      <td>1/4/2017</td>\n",
       "      <td>Sal:1</td>\n",
       "      <td>SOLANKI PLASTICS</td>\n",
       "      <td>DONA-VAI-9100</td>\n",
       "      <td>2</td>\n",
       "      <td>1,690.00</td>\n",
       "      <td>3,380.00</td>\n",
       "      <td>NaN</td>\n",
       "      <td>13,100.00</td>\n",
       "    </tr>\n",
       "    <tr>\n",
       "      <th>1</th>\n",
       "      <td>1/4/2017</td>\n",
       "      <td>Sal:1</td>\n",
       "      <td>SOLANKI PLASTICS</td>\n",
       "      <td>LITE FOAM(1200)</td>\n",
       "      <td>6</td>\n",
       "      <td>1,620.00</td>\n",
       "      <td>9,720.00</td>\n",
       "      <td>NaN</td>\n",
       "      <td>NaN</td>\n",
       "    </tr>\n",
       "    <tr>\n",
       "      <th>2</th>\n",
       "      <td>1/4/2017</td>\n",
       "      <td>Sal:2</td>\n",
       "      <td>SARNESWARA TRADERS</td>\n",
       "      <td>VISHNU CHOTA WINE</td>\n",
       "      <td>500</td>\n",
       "      <td>23</td>\n",
       "      <td>11,500.00</td>\n",
       "      <td>NaN</td>\n",
       "      <td>30,990.00</td>\n",
       "    </tr>\n",
       "    <tr>\n",
       "      <th>3</th>\n",
       "      <td>1/4/2017</td>\n",
       "      <td>Sal:2</td>\n",
       "      <td>SARNESWARA TRADERS</td>\n",
       "      <td>LITE FOAM(1200)</td>\n",
       "      <td>6</td>\n",
       "      <td>1,620.00</td>\n",
       "      <td>9,720.00</td>\n",
       "      <td>NaN</td>\n",
       "      <td>NaN</td>\n",
       "    </tr>\n",
       "    <tr>\n",
       "      <th>4</th>\n",
       "      <td>1/4/2017</td>\n",
       "      <td>Sal:2</td>\n",
       "      <td>SARNESWARA TRADERS</td>\n",
       "      <td>DONA-VAI-9100</td>\n",
       "      <td>5</td>\n",
       "      <td>1,690.00</td>\n",
       "      <td>8,450.00</td>\n",
       "      <td>NaN</td>\n",
       "      <td>NaN</td>\n",
       "    </tr>\n",
       "  </tbody>\n",
       "</table>\n",
       "</div>"
      ],
      "text/plain": [
       "       Date Voucher               Party            Product  Qty      Rate  \\\n",
       "0  1/4/2017   Sal:1    SOLANKI PLASTICS      DONA-VAI-9100    2  1,690.00   \n",
       "1  1/4/2017   Sal:1    SOLANKI PLASTICS    LITE FOAM(1200)    6  1,620.00   \n",
       "2  1/4/2017   Sal:2  SARNESWARA TRADERS  VISHNU CHOTA WINE  500        23   \n",
       "3  1/4/2017   Sal:2  SARNESWARA TRADERS    LITE FOAM(1200)    6  1,620.00   \n",
       "4  1/4/2017   Sal:2  SARNESWARA TRADERS      DONA-VAI-9100    5  1,690.00   \n",
       "\n",
       "       Gross Disc Voucher Amount  \n",
       "0   3,380.00  NaN      13,100.00  \n",
       "1   9,720.00  NaN            NaN  \n",
       "2  11,500.00  NaN      30,990.00  \n",
       "3   9,720.00  NaN            NaN  \n",
       "4   8,450.00  NaN            NaN  "
      ]
     },
     "execution_count": 6,
     "metadata": {},
     "output_type": "execute_result"
    }
   ],
   "source": [
    "data.head()"
   ]
  },
  {
   "cell_type": "code",
   "execution_count": 7,
   "metadata": {
    "scrolled": true
   },
   "outputs": [
    {
     "data": {
      "text/html": [
       "<div>\n",
       "<style scoped>\n",
       "    .dataframe tbody tr th:only-of-type {\n",
       "        vertical-align: middle;\n",
       "    }\n",
       "\n",
       "    .dataframe tbody tr th {\n",
       "        vertical-align: top;\n",
       "    }\n",
       "\n",
       "    .dataframe thead th {\n",
       "        text-align: right;\n",
       "    }\n",
       "</style>\n",
       "<table border=\"1\" class=\"dataframe\">\n",
       "  <thead>\n",
       "    <tr style=\"text-align: right;\">\n",
       "      <th></th>\n",
       "      <th>Date</th>\n",
       "      <th>Voucher</th>\n",
       "      <th>Party</th>\n",
       "      <th>Product</th>\n",
       "      <th>Qty</th>\n",
       "      <th>Rate</th>\n",
       "      <th>Gross</th>\n",
       "      <th>Disc</th>\n",
       "      <th>Voucher Amount</th>\n",
       "    </tr>\n",
       "  </thead>\n",
       "  <tbody>\n",
       "    <tr>\n",
       "      <th>count</th>\n",
       "      <td>98615</td>\n",
       "      <td>98649</td>\n",
       "      <td>111166</td>\n",
       "      <td>98615</td>\n",
       "      <td>98649</td>\n",
       "      <td>98648</td>\n",
       "      <td>98648</td>\n",
       "      <td>5597</td>\n",
       "      <td>27560</td>\n",
       "    </tr>\n",
       "    <tr>\n",
       "      <th>unique</th>\n",
       "      <td>836</td>\n",
       "      <td>10044</td>\n",
       "      <td>1994</td>\n",
       "      <td>867</td>\n",
       "      <td>546</td>\n",
       "      <td>1109</td>\n",
       "      <td>2548</td>\n",
       "      <td>371</td>\n",
       "      <td>7149</td>\n",
       "    </tr>\n",
       "    <tr>\n",
       "      <th>top</th>\n",
       "      <td></td>\n",
       "      <td></td>\n",
       "      <td>TP13</td>\n",
       "      <td></td>\n",
       "      <td>100</td>\n",
       "      <td></td>\n",
       "      <td></td>\n",
       "      <td></td>\n",
       "      <td></td>\n",
       "    </tr>\n",
       "    <tr>\n",
       "      <th>freq</th>\n",
       "      <td>3053</td>\n",
       "      <td>3053</td>\n",
       "      <td>13056</td>\n",
       "      <td>3053</td>\n",
       "      <td>12528</td>\n",
       "      <td>3051</td>\n",
       "      <td>3053</td>\n",
       "      <td>3053</td>\n",
       "      <td>3053</td>\n",
       "    </tr>\n",
       "  </tbody>\n",
       "</table>\n",
       "</div>"
      ],
      "text/plain": [
       "         Date Voucher   Party Product    Qty   Rate  Gross  Disc  \\\n",
       "count   98615   98649  111166   98615  98649  98648  98648  5597   \n",
       "unique    836   10044    1994     867    546   1109   2548   371   \n",
       "top                      TP13            100                       \n",
       "freq     3053    3053   13056    3053  12528   3051   3053  3053   \n",
       "\n",
       "       Voucher Amount  \n",
       "count           27560  \n",
       "unique           7149  \n",
       "top                    \n",
       "freq             3053  "
      ]
     },
     "execution_count": 7,
     "metadata": {},
     "output_type": "execute_result"
    }
   ],
   "source": [
    "data.describe(include=\"all\")"
   ]
  },
  {
   "cell_type": "code",
   "execution_count": 8,
   "metadata": {
    "scrolled": true
   },
   "outputs": [
    {
     "data": {
      "text/plain": [
       "Date               12591\n",
       "Voucher            12557\n",
       "Party                 40\n",
       "Product            12591\n",
       "Qty                12557\n",
       "Rate               12558\n",
       "Gross              12558\n",
       "Disc              105609\n",
       "Voucher Amount     83646\n",
       "dtype: int64"
      ]
     },
     "execution_count": 8,
     "metadata": {},
     "output_type": "execute_result"
    }
   ],
   "source": [
    "data.isnull().sum()"
   ]
  },
  {
   "cell_type": "code",
   "execution_count": 9,
   "metadata": {
    "scrolled": true
   },
   "outputs": [
    {
     "data": {
      "text/plain": [
       "(111200, 9)"
      ]
     },
     "execution_count": 9,
     "metadata": {},
     "output_type": "execute_result"
    }
   ],
   "source": [
    "data=data.dropna(how='all')\n",
    "#Only 6 rows dropped that had all missing values\n",
    "data.shape"
   ]
  },
  {
   "cell_type": "code",
   "execution_count": 10,
   "metadata": {},
   "outputs": [],
   "source": [
    "pd.set_option(\"max_rows\",None)"
   ]
  },
  {
   "cell_type": "code",
   "execution_count": 11,
   "metadata": {},
   "outputs": [
    {
     "data": {
      "text/plain": [
       "Date              object\n",
       "Voucher           object\n",
       "Party             object\n",
       "Product           object\n",
       "Qty               object\n",
       "Rate              object\n",
       "Gross             object\n",
       "Disc              object\n",
       "Voucher Amount    object\n",
       "dtype: object"
      ]
     },
     "execution_count": 11,
     "metadata": {},
     "output_type": "execute_result"
    }
   ],
   "source": [
    "data.dtypes"
   ]
  },
  {
   "cell_type": "code",
   "execution_count": 12,
   "metadata": {},
   "outputs": [],
   "source": [
    "del data[\"Voucher Amount\"]"
   ]
  },
  {
   "cell_type": "code",
   "execution_count": 13,
   "metadata": {},
   "outputs": [],
   "source": [
    "del data[\"Disc\"]"
   ]
  },
  {
   "cell_type": "code",
   "execution_count": 14,
   "metadata": {},
   "outputs": [],
   "source": [
    "new_data = data.dropna(axis = 0, how ='any')"
   ]
  },
  {
   "cell_type": "code",
   "execution_count": 15,
   "metadata": {
    "scrolled": true
   },
   "outputs": [
    {
     "data": {
      "text/html": [
       "<div>\n",
       "<style scoped>\n",
       "    .dataframe tbody tr th:only-of-type {\n",
       "        vertical-align: middle;\n",
       "    }\n",
       "\n",
       "    .dataframe tbody tr th {\n",
       "        vertical-align: top;\n",
       "    }\n",
       "\n",
       "    .dataframe thead th {\n",
       "        text-align: right;\n",
       "    }\n",
       "</style>\n",
       "<table border=\"1\" class=\"dataframe\">\n",
       "  <thead>\n",
       "    <tr style=\"text-align: right;\">\n",
       "      <th></th>\n",
       "      <th>Date</th>\n",
       "      <th>Voucher</th>\n",
       "      <th>Party</th>\n",
       "      <th>Product</th>\n",
       "      <th>Qty</th>\n",
       "      <th>Rate</th>\n",
       "      <th>Gross</th>\n",
       "    </tr>\n",
       "  </thead>\n",
       "  <tbody>\n",
       "    <tr>\n",
       "      <th>0</th>\n",
       "      <td>1/4/2017</td>\n",
       "      <td>Sal:1</td>\n",
       "      <td>SOLANKI PLASTICS</td>\n",
       "      <td>DONA-VAI-9100</td>\n",
       "      <td>2</td>\n",
       "      <td>1,690.00</td>\n",
       "      <td>3,380.00</td>\n",
       "    </tr>\n",
       "    <tr>\n",
       "      <th>1</th>\n",
       "      <td>1/4/2017</td>\n",
       "      <td>Sal:1</td>\n",
       "      <td>SOLANKI PLASTICS</td>\n",
       "      <td>LITE FOAM(1200)</td>\n",
       "      <td>6</td>\n",
       "      <td>1,620.00</td>\n",
       "      <td>9,720.00</td>\n",
       "    </tr>\n",
       "    <tr>\n",
       "      <th>2</th>\n",
       "      <td>1/4/2017</td>\n",
       "      <td>Sal:2</td>\n",
       "      <td>SARNESWARA TRADERS</td>\n",
       "      <td>VISHNU CHOTA WINE</td>\n",
       "      <td>500</td>\n",
       "      <td>23</td>\n",
       "      <td>11,500.00</td>\n",
       "    </tr>\n",
       "    <tr>\n",
       "      <th>3</th>\n",
       "      <td>1/4/2017</td>\n",
       "      <td>Sal:2</td>\n",
       "      <td>SARNESWARA TRADERS</td>\n",
       "      <td>LITE FOAM(1200)</td>\n",
       "      <td>6</td>\n",
       "      <td>1,620.00</td>\n",
       "      <td>9,720.00</td>\n",
       "    </tr>\n",
       "    <tr>\n",
       "      <th>4</th>\n",
       "      <td>1/4/2017</td>\n",
       "      <td>Sal:2</td>\n",
       "      <td>SARNESWARA TRADERS</td>\n",
       "      <td>DONA-VAI-9100</td>\n",
       "      <td>5</td>\n",
       "      <td>1,690.00</td>\n",
       "      <td>8,450.00</td>\n",
       "    </tr>\n",
       "    <tr>\n",
       "      <th>5</th>\n",
       "      <td>1/4/2017</td>\n",
       "      <td>Sal:2</td>\n",
       "      <td>SARNESWARA TRADERS</td>\n",
       "      <td>CLASSIC ENJOY(750)</td>\n",
       "      <td>1</td>\n",
       "      <td>1,320.00</td>\n",
       "      <td>1,320.00</td>\n",
       "    </tr>\n",
       "    <tr>\n",
       "      <th>6</th>\n",
       "      <td>1/4/2017</td>\n",
       "      <td>Sal:898</td>\n",
       "      <td>Lock</td>\n",
       "      <td>Vishnu 250ml</td>\n",
       "      <td>100</td>\n",
       "      <td>30</td>\n",
       "      <td>3,000.00</td>\n",
       "    </tr>\n",
       "    <tr>\n",
       "      <th>7</th>\n",
       "      <td>1/4/2017</td>\n",
       "      <td>Sal:898</td>\n",
       "      <td>Lock</td>\n",
       "      <td>BLACK DOG-350ML</td>\n",
       "      <td>100</td>\n",
       "      <td>26</td>\n",
       "      <td>2,600.00</td>\n",
       "    </tr>\n",
       "    <tr>\n",
       "      <th>8</th>\n",
       "      <td></td>\n",
       "      <td></td>\n",
       "      <td>khader vali late en</td>\n",
       "      <td></td>\n",
       "      <td></td>\n",
       "      <td></td>\n",
       "      <td></td>\n",
       "    </tr>\n",
       "    <tr>\n",
       "      <th>9</th>\n",
       "      <td></td>\n",
       "      <td></td>\n",
       "      <td>try</td>\n",
       "      <td></td>\n",
       "      <td></td>\n",
       "      <td></td>\n",
       "      <td></td>\n",
       "    </tr>\n",
       "    <tr>\n",
       "      <th>10</th>\n",
       "      <td>1/4/2017</td>\n",
       "      <td>Sal:2497</td>\n",
       "      <td>VAMSI KRISHNA FANCY</td>\n",
       "      <td>Loose Items</td>\n",
       "      <td>1</td>\n",
       "      <td>800</td>\n",
       "      <td>800</td>\n",
       "    </tr>\n",
       "    <tr>\n",
       "      <th>12</th>\n",
       "      <td></td>\n",
       "      <td></td>\n",
       "      <td>DUMMY ENTRY</td>\n",
       "      <td></td>\n",
       "      <td></td>\n",
       "      <td></td>\n",
       "      <td></td>\n",
       "    </tr>\n",
       "    <tr>\n",
       "      <th>13</th>\n",
       "      <td>1/4/2017</td>\n",
       "      <td>Sal:9263</td>\n",
       "      <td>VAMSI KRISHNA FANCY</td>\n",
       "      <td>Loose Items</td>\n",
       "      <td>1</td>\n",
       "      <td>280</td>\n",
       "      <td>280</td>\n",
       "    </tr>\n",
       "    <tr>\n",
       "      <th>15</th>\n",
       "      <td></td>\n",
       "      <td></td>\n",
       "      <td>dummy entry</td>\n",
       "      <td></td>\n",
       "      <td></td>\n",
       "      <td></td>\n",
       "      <td></td>\n",
       "    </tr>\n",
       "    <tr>\n",
       "      <th>16</th>\n",
       "      <td>1/4/2017</td>\n",
       "      <td>Sal:9545</td>\n",
       "      <td>Vkp</td>\n",
       "      <td>Loose Items</td>\n",
       "      <td>1</td>\n",
       "      <td>695</td>\n",
       "      <td>695</td>\n",
       "    </tr>\n",
       "    <tr>\n",
       "      <th>17</th>\n",
       "      <td></td>\n",
       "      <td></td>\n",
       "      <td>dummy entry</td>\n",
       "      <td></td>\n",
       "      <td></td>\n",
       "      <td></td>\n",
       "      <td></td>\n",
       "    </tr>\n",
       "    <tr>\n",
       "      <th>18</th>\n",
       "      <td>2/4/2017</td>\n",
       "      <td>Sal:16</td>\n",
       "      <td>KPR</td>\n",
       "      <td>LITE FOAM(1200)</td>\n",
       "      <td>1</td>\n",
       "      <td>1,620.00</td>\n",
       "      <td>1,620.00</td>\n",
       "    </tr>\n",
       "    <tr>\n",
       "      <th>19</th>\n",
       "      <td>3/4/2017</td>\n",
       "      <td>Sal:3</td>\n",
       "      <td>BALAJI PLASTICS</td>\n",
       "      <td>90ML RANGEELA</td>\n",
       "      <td>150</td>\n",
       "      <td>14.5</td>\n",
       "      <td>2,175.00</td>\n",
       "    </tr>\n",
       "    <tr>\n",
       "      <th>20</th>\n",
       "      <td>3/4/2017</td>\n",
       "      <td>Sal:4</td>\n",
       "      <td>DURGAHOTEL</td>\n",
       "      <td>SILVER POUCH 9*12</td>\n",
       "      <td>10</td>\n",
       "      <td>90</td>\n",
       "      <td>900</td>\n",
       "    </tr>\n",
       "    <tr>\n",
       "      <th>21</th>\n",
       "      <td>3/4/2017</td>\n",
       "      <td>Sal:4</td>\n",
       "      <td>DURGAHOTEL</td>\n",
       "      <td>SILVER POUCH 8*10</td>\n",
       "      <td>10</td>\n",
       "      <td>70</td>\n",
       "      <td>700</td>\n",
       "    </tr>\n",
       "  </tbody>\n",
       "</table>\n",
       "</div>"
      ],
      "text/plain": [
       "        Date   Voucher                Party             Product  Qty  \\\n",
       "0   1/4/2017     Sal:1     SOLANKI PLASTICS       DONA-VAI-9100    2   \n",
       "1   1/4/2017     Sal:1     SOLANKI PLASTICS     LITE FOAM(1200)    6   \n",
       "2   1/4/2017     Sal:2   SARNESWARA TRADERS   VISHNU CHOTA WINE  500   \n",
       "3   1/4/2017     Sal:2   SARNESWARA TRADERS     LITE FOAM(1200)    6   \n",
       "4   1/4/2017     Sal:2   SARNESWARA TRADERS       DONA-VAI-9100    5   \n",
       "5   1/4/2017     Sal:2   SARNESWARA TRADERS  CLASSIC ENJOY(750)    1   \n",
       "6   1/4/2017   Sal:898                 Lock        Vishnu 250ml  100   \n",
       "7   1/4/2017   Sal:898                 Lock     BLACK DOG-350ML  100   \n",
       "8                       khader vali late en                            \n",
       "9                                       try                            \n",
       "10  1/4/2017  Sal:2497  VAMSI KRISHNA FANCY         Loose Items    1   \n",
       "12                              DUMMY ENTRY                            \n",
       "13  1/4/2017  Sal:9263  VAMSI KRISHNA FANCY         Loose Items    1   \n",
       "15                              dummy entry                            \n",
       "16  1/4/2017  Sal:9545                  Vkp         Loose Items    1   \n",
       "17                              dummy entry                            \n",
       "18  2/4/2017    Sal:16                  KPR     LITE FOAM(1200)    1   \n",
       "19  3/4/2017     Sal:3      BALAJI PLASTICS       90ML RANGEELA  150   \n",
       "20  3/4/2017     Sal:4           DURGAHOTEL   SILVER POUCH 9*12   10   \n",
       "21  3/4/2017     Sal:4           DURGAHOTEL   SILVER POUCH 8*10   10   \n",
       "\n",
       "        Rate      Gross  \n",
       "0   1,690.00   3,380.00  \n",
       "1   1,620.00   9,720.00  \n",
       "2         23  11,500.00  \n",
       "3   1,620.00   9,720.00  \n",
       "4   1,690.00   8,450.00  \n",
       "5   1,320.00   1,320.00  \n",
       "6         30   3,000.00  \n",
       "7         26   2,600.00  \n",
       "8                        \n",
       "9                        \n",
       "10       800        800  \n",
       "12                       \n",
       "13       280        280  \n",
       "15                       \n",
       "16       695        695  \n",
       "17                       \n",
       "18  1,620.00   1,620.00  \n",
       "19      14.5   2,175.00  \n",
       "20        90        900  \n",
       "21        70        700  "
      ]
     },
     "execution_count": 15,
     "metadata": {},
     "output_type": "execute_result"
    }
   ],
   "source": [
    "new_data.head(20)"
   ]
  },
  {
   "cell_type": "code",
   "execution_count": 16,
   "metadata": {},
   "outputs": [
    {
     "data": {
      "text/plain": [
       "((98614, 7), (111200, 7))"
      ]
     },
     "execution_count": 16,
     "metadata": {},
     "output_type": "execute_result"
    }
   ],
   "source": [
    "new_data.shape,data.shape"
   ]
  },
  {
   "cell_type": "code",
   "execution_count": 17,
   "metadata": {},
   "outputs": [
    {
     "data": {
      "text/plain": [
       "(96356, 7)"
      ]
     },
     "execution_count": 17,
     "metadata": {},
     "output_type": "execute_result"
    }
   ],
   "source": [
    "newest=new_data.drop_duplicates()\n",
    "newest.shape"
   ]
  },
  {
   "cell_type": "code",
   "execution_count": 18,
   "metadata": {
    "scrolled": true
   },
   "outputs": [],
   "source": [
    "newww=newest.fillna(0)\n"
   ]
  },
  {
   "cell_type": "code",
   "execution_count": 19,
   "metadata": {},
   "outputs": [],
   "source": [
    "newest=newest.replace(\" \", np.nan)\n",
    "# newest = newest.replace(r'^\\s*$', np.nan, regex=True)    -- use any one of these to remove error with empty spaces, same to convert objects to float"
   ]
  },
  {
   "cell_type": "code",
   "execution_count": 20,
   "metadata": {
    "scrolled": true
   },
   "outputs": [],
   "source": [
    "newest[\"Voucher\"] = newest[\"Voucher\"].str.replace(\"Sal:\",\"\")\n",
    "\n",
    "# This line doesn't work for some reason"
   ]
  },
  {
   "cell_type": "code",
   "execution_count": 21,
   "metadata": {},
   "outputs": [],
   "source": [
    "latest=newest.dropna()"
   ]
  },
  {
   "cell_type": "code",
   "execution_count": 22,
   "metadata": {
    "scrolled": false
   },
   "outputs": [
    {
     "data": {
      "text/html": [
       "<div>\n",
       "<style scoped>\n",
       "    .dataframe tbody tr th:only-of-type {\n",
       "        vertical-align: middle;\n",
       "    }\n",
       "\n",
       "    .dataframe tbody tr th {\n",
       "        vertical-align: top;\n",
       "    }\n",
       "\n",
       "    .dataframe thead th {\n",
       "        text-align: right;\n",
       "    }\n",
       "</style>\n",
       "<table border=\"1\" class=\"dataframe\">\n",
       "  <thead>\n",
       "    <tr style=\"text-align: right;\">\n",
       "      <th></th>\n",
       "      <th>Date</th>\n",
       "      <th>Voucher</th>\n",
       "      <th>Party</th>\n",
       "      <th>Product</th>\n",
       "      <th>Qty</th>\n",
       "      <th>Rate</th>\n",
       "      <th>Gross</th>\n",
       "    </tr>\n",
       "  </thead>\n",
       "  <tbody>\n",
       "    <tr>\n",
       "      <th>0</th>\n",
       "      <td>1/4/2017</td>\n",
       "      <td>1</td>\n",
       "      <td>SOLANKI PLASTICS</td>\n",
       "      <td>DONA-VAI-9100</td>\n",
       "      <td>2</td>\n",
       "      <td>1,690.00</td>\n",
       "      <td>3,380.00</td>\n",
       "    </tr>\n",
       "    <tr>\n",
       "      <th>1</th>\n",
       "      <td>1/4/2017</td>\n",
       "      <td>1</td>\n",
       "      <td>SOLANKI PLASTICS</td>\n",
       "      <td>LITE FOAM(1200)</td>\n",
       "      <td>6</td>\n",
       "      <td>1,620.00</td>\n",
       "      <td>9,720.00</td>\n",
       "    </tr>\n",
       "    <tr>\n",
       "      <th>2</th>\n",
       "      <td>1/4/2017</td>\n",
       "      <td>2</td>\n",
       "      <td>SARNESWARA TRADERS</td>\n",
       "      <td>VISHNU CHOTA WINE</td>\n",
       "      <td>500</td>\n",
       "      <td>23</td>\n",
       "      <td>11,500.00</td>\n",
       "    </tr>\n",
       "    <tr>\n",
       "      <th>3</th>\n",
       "      <td>1/4/2017</td>\n",
       "      <td>2</td>\n",
       "      <td>SARNESWARA TRADERS</td>\n",
       "      <td>LITE FOAM(1200)</td>\n",
       "      <td>6</td>\n",
       "      <td>1,620.00</td>\n",
       "      <td>9,720.00</td>\n",
       "    </tr>\n",
       "    <tr>\n",
       "      <th>4</th>\n",
       "      <td>1/4/2017</td>\n",
       "      <td>2</td>\n",
       "      <td>SARNESWARA TRADERS</td>\n",
       "      <td>DONA-VAI-9100</td>\n",
       "      <td>5</td>\n",
       "      <td>1,690.00</td>\n",
       "      <td>8,450.00</td>\n",
       "    </tr>\n",
       "    <tr>\n",
       "      <th>5</th>\n",
       "      <td>1/4/2017</td>\n",
       "      <td>2</td>\n",
       "      <td>SARNESWARA TRADERS</td>\n",
       "      <td>CLASSIC ENJOY(750)</td>\n",
       "      <td>1</td>\n",
       "      <td>1,320.00</td>\n",
       "      <td>1,320.00</td>\n",
       "    </tr>\n",
       "    <tr>\n",
       "      <th>6</th>\n",
       "      <td>1/4/2017</td>\n",
       "      <td>898</td>\n",
       "      <td>Lock</td>\n",
       "      <td>Vishnu 250ml</td>\n",
       "      <td>100</td>\n",
       "      <td>30</td>\n",
       "      <td>3,000.00</td>\n",
       "    </tr>\n",
       "    <tr>\n",
       "      <th>7</th>\n",
       "      <td>1/4/2017</td>\n",
       "      <td>898</td>\n",
       "      <td>Lock</td>\n",
       "      <td>BLACK DOG-350ML</td>\n",
       "      <td>100</td>\n",
       "      <td>26</td>\n",
       "      <td>2,600.00</td>\n",
       "    </tr>\n",
       "    <tr>\n",
       "      <th>10</th>\n",
       "      <td>1/4/2017</td>\n",
       "      <td>2497</td>\n",
       "      <td>VAMSI KRISHNA FANCY</td>\n",
       "      <td>Loose Items</td>\n",
       "      <td>1</td>\n",
       "      <td>800</td>\n",
       "      <td>800</td>\n",
       "    </tr>\n",
       "    <tr>\n",
       "      <th>13</th>\n",
       "      <td>1/4/2017</td>\n",
       "      <td>9263</td>\n",
       "      <td>VAMSI KRISHNA FANCY</td>\n",
       "      <td>Loose Items</td>\n",
       "      <td>1</td>\n",
       "      <td>280</td>\n",
       "      <td>280</td>\n",
       "    </tr>\n",
       "  </tbody>\n",
       "</table>\n",
       "</div>"
      ],
      "text/plain": [
       "        Date Voucher                Party             Product  Qty      Rate  \\\n",
       "0   1/4/2017       1     SOLANKI PLASTICS       DONA-VAI-9100    2  1,690.00   \n",
       "1   1/4/2017       1     SOLANKI PLASTICS     LITE FOAM(1200)    6  1,620.00   \n",
       "2   1/4/2017       2   SARNESWARA TRADERS   VISHNU CHOTA WINE  500        23   \n",
       "3   1/4/2017       2   SARNESWARA TRADERS     LITE FOAM(1200)    6  1,620.00   \n",
       "4   1/4/2017       2   SARNESWARA TRADERS       DONA-VAI-9100    5  1,690.00   \n",
       "5   1/4/2017       2   SARNESWARA TRADERS  CLASSIC ENJOY(750)    1  1,320.00   \n",
       "6   1/4/2017     898                 Lock        Vishnu 250ml  100        30   \n",
       "7   1/4/2017     898                 Lock     BLACK DOG-350ML  100        26   \n",
       "10  1/4/2017    2497  VAMSI KRISHNA FANCY         Loose Items    1       800   \n",
       "13  1/4/2017    9263  VAMSI KRISHNA FANCY         Loose Items    1       280   \n",
       "\n",
       "        Gross  \n",
       "0    3,380.00  \n",
       "1    9,720.00  \n",
       "2   11,500.00  \n",
       "3    9,720.00  \n",
       "4    8,450.00  \n",
       "5    1,320.00  \n",
       "6    3,000.00  \n",
       "7    2,600.00  \n",
       "10        800  \n",
       "13        280  "
      ]
     },
     "execution_count": 22,
     "metadata": {},
     "output_type": "execute_result"
    }
   ],
   "source": [
    "latest.head(10)\n",
    "\n",
    "#unable to remove empty rows that contain dummy values"
   ]
  },
  {
   "cell_type": "code",
   "execution_count": 23,
   "metadata": {},
   "outputs": [
    {
     "data": {
      "text/plain": [
       "(95223, 7)"
      ]
     },
     "execution_count": 23,
     "metadata": {},
     "output_type": "execute_result"
    }
   ],
   "source": [
    "latest.shape"
   ]
  },
  {
   "cell_type": "code",
   "execution_count": null,
   "metadata": {},
   "outputs": [],
   "source": [
    "# latest['Rate'] = latest['Rate'].str.strip()"
   ]
  },
  {
   "cell_type": "code",
   "execution_count": 24,
   "metadata": {},
   "outputs": [],
   "source": [
    "latest=latest.astype(str)"
   ]
  },
  {
   "cell_type": "code",
   "execution_count": 25,
   "metadata": {
    "scrolled": true
   },
   "outputs": [],
   "source": [
    "latest['Rate'] = latest['Rate'].str.replace(\",\",\"\").astype(float)"
   ]
  },
  {
   "cell_type": "code",
   "execution_count": 26,
   "metadata": {},
   "outputs": [],
   "source": [
    "latest['Gross'] = latest['Gross'].str.replace(\",\",\"\").astype(float)"
   ]
  },
  {
   "cell_type": "code",
   "execution_count": 27,
   "metadata": {},
   "outputs": [],
   "source": [
    "latest['Voucher'] = latest['Voucher'].astype(int)"
   ]
  },
  {
   "cell_type": "code",
   "execution_count": 28,
   "metadata": {},
   "outputs": [],
   "source": [
    "latest['Date'] = latest['Date'].astype(\"datetime64\")"
   ]
  },
  {
   "cell_type": "code",
   "execution_count": 29,
   "metadata": {
    "scrolled": true
   },
   "outputs": [],
   "source": [
    "latest['Qty'] = latest['Qty'].str.replace(\",\",\"\").astype(float)# first converting to float as it has few float values"
   ]
  },
  {
   "cell_type": "code",
   "execution_count": 30,
   "metadata": {},
   "outputs": [],
   "source": [
    "latest['Qty'] = latest['Qty'].astype(int)"
   ]
  },
  {
   "cell_type": "code",
   "execution_count": 31,
   "metadata": {
    "scrolled": true
   },
   "outputs": [
    {
     "data": {
      "text/html": [
       "<div>\n",
       "<style scoped>\n",
       "    .dataframe tbody tr th:only-of-type {\n",
       "        vertical-align: middle;\n",
       "    }\n",
       "\n",
       "    .dataframe tbody tr th {\n",
       "        vertical-align: top;\n",
       "    }\n",
       "\n",
       "    .dataframe thead th {\n",
       "        text-align: right;\n",
       "    }\n",
       "</style>\n",
       "<table border=\"1\" class=\"dataframe\">\n",
       "  <thead>\n",
       "    <tr style=\"text-align: right;\">\n",
       "      <th></th>\n",
       "      <th>Date</th>\n",
       "      <th>Voucher</th>\n",
       "      <th>Party</th>\n",
       "      <th>Product</th>\n",
       "      <th>Qty</th>\n",
       "      <th>Rate</th>\n",
       "      <th>Gross</th>\n",
       "    </tr>\n",
       "  </thead>\n",
       "  <tbody>\n",
       "    <tr>\n",
       "      <th>0</th>\n",
       "      <td>2017-01-04</td>\n",
       "      <td>1</td>\n",
       "      <td>SOLANKI PLASTICS</td>\n",
       "      <td>DONA-VAI-9100</td>\n",
       "      <td>2</td>\n",
       "      <td>1690.0</td>\n",
       "      <td>3380.0</td>\n",
       "    </tr>\n",
       "    <tr>\n",
       "      <th>1</th>\n",
       "      <td>2017-01-04</td>\n",
       "      <td>1</td>\n",
       "      <td>SOLANKI PLASTICS</td>\n",
       "      <td>LITE FOAM(1200)</td>\n",
       "      <td>6</td>\n",
       "      <td>1620.0</td>\n",
       "      <td>9720.0</td>\n",
       "    </tr>\n",
       "    <tr>\n",
       "      <th>2</th>\n",
       "      <td>2017-01-04</td>\n",
       "      <td>2</td>\n",
       "      <td>SARNESWARA TRADERS</td>\n",
       "      <td>VISHNU CHOTA WINE</td>\n",
       "      <td>500</td>\n",
       "      <td>23.0</td>\n",
       "      <td>11500.0</td>\n",
       "    </tr>\n",
       "    <tr>\n",
       "      <th>3</th>\n",
       "      <td>2017-01-04</td>\n",
       "      <td>2</td>\n",
       "      <td>SARNESWARA TRADERS</td>\n",
       "      <td>LITE FOAM(1200)</td>\n",
       "      <td>6</td>\n",
       "      <td>1620.0</td>\n",
       "      <td>9720.0</td>\n",
       "    </tr>\n",
       "    <tr>\n",
       "      <th>4</th>\n",
       "      <td>2017-01-04</td>\n",
       "      <td>2</td>\n",
       "      <td>SARNESWARA TRADERS</td>\n",
       "      <td>DONA-VAI-9100</td>\n",
       "      <td>5</td>\n",
       "      <td>1690.0</td>\n",
       "      <td>8450.0</td>\n",
       "    </tr>\n",
       "    <tr>\n",
       "      <th>5</th>\n",
       "      <td>2017-01-04</td>\n",
       "      <td>2</td>\n",
       "      <td>SARNESWARA TRADERS</td>\n",
       "      <td>CLASSIC ENJOY(750)</td>\n",
       "      <td>1</td>\n",
       "      <td>1320.0</td>\n",
       "      <td>1320.0</td>\n",
       "    </tr>\n",
       "    <tr>\n",
       "      <th>6</th>\n",
       "      <td>2017-01-04</td>\n",
       "      <td>898</td>\n",
       "      <td>Lock</td>\n",
       "      <td>Vishnu 250ml</td>\n",
       "      <td>100</td>\n",
       "      <td>30.0</td>\n",
       "      <td>3000.0</td>\n",
       "    </tr>\n",
       "    <tr>\n",
       "      <th>7</th>\n",
       "      <td>2017-01-04</td>\n",
       "      <td>898</td>\n",
       "      <td>Lock</td>\n",
       "      <td>BLACK DOG-350ML</td>\n",
       "      <td>100</td>\n",
       "      <td>26.0</td>\n",
       "      <td>2600.0</td>\n",
       "    </tr>\n",
       "    <tr>\n",
       "      <th>10</th>\n",
       "      <td>2017-01-04</td>\n",
       "      <td>2497</td>\n",
       "      <td>VAMSI KRISHNA FANCY</td>\n",
       "      <td>Loose Items</td>\n",
       "      <td>1</td>\n",
       "      <td>800.0</td>\n",
       "      <td>800.0</td>\n",
       "    </tr>\n",
       "    <tr>\n",
       "      <th>13</th>\n",
       "      <td>2017-01-04</td>\n",
       "      <td>9263</td>\n",
       "      <td>VAMSI KRISHNA FANCY</td>\n",
       "      <td>Loose Items</td>\n",
       "      <td>1</td>\n",
       "      <td>280.0</td>\n",
       "      <td>280.0</td>\n",
       "    </tr>\n",
       "  </tbody>\n",
       "</table>\n",
       "</div>"
      ],
      "text/plain": [
       "         Date  Voucher                Party             Product  Qty    Rate  \\\n",
       "0  2017-01-04        1     SOLANKI PLASTICS       DONA-VAI-9100    2  1690.0   \n",
       "1  2017-01-04        1     SOLANKI PLASTICS     LITE FOAM(1200)    6  1620.0   \n",
       "2  2017-01-04        2   SARNESWARA TRADERS   VISHNU CHOTA WINE  500    23.0   \n",
       "3  2017-01-04        2   SARNESWARA TRADERS     LITE FOAM(1200)    6  1620.0   \n",
       "4  2017-01-04        2   SARNESWARA TRADERS       DONA-VAI-9100    5  1690.0   \n",
       "5  2017-01-04        2   SARNESWARA TRADERS  CLASSIC ENJOY(750)    1  1320.0   \n",
       "6  2017-01-04      898                 Lock        Vishnu 250ml  100    30.0   \n",
       "7  2017-01-04      898                 Lock     BLACK DOG-350ML  100    26.0   \n",
       "10 2017-01-04     2497  VAMSI KRISHNA FANCY         Loose Items    1   800.0   \n",
       "13 2017-01-04     9263  VAMSI KRISHNA FANCY         Loose Items    1   280.0   \n",
       "\n",
       "      Gross  \n",
       "0    3380.0  \n",
       "1    9720.0  \n",
       "2   11500.0  \n",
       "3    9720.0  \n",
       "4    8450.0  \n",
       "5    1320.0  \n",
       "6    3000.0  \n",
       "7    2600.0  \n",
       "10    800.0  \n",
       "13    280.0  "
      ]
     },
     "execution_count": 31,
     "metadata": {},
     "output_type": "execute_result"
    }
   ],
   "source": [
    "latest.head(10)"
   ]
  },
  {
   "cell_type": "code",
   "execution_count": 32,
   "metadata": {},
   "outputs": [
    {
     "data": {
      "text/plain": [
       "Date       0\n",
       "Voucher    0\n",
       "Party      0\n",
       "Product    0\n",
       "Qty        0\n",
       "Rate       0\n",
       "Gross      0\n",
       "dtype: int64"
      ]
     },
     "execution_count": 32,
     "metadata": {},
     "output_type": "execute_result"
    }
   ],
   "source": [
    "latest.isnull().sum()"
   ]
  },
  {
   "cell_type": "code",
   "execution_count": 33,
   "metadata": {
    "scrolled": true
   },
   "outputs": [
    {
     "data": {
      "text/plain": [
       "Date       datetime64[ns]\n",
       "Voucher             int32\n",
       "Party              object\n",
       "Product            object\n",
       "Qty                 int32\n",
       "Rate              float64\n",
       "Gross             float64\n",
       "dtype: object"
      ]
     },
     "execution_count": 33,
     "metadata": {},
     "output_type": "execute_result"
    }
   ],
   "source": [
    "latest.dtypes"
   ]
  },
  {
   "cell_type": "markdown",
   "metadata": {},
   "source": [
    "# >>>>>>>>>>>>>>>>>THE END<<<<<<<<<<<<<<<<<<"
   ]
  }
 ],
 "metadata": {
  "kernelspec": {
   "display_name": "Python 3",
   "language": "python",
   "name": "python3"
  },
  "language_info": {
   "codemirror_mode": {
    "name": "ipython",
    "version": 3
   },
   "file_extension": ".py",
   "mimetype": "text/x-python",
   "name": "python",
   "nbconvert_exporter": "python",
   "pygments_lexer": "ipython3",
   "version": "3.8.8"
  },
  "toc": {
   "base_numbering": 1,
   "nav_menu": {},
   "number_sections": true,
   "sideBar": true,
   "skip_h1_title": false,
   "title_cell": "Table of Contents",
   "title_sidebar": "Contents",
   "toc_cell": false,
   "toc_position": {},
   "toc_section_display": true,
   "toc_window_display": false
  },
  "varInspector": {
   "cols": {
    "lenName": 16,
    "lenType": 16,
    "lenVar": 40
   },
   "kernels_config": {
    "python": {
     "delete_cmd_postfix": "",
     "delete_cmd_prefix": "del ",
     "library": "var_list.py",
     "varRefreshCmd": "print(var_dic_list())"
    },
    "r": {
     "delete_cmd_postfix": ") ",
     "delete_cmd_prefix": "rm(",
     "library": "var_list.r",
     "varRefreshCmd": "cat(var_dic_list()) "
    }
   },
   "types_to_exclude": [
    "module",
    "function",
    "builtin_function_or_method",
    "instance",
    "_Feature"
   ],
   "window_display": false
  }
 },
 "nbformat": 4,
 "nbformat_minor": 4
}
