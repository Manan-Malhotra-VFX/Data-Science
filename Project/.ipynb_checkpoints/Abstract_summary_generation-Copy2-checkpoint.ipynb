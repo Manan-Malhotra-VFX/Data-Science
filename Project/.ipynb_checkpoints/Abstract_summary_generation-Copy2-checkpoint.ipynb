{
 "cells": [
  {
   "cell_type": "code",
   "execution_count": 3,
   "id": "1d6efb68",
   "metadata": {},
   "outputs": [],
   "source": [
    "import warnings\n",
    "warnings.filterwarnings('ignore')\n",
    "\n",
    "import pandas as pd\n",
    "import seaborn as sns\n",
    "import matplotlib.pyplot as plt\n",
    "\n",
    "import PyPDF2 as PyPDF2\n",
    "#import slate3k as slate\n",
    "import datetime as date\n",
    "import re\n",
    "import string\n",
    "\n",
    "from nltk.tokenize import sent_tokenize, word_tokenize, wordpunct_tokenize\n",
    "from string import punctuation\n",
    "\n",
    "from nltk.corpus import stopwords"
   ]
  },
  {
   "cell_type": "code",
   "execution_count": 29,
   "id": "1acd2755",
   "metadata": {},
   "outputs": [
    {
     "data": {
      "text/plain": [
       "<_io.BufferedReader name='Guide_to_ecommerce_site.pdf'>"
      ]
     },
     "execution_count": 29,
     "metadata": {},
     "output_type": "execute_result"
    }
   ],
   "source": [
    "# creating a pdf file object\n",
    "#pdf_file_obj = open('It_so_happened.pdf','rb')\n",
    "#pdf_file_obj = open('Application of Solar Energy.pdf','rb')  #23 pages\n",
    "#pdf_file_obj = open('Basic Research Needs for Solar Energy Utilization.pdf','rb') #276\n",
    "pdf_file_obj = open('Guide_to_ecommerce_site.pdf','rb') #15 pages\n",
    "pdf_file_obj"
   ]
  },
  {
   "cell_type": "code",
   "execution_count": 30,
   "id": "92fda25e",
   "metadata": {},
   "outputs": [],
   "source": [
    "#creating pdf filereader object\n",
    "pdf_reader = PyPDF2.PdfFileReader(pdf_file_obj)"
   ]
  },
  {
   "cell_type": "code",
   "execution_count": 31,
   "id": "daaa10a0",
   "metadata": {},
   "outputs": [
    {
     "data": {
      "text/plain": [
       "{'/CreationDate': \"D:20131202113306-05'00'\",\n",
       " '/Creator': 'Adobe InDesign CS5.5 (7.5.3)',\n",
       " '/ModDate': \"D:20131202113307-05'00'\",\n",
       " '/Producer': 'Adobe PDF Library 9.9',\n",
       " '/Trapped': '/False'}"
      ]
     },
     "execution_count": 31,
     "metadata": {},
     "output_type": "execute_result"
    }
   ],
   "source": [
    "pdf_reader.documentInfo"
   ]
  },
  {
   "cell_type": "code",
   "execution_count": 34,
   "id": "78f3e427",
   "metadata": {},
   "outputs": [
    {
     "data": {
      "text/plain": [
       "15"
      ]
     },
     "execution_count": 34,
     "metadata": {},
     "output_type": "execute_result"
    }
   ],
   "source": [
    "no_pages = pdf_reader.getNumPages()\n",
    "no_pages"
   ]
  },
  {
   "cell_type": "code",
   "execution_count": 33,
   "id": "f9b7d6f7",
   "metadata": {},
   "outputs": [
    {
     "name": "stdout",
     "output_type": "stream",
     "text": [
      "Time taken = 0:00:00.652528\n",
      "Complete Guide \n",
      "to Building an \n",
      "E-Commerce Business \n",
      "CONTENT AND SOCIAL MEDIA      MARKETINGFOR SMALL BUSINESSESwww.digitalsherpa.com\n",
      "Advancement in technology and an increasingly savvy consumer market has made e-commerce a powerful force in the global economy. With more people opting to shop on the Internet, SMBs take steps to reach this market by setting up online shops. As more payment services providers get into the market, setting up an e-commerce website is no longer cost-prohibitive. Today, anyone with basic web skills can set up a robust e-commerce site within a few days and without breaking the bank.One of the major things that buyers are concerned about when shopping online is their security. With major online fraud cases being reported around the world, you cannot blame consumers for being extra cautious. Therefore, when setting up an e-commerce store, you need to plan carefully and keep security at the forefront of your installation.With that said, this guide will take you from \n",
      "marketing. Let™s get started.The Planning StageBefore you jump to building your store, you must know what you will sell. At the least, answer these three basic questions before proceeding:\n",
      "\n",
      "\n",
      "This is the planning stage of your business. You need to carefully consider your goals and how you see your company. It also helps to start building your brand before you even start developing your site. To begin, buy a matching domain name for your company and get a logo designed.You can also start building clout for your business even before you launch. If you are online, set up customers (more on this later in the marketing segment of the eBook). Complete Guide to Building an \n",
      "E-Commerce Business \n",
      "www.digitalsherpa.com\n",
      "You can also create a Google account for the company to access apps such as Google Analytics and Google Docs that you can use for your business. Having a YouTube account is also important especially if you will be using video to market your store. The major work at this stage is to secure your store™s brand across the various online properties. This have a presence on and open accounts using your company™s name as the user name.If you already have the name of your shop, it is time to start setting should not cost you more than $10 for a .com extension. You can use NameCheap, GoDaddy or any other domain name registrar you prefer. Your domain name will be part of your brand. Think carefully about the name you want to use.company. Look for a hosting company that has good servers and that will be able to run your online store. If you do not have any preferences, you can stick with servers that run PHP. The language is open source and is supported in most server environments. Make sure your hosting accounts will support PHP and MySQL databases.Also, check the features and capabilities of the hosting account. To begin, you want an account with your own cPanel and unlimited bandwidth. With hosting companies like Bluehost and Hostgator, you can There are many guides online that can help you with choosing the right hosting company.You can build your online store through hosted solutions or self hosted solutionsThere are companies that host e-commerce scripts on their servers and provide everything that you will need on the backend of your site. This is referred to as a hosted solution. With hosted solutions, you will to redirect and give your shop a unique URL.You can also choose to host ecommerce scripts on your servers. This is what constitutes a self-hosted solution. You can use either open source or paid scripts and customize them to meet your needs. The installation process is simple even if you are not a programmer at heart. www.digitalsherpa.com\n",
      "gateways, you do not have to program or install any scripts on your website to start accepting payments online. You simply need to create a page for your business (on the checkout provider) and link to it. When users select an item on your store, they will be directed to the payment services provider checkout page to pay. After the payment has been made, customers will then be redirected to a ﬁthank-youﬂ or any other page on your website.The biggest drawback of using hosted solutions is that you may see lower conversions. Most online shoppers are hesitant to complete the checkout process on a third party website where they will be redirected to. However, some hosted solutions have packages that allow you to customize the checkout pages to match the design of your website. Having a consistent brand is crucial for a good user experience on your shop.TIP: When choosing a hosted checkout solution, keep in mind your customers™ user experience and security.Many hosted solutions provide a good experience to users with you doing very little on your end. The solutions have fairly similar administration panels, where you can upload photos and add catalogue entries. When using a hosted solution, be prepared to lose a lot of opportunity for customization. However, you There are many hosted e-commerce solutions you can go with. The following three are among the top solutions:Shopify makes it easy for anyone to set up an e-commerce site. The website has great demos on how easy it is to set up a store with them. Some of the features you will enjoy by setting up a store with them include a custom mobile template, unlimited server bandwidth, SSL security, a personal app store and more. into the admin backend and select the design you want. If you have CSS/HTML knowledge, you can edit the raw website design online. The editor has a simple User Interface (UI) that is similar to the WordPress theme™s editor.Here are examples of stores built using it. You can try it depending on the features and functionalities you are looking for. Compare the pricing structure here.www.digitalsherpa.com\n",
      "Yahoo! Merchant Solution may also be right for your small business. The layout of Y!MS is fairly straight-popular payment options on your Y!MS store including credit cards, checks, money orders and PayPal. Click here to see all the features of Yahoo ecommerce solutions.If you are looking for a hosted solution, Yahoo is a great company to partner with. You can take your business from development to launch using Y!MS. Moreover, if you are looking for more customization, the small business networkyou need. Here is a detailed comparison of the available plans.c) BigCommerceBigCommerce is similar to Shopify but has limited features. The website has a clean interface, making it easy for users to sign up. You can easily add users, products, features and take payments online in just a few minutes.company gives you everything you need to set up an online store including a website, domain name, secure shopping cart, product catalog, payment gateway, email account and so on.The stores are built and optimized to rank well on Google and are also mobile friendly. The company™s built-in marketing that includes discounts and coupon codes, automatically generated customer lists, newsletters, and social media integration make sure you have an edge with your store from the beginning. There are many beautiful store themes you can choose to get started with. Click here for a showcase of stores powered by BigCommerce. Here is a breakdown of the features for each price package.If you do not want a hosted solution, you can make your own e-commerce scripts or use other open source or commercial shopping cart scripts. You will have to host the script on your web servers and control things from your end. There are many shopping carts you can go for but only a handful are worth testing. Your website launch and needs are unique and you may need a feature that another solution may not provide. You need to research well to get the right script for your business.www.digitalsherpa.com\n",
      " Below are some the best self-hosted e-commerce scripts you can try:a) Zen CartZen Cart is a popular open source script that will work in most web hosts. The script is free to download. The only downside of using the script is that your website will feature a ﬁPowered by Zen Cartﬂ message at the bottom. Zen Cart is best for those with some programming knowledge. The cart can be integrated with other modules to improve its functionality. Here is a list of services that the company recommends.Zen Cart has a vibrant community that is always pushing things to the next level with the script. You can spice up your site with plugins and add-onsusing Zen Cart, click here.Magento is another good script you can use for your e-commerce website. The script is written in PHP and is frequently updated. As is the case with Zen Cart, you will feel more comfortable using Magento if you are well-versed with HTML and CSS. Magento provides tools that give store owners increased control of their stores. The tools include site management, marketing promotions, analytics and reporting, catalogue management, search engine optimization, product browsing, mobile commerce and others. Click here for an overview of complete product features.The product comes in both Professional and Enterprise editions. The Professional edition is best for If you are comfortable using WordPress, you can easily set up an ecommerce store using various free and paid plugins. Examples of popular plugins that will enable your WordPress site and have ecommerce capabilities include WooCommerce, WP e-Commerce, , and others.If you are using WordPress for your ecommerce store, you should be concerned about security for your customer™s data. There are many tutorials that show how you can secure your WordPress site.Credit cards provide customers with an easy way to make payments at your store. Apart from credit cards, customers may also wish to pay through other methods such as PayPal. You will want to accept payments through the methods that your customers trust and use.To accept credit cards online, you will need a merchant account. You can check with your local bank for the requirements of opening a merchant account. Usually, you will need to have been in business for www.digitalsherpa.com\n",
      "of transactions within a particular cycle. There are also third party If you are just starting operations, it is highly unlikely that you will be able to open a merchant account. To begin, the lack of operational history will disqualify you. Even if you are given a merchant account, you will pay high setup and transactional fees since your business is considered ﬁhigh-risk.ﬂ Examples of merchant account providers you can work with include:After creating a merchant account, you will need a gateway. This is a provider that will securely transfer with gateways while others work with third party gateways. One of the most popular payment gateways in the U.S. is Authorize.net. The good news is that there are payment processors that can allow you to take credit card payments without the need for a merchant account. These alternatives are good for SMBs that cannot qualify for merchant accounts. The leader in this pack is PayPal. Other options you can check include Stripe, Braintree, ChargeBee, Chargify, among others.\n",
      "\n",
      "\n",
      "\n",
      "\n",
      "After you have set up your domain name, hosting and shopping script, you are ready to start selling www.digitalsherpa.com\n",
      "perform some maintenance and tweak your website design to match the needs of your customers. Set up the store to load fast and its content to be easily found by search engine robots (read the marketing section for more of this).Ensure your design will provide a good user experience to your customers. Also, provide comprehensive description to the products and use high quality images to make shoppers interested in the products.Like a physical retail store, you need to maximize the visitors at your store. However, you cannot simply hand over products over the counter. You have to pack and ship the products to your customers, often across state and national boundaries.Shipping comes with its challenges, including taxes, dealing with returned goods or reverse logistics in general. What happens when goods sold are returned but you don™t have a physical location? This company, and then the company will pack and ship the inventory as each order is received.will have to pack and ship each order individually. You may also need a warehouse or garage to store your inventory. All these cut into space and time that you can otherwise be spending more productively.If you only ship products occasionally online, using an order fragile items and perishables, your inventory may not be accepted. However, if you are looking to replace your traditional retail store, you may not want to invest in storage space. You can reduce your time handle orders of any scale.With most e-commerce websites carrying the same products as their competitors, how can you make your store be found by prospects that are ready to buy?www.digitalsherpa.com\n",
      "and improve your sales.Before we look at marketing your site, you need to get design right.Your E-Commerce Store DesignWhether you are using a hosted or self-hosted e-commerce script, there are two major things about design you should consider:\n",
      "\n",
      "Your store should be designed to close sales. Here are 10 design tips that will improve your conversions:Make the CTA buttons on your store easily visible. Use bold color, size and design to make the CTA button stand out to the user. See how the CTA button at Avon.com stands out.products using the search function rather than going through the categories. Simplify searches on your store with an auto-complete function. When customers add items to their cart, they want to know that it was actually registered. Somewhere on the checkout page, have a cart showing all the items added. Make the cart stand out by using contrasting colors from the color scheme of the rest of the store.down menu at Walmart store. Use large, high quality images that are optimized to load fast on the website. The best image formats to use for your products are JPEG and PNG. Show the product in multiple angles to help customers to see what they want to buy.Don™t force customers to do something that they don™t want. Requiring forced login or registration to shop is putting a wall between customers and their purchase. If you need users to register, explore other easier options such as using social media login systems.www.digitalsherpa.com\n",
      "Provide customers with feedback from other customers about the products at your store. Allow customers to post reviews of the products. your product and business.Let customers know where they are in the checkout process. Online indicators on every page to inform customers where they are in the checkout process.Remove distractions like sidebar navigation on the checkout page. Also, avoid the urge to continue selling on the checkout page. Use single-page checkout pages for higher conversions.x) Customized experienceLet visitors be able to customize their checkout experience. Provide tools that enable shoppers to sort products by release date, bestsellers, review, price and so on.After designing your store, you need to promote it. With your competitors looking to win the same customers you are targeting, you need to be proactive in promoting your store and building your brand online. This is where the real work begins.Generate Leads to Your E-commerce Storemethods are search engine optimization (SEO), content marketing, social media marketing and paid advertisements.high on search engine results pages (SERPs) when customers type various keywords related to your products. Here are some tips that will make your e-commerce store more SEO-friendly.Your e-commerce site should support static and keyword-rich URLs. You can modify these URLs for www.digitalsherpa.com\n",
      "ii) Use 301 redirectsWhen you stop selling some products on your website, you may want to delete the pages where the products were listed. When you delete pages, use 301 redirects to guide customers to a new page. 301 redirects improve customer experience on your site and ensure your site retains link juice from the deleted pages.iii) Use canonicalizationIf your site has a number of pages that have the same content, use <link rel=ﬂcanonicalﬂ href=ﬂﬂ /> to tell Google which page should be given preference. This will also make the site safe from duplicate content penalties. and other irrelevant links on your site. Search engine robots cannot read images on websites. To optimize images for SEO, use Alt tags for each of them. The Alt tag is simply a text description of the image. TIP: When writing the Alt tags, make sure they contain the target keyword of the product. Use your target product keywords in the title tags. Apart from this, optimize the product descriptions to improve the click-through rate. When writing the descriptions, make sure you appeal to the customer™s emotions. TIP: Remember, buying is an emotional decision and a customer will click your website™s URL on search engine results pages simply because of the information in the description. Write descriptions using persuasive language.high on Google when customers search for them.When building backlinks, you should focus more on building quality backlinks rather than getting a large number of low-quality links. Quality backlinks refers to links coming from websites that are trusted by Google and that are in the same niche as your store.Make sure the pages on which you want to build your links are indexed by Google. Building backlinks from pages that are not indexed by Google will not add any value to your website.www.digitalsherpa.com\n",
      "TIP: Building backlinks can be tiresome and time consuming. You can outsource the work to a professional SEO agency.Apart from building backlinks, you should have a content marketing strategy for your store. The strategy should guide towards achieving your overall goals of getting more sales, improving brand awareness and increasing your store™s ranking on search engines.Below are some content marketing tactics you should focus.i) BloggingHave a blog on your store. You can easily incorporate a blog on your website using a content management system (CMS) like WordPress. Your blog can serve two functions:announcements or information.products you are selling.The main aim of your blog should be to educate customers about your products. Some of the topics you can blog about include tips on choosing select products, on.TIP: When blogging, focus on adding value to the lives of the customers. Avoid being ﬁsalesyﬂ in your Email marketing should be part of your content marketing campaign. The best thing with email marketing is that you can reach your prospects any time that you want. Successful email marketing is all about knowing what your prospects want and targeting them with relevant content. Producing eBooks and white papers based on your products can help you generate more leads and increase your conversions. Based on the eBooks that leads download, you can know what their interests are and nurture them through email marketing messages to warm them up for a sale.www.digitalsherpa.com\n",
      "Educational eBooks that show how your products work and how they will help customers can enhance your brand and make your store the go-to place for any information related to your industry.TIP: Your content marketing strategies should complement each other. For example, the leads that download your eBooks can be segmented and put in your email list for further targeting with related or Video marketing is crucial for sales because it gives customers the opportunity to see the product, and know how to use it or how it functions. Have clear videos that show the product in action. Get sure the audio is clear.TIP: You do not have to host all your videos on your website. Simply upload the videos on YouTube or other video hosting sites and link to them from your website.customers and close sales. Incorporate social media buttons on your store so that customers can share your products with their networks online.\n",
      "is engaging, educative and worth sharing with your target market. Post high quality photos of your products and link to the products on your store.If you have specials on your store, announce to your fans on \n",
      "Use Twitter to engage your customers and prospects by users who are talking about your brand or products by searching various keywords on the network using hash tags.to automate your social media tasks such as posting on Facebook and Twitter. c) Pinterestwww.digitalsherpa.com\n",
      "images on your Pinterest account and provide a link to where they are on your e-commerce store. As your business grows, it may be necessary to have a full time social media manager to manage conversation with the company and get their questions answered quickly.Take Away: Social media marketing is all about relationships. Connect with your target prospects and provide value to them before you ask for a sale.advertising is the way to go. Paid advertising includes pay per click (PPC), sponsored emails or blog posts, and banner advertising.Paid advertisements come in various forms. You can pay for every click, view, number of impressions and so on. When done right, pay per click (PPC) and pay per view (PPV) can drive campaign.The key to being successful with paid advertising is to know your target market and the keywords that they type on search engines when looking for your product. Since you are using money to get your website in front of buyers, make sure your campaigns are as targeted as possible. This will ensure good return on investment (ROI). If you carry a large inventory, you many need a full time PPC or PPV manager to create and optimize your campaigns for maximum ROI.and track various metrics. Each marketing technique should be measured to determine its contribution towards achieving the overall goals of the business.Some of the metrics you should measure include:www.digitalsherpa.com\n",
      "scaled up while those that do not result in major impacts scaled down.\n"
     ]
    }
   ],
   "source": [
    "start = date.datetime.now()\n",
    "solar_data = ''\n",
    "for i in range(0, no_pages):\n",
    "    page = pdf_reader.getPage(i)\n",
    "    solar_data += page.extractText()\n",
    "\n",
    "end = date.datetime.now()\n",
    "print(\"Time taken =\",end-start)\n",
    "print(solar_data)"
   ]
  },
  {
   "cell_type": "code",
   "execution_count": null,
   "id": "d847e13c",
   "metadata": {},
   "outputs": [],
   "source": []
  },
  {
   "cell_type": "code",
   "execution_count": null,
   "id": "bea463cc",
   "metadata": {},
   "outputs": [],
   "source": []
  },
  {
   "cell_type": "code",
   "execution_count": null,
   "id": "8b837692",
   "metadata": {},
   "outputs": [],
   "source": []
  },
  {
   "cell_type": "code",
   "execution_count": null,
   "id": "6a94f5c8",
   "metadata": {},
   "outputs": [],
   "source": []
  },
  {
   "cell_type": "code",
   "execution_count": null,
   "id": "f7db44ef",
   "metadata": {},
   "outputs": [],
   "source": []
  },
  {
   "cell_type": "code",
   "execution_count": null,
   "id": "fb113ca8",
   "metadata": {},
   "outputs": [],
   "source": []
  },
  {
   "cell_type": "code",
   "execution_count": 35,
   "id": "be56e62b",
   "metadata": {},
   "outputs": [
    {
     "data": {
      "text/plain": [
       "'Complete Guide \\nto Building an \\nE-Commerce Business \\nCONTENT AND SOCIAL MEDIA      MARKETINGFOR SMALL BUSINESSESwww.digitalsherpa.com\\nAdvancement in technology and an increasingly savvy consumer market has made e-commerce a powerful force in the global economy. With more people opting to shop on the Internet, SMBs take steps to reach this market by setting up online shops. As more payment services providers get into the market, setting up an e-commerce website is no longer cost-prohibitive. Today, anyone with basic web skills can set up a robust e-commerce site within a few days and without breaking the bank.One of the major things that buyers are concerned about when shopping online is their security. With major online fraud cases being reported around the world, you cannot blame consumers for being extra cautious. Therefore, when setting up an e-commerce store, you need to plan carefully and keep security at the forefront of your installation.With that said, this guide will take you from \\nmarketing. Let™s get started.The Planning StageBefore you jump to building your store, you must know what you will sell. At the least, answer these three basic questions before proceeding:\\n\\n\\nThis is the planning stage of your business. You need to carefully consider your goals and how you see your company. It also helps to start building your brand before you even start developing your site. To begin, buy a matching domain name for your company and get a logo designed.You can also start building clout for your business even before you launch. If you are online, set up customers (more on this later in the marketing segment of the eBook). Complete Guide to Building an \\nE-Commerce Business \\nwww.digitalsherpa.com\\nYou can also create a Google account for the company to access apps such as Google Analytics and Google Docs that you can use for your business. Having a YouTube account is also important especially if you will be using video to market your store. The major work at this stage is to secure your store™s brand across the various online properties. This have a presence on and open accounts using your company™s name as the user name.If you already have the name of your shop, it is time to start setting should not cost you more than $10 for a .com extension. You can use NameCheap, GoDaddy or any other domain name registrar you prefer. Your domain name will be part of your brand. Think carefully about the name you want to use.company. Look for a hosting company that has good servers and that will be able to run your online store. If you do not have any preferences, you can stick with servers that run PHP. The language is open source and is supported in most server environments. Make sure your hosting accounts will support PHP and MySQL databases.Also, check the features and capabilities of the hosting account. To begin, you want an account with your own cPanel and unlimited bandwidth. With hosting companies like Bluehost and Hostgator, you can There are many guides online that can help you with choosing the right hosting company.You can build your online store through hosted solutions or self hosted solutionsThere are companies that host e-commerce scripts on their servers and provide everything that you will need on the backend of your site. This is referred to as a hosted solution. With hosted solutions, you will to redirect and give your shop a unique URL.You can also choose to host ecommerce scripts on your servers. This is what constitutes a self-hosted solution. You can use either open source or paid scripts and customize them to meet your needs. The installation process is simple even if you are not a programmer at heart. www.digitalsherpa.com\\ngateways, you do not have to program or install any scripts on your website to start accepting payments online. You simply need to create a page for your business (on the checkout provider) and link to it. When users select an item on your store, they will be directed to the payment services provider checkout page to pay. After the payment has been made, customers will then be redirected to a ﬁthank-youﬂ or any other page on your website.The biggest drawback of using hosted solutions is that you may see lower conversions. Most online shoppers are hesitant to complete the checkout process on a third party website where they will be redirected to. However, some hosted solutions have packages that allow you to customize the checkout pages to match the design of your website. Having a consistent brand is crucial for a good user experience on your shop.TIP: When choosing a hosted checkout solution, keep in mind your customers™ user experience and security.Many hosted solutions provide a good experience to users with you doing very little on your end. The solutions have fairly similar administration panels, where you can upload photos and add catalogue entries. When using a hosted solution, be prepared to lose a lot of opportunity for customization. However, you There are many hosted e-commerce solutions you can go with. The following three are among the top solutions:Shopify makes it easy for anyone to set up an e-commerce site. The website has great demos on how easy it is to set up a store with them. Some of the features you will enjoy by setting up a store with them include a custom mobile template, unlimited server bandwidth, SSL security, a personal app store and more. into the admin backend and select the design you want. If you have CSS/HTML knowledge, you can edit the raw website design online. The editor has a simple User Interface (UI) that is similar to the WordPress theme™s editor.Here are examples of stores built using it. You can try it depending on the features and functionalities you are looking for. Compare the pricing structure here.www.digitalsherpa.com\\nYahoo! Merchant Solution may also be right for your small business. The layout of Y!MS is fairly straight-popular payment options on your Y!MS store including credit cards, checks, money orders and PayPal. Click here to see all the features of Yahoo ecommerce solutions.If you are looking for a hosted solution, Yahoo is a great company to partner with. You can take your business from development to launch using Y!MS. Moreover, if you are looking for more customization, the small business networkyou need. Here is a detailed comparison of the available plans.c) BigCommerceBigCommerce is similar to Shopify but has limited features. The website has a clean interface, making it easy for users to sign up. You can easily add users, products, features and take payments online in just a few minutes.company gives you everything you need to set up an online store including a website, domain name, secure shopping cart, product catalog, payment gateway, email account and so on.The stores are built and optimized to rank well on Google and are also mobile friendly. The company™s built-in marketing that includes discounts and coupon codes, automatically generated customer lists, newsletters, and social media integration make sure you have an edge with your store from the beginning. There are many beautiful store themes you can choose to get started with. Click here for a showcase of stores powered by BigCommerce. Here is a breakdown of the features for each price package.If you do not want a hosted solution, you can make your own e-commerce scripts or use other open source or commercial shopping cart scripts. You will have to host the script on your web servers and control things from your end. There are many shopping carts you can go for but only a handful are worth testing. Your website launch and needs are unique and you may need a feature that another solution may not provide. You need to research well to get the right script for your business.www.digitalsherpa.com\\n Below are some the best self-hosted e-commerce scripts you can try:a) Zen CartZen Cart is a popular open source script that will work in most web hosts. The script is free to download. The only downside of using the script is that your website will feature a ﬁPowered by Zen Cartﬂ message at the bottom. Zen Cart is best for those with some programming knowledge. The cart can be integrated with other modules to improve its functionality. Here is a list of services that the company recommends.Zen Cart has a vibrant community that is always pushing things to the next level with the script. You can spice up your site with plugins and add-onsusing Zen Cart, click here.Magento is another good script you can use for your e-commerce website. The script is written in PHP and is frequently updated. As is the case with Zen Cart, you will feel more comfortable using Magento if you are well-versed with HTML and CSS. Magento provides tools that give store owners increased control of their stores. The tools include site management, marketing promotions, analytics and reporting, catalogue management, search engine optimization, product browsing, mobile commerce and others. Click here for an overview of complete product features.The product comes in both Professional and Enterprise editions. The Professional edition is best for If you are comfortable using WordPress, you can easily set up an ecommerce store using various free and paid plugins. Examples of popular plugins that will enable your WordPress site and have ecommerce capabilities include WooCommerce, WP e-Commerce, , and others.If you are using WordPress for your ecommerce store, you should be concerned about security for your customer™s data. There are many tutorials that show how you can secure your WordPress site.Credit cards provide customers with an easy way to make payments at your store. Apart from credit cards, customers may also wish to pay through other methods such as PayPal. You will want to accept payments through the methods that your customers trust and use.To accept credit cards online, you will need a merchant account. You can check with your local bank for the requirements of opening a merchant account. Usually, you will need to have been in business for www.digitalsherpa.com\\nof transactions within a particular cycle. There are also third party If you are just starting operations, it is highly unlikely that you will be able to open a merchant account. To begin, the lack of operational history will disqualify you. Even if you are given a merchant account, you will pay high setup and transactional fees since your business is considered ﬁhigh-risk.ﬂ Examples of merchant account providers you can work with include:After creating a merchant account, you will need a gateway. This is a provider that will securely transfer with gateways while others work with third party gateways. One of the most popular payment gateways in the U.S. is Authorize.net. The good news is that there are payment processors that can allow you to take credit card payments without the need for a merchant account. These alternatives are good for SMBs that cannot qualify for merchant accounts. The leader in this pack is PayPal. Other options you can check include Stripe, Braintree, ChargeBee, Chargify, among others.\\n\\n\\n\\n\\nAfter you have set up your domain name, hosting and shopping script, you are ready to start selling www.digitalsherpa.com\\nperform some maintenance and tweak your website design to match the needs of your customers. Set up the store to load fast and its content to be easily found by search engine robots (read the marketing section for more of this).Ensure your design will provide a good user experience to your customers. Also, provide comprehensive description to the products and use high quality images to make shoppers interested in the products.Like a physical retail store, you need to maximize the visitors at your store. However, you cannot simply hand over products over the counter. You have to pack and ship the products to your customers, often across state and national boundaries.Shipping comes with its challenges, including taxes, dealing with returned goods or reverse logistics in general. What happens when goods sold are returned but you don™t have a physical location? This company, and then the company will pack and ship the inventory as each order is received.will have to pack and ship each order individually. You may also need a warehouse or garage to store your inventory. All these cut into space and time that you can otherwise be spending more productively.If you only ship products occasionally online, using an order fragile items and perishables, your inventory may not be accepted. However, if you are looking to replace your traditional retail store, you may not want to invest in storage space. You can reduce your time handle orders of any scale.With most e-commerce websites carrying the same products as their competitors, how can you make your store be found by prospects that are ready to buy?www.digitalsherpa.com\\nand improve your sales.Before we look at marketing your site, you need to get design right.Your E-Commerce Store DesignWhether you are using a hosted or self-hosted e-commerce script, there are two major things about design you should consider:\\n\\nYour store should be designed to close sales. Here are 10 design tips that will improve your conversions:Make the CTA buttons on your store easily visible. Use bold color, size and design to make the CTA button stand out to the user. See how the CTA button at Avon.com stands out.products using the search function rather than going through the categories. Simplify searches on your store with an auto-complete function. When customers add items to their cart, they want to know that it was actually registered. Somewhere on the checkout page, have a cart showing all the items added. Make the cart stand out by using contrasting colors from the color scheme of the rest of the store.down menu at Walmart store. Use large, high quality images that are optimized to load fast on the website. The best image formats to use for your products are JPEG and PNG. Show the product in multiple angles to help customers to see what they want to buy.Don™t force customers to do something that they don™t want. Requiring forced login or registration to shop is putting a wall between customers and their purchase. If you need users to register, explore other easier options such as using social media login systems.www.digitalsherpa.com\\nProvide customers with feedback from other customers about the products at your store. Allow customers to post reviews of the products. your product and business.Let customers know where they are in the checkout process. Online indicators on every page to inform customers where they are in the checkout process.Remove distractions like sidebar navigation on the checkout page. Also, avoid the urge to continue selling on the checkout page. Use single-page checkout pages for higher conversions.x) Customized experienceLet visitors be able to customize their checkout experience. Provide tools that enable shoppers to sort products by release date, bestsellers, review, price and so on.After designing your store, you need to promote it. With your competitors looking to win the same customers you are targeting, you need to be proactive in promoting your store and building your brand online. This is where the real work begins.Generate Leads to Your E-commerce Storemethods are search engine optimization (SEO), content marketing, social media marketing and paid advertisements.high on search engine results pages (SERPs) when customers type various keywords related to your products. Here are some tips that will make your e-commerce store more SEO-friendly.Your e-commerce site should support static and keyword-rich URLs. You can modify these URLs for www.digitalsherpa.com\\nii) Use 301 redirectsWhen you stop selling some products on your website, you may want to delete the pages where the products were listed. When you delete pages, use 301 redirects to guide customers to a new page. 301 redirects improve customer experience on your site and ensure your site retains link juice from the deleted pages.iii) Use canonicalizationIf your site has a number of pages that have the same content, use <link rel=ﬂcanonicalﬂ href=ﬂﬂ /> to tell Google which page should be given preference. This will also make the site safe from duplicate content penalties. and other irrelevant links on your site. Search engine robots cannot read images on websites. To optimize images for SEO, use Alt tags for each of them. The Alt tag is simply a text description of the image. TIP: When writing the Alt tags, make sure they contain the target keyword of the product. Use your target product keywords in the title tags. Apart from this, optimize the product descriptions to improve the click-through rate. When writing the descriptions, make sure you appeal to the customer™s emotions. TIP: Remember, buying is an emotional decision and a customer will click your website™s URL on search engine results pages simply because of the information in the description. Write descriptions using persuasive language.high on Google when customers search for them.When building backlinks, you should focus more on building quality backlinks rather than getting a large number of low-quality links. Quality backlinks refers to links coming from websites that are trusted by Google and that are in the same niche as your store.Make sure the pages on which you want to build your links are indexed by Google. Building backlinks from pages that are not indexed by Google will not add any value to your website.www.digitalsherpa.com\\nTIP: Building backlinks can be tiresome and time consuming. You can outsource the work to a professional SEO agency.Apart from building backlinks, you should have a content marketing strategy for your store. The strategy should guide towards achieving your overall goals of getting more sales, improving brand awareness and increasing your store™s ranking on search engines.Below are some content marketing tactics you should focus.i) BloggingHave a blog on your store. You can easily incorporate a blog on your website using a content management system (CMS) like WordPress. Your blog can serve two functions:announcements or information.products you are selling.The main aim of your blog should be to educate customers about your products. Some of the topics you can blog about include tips on choosing select products, on.TIP: When blogging, focus on adding value to the lives of the customers. Avoid being ﬁsalesyﬂ in your Email marketing should be part of your content marketing campaign. The best thing with email marketing is that you can reach your prospects any time that you want. Successful email marketing is all about knowing what your prospects want and targeting them with relevant content. Producing eBooks and white papers based on your products can help you generate more leads and increase your conversions. Based on the eBooks that leads download, you can know what their interests are and nurture them through email marketing messages to warm them up for a sale.www.digitalsherpa.com\\nEducational eBooks that show how your products work and how they will help customers can enhance your brand and make your store the go-to place for any information related to your industry.TIP: Your content marketing strategies should complement each other. For example, the leads that download your eBooks can be segmented and put in your email list for further targeting with related or Video marketing is crucial for sales because it gives customers the opportunity to see the product, and know how to use it or how it functions. Have clear videos that show the product in action. Get sure the audio is clear.TIP: You do not have to host all your videos on your website. Simply upload the videos on YouTube or other video hosting sites and link to them from your website.customers and close sales. Incorporate social media buttons on your store so that customers can share your products with their networks online.\\nis engaging, educative and worth sharing with your target market. Post high quality photos of your products and link to the products on your store.If you have specials on your store, announce to your fans on \\nUse Twitter to engage your customers and prospects by users who are talking about your brand or products by searching various keywords on the network using hash tags.to automate your social media tasks such as posting on Facebook and Twitter. c) Pinterestwww.digitalsherpa.com\\nimages on your Pinterest account and provide a link to where they are on your e-commerce store. As your business grows, it may be necessary to have a full time social media manager to manage conversation with the company and get their questions answered quickly.Take Away: Social media marketing is all about relationships. Connect with your target prospects and provide value to them before you ask for a sale.advertising is the way to go. Paid advertising includes pay per click (PPC), sponsored emails or blog posts, and banner advertising.Paid advertisements come in various forms. You can pay for every click, view, number of impressions and so on. When done right, pay per click (PPC) and pay per view (PPV) can drive campaign.The key to being successful with paid advertising is to know your target market and the keywords that they type on search engines when looking for your product. Since you are using money to get your website in front of buyers, make sure your campaigns are as targeted as possible. This will ensure good return on investment (ROI). If you carry a large inventory, you many need a full time PPC or PPV manager to create and optimize your campaigns for maximum ROI.and track various metrics. Each marketing technique should be measured to determine its contribution towards achieving the overall goals of the business.Some of the metrics you should measure include:www.digitalsherpa.com\\nscaled up while those that do not result in major impacts scaled down.'"
      ]
     },
     "execution_count": 35,
     "metadata": {},
     "output_type": "execute_result"
    }
   ],
   "source": [
    "solar_data = solar_data.replace(\"'s\",'')\n",
    "solar_data"
   ]
  },
  {
   "cell_type": "code",
   "execution_count": 36,
   "id": "594d8486",
   "metadata": {},
   "outputs": [
    {
     "data": {
      "text/plain": [
       "'Complete Guide to Building an E-Commerce Business CONTENT AND SOCIAL MEDIA      MARKETINGFOR SMALL BUSINESSESwww.digitalsherpa.comAdvancement in technology and an increasingly savvy consumer market has made e-commerce a powerful force in the global economy. With more people opting to shop on the Internet, SMBs take steps to reach this market by setting up online shops. As more payment services providers get into the market, setting up an e-commerce website is no longer cost-prohibitive. Today, anyone with basic web skills can set up a robust e-commerce site within a few days and without breaking the bank.One of the major things that buyers are concerned about when shopping online is their security. With major online fraud cases being reported around the world, you cannot blame consumers for being extra cautious. Therefore, when setting up an e-commerce store, you need to plan carefully and keep security at the forefront of your installation.With that said, this guide will take you from marketing. Let™s get started.The Planning StageBefore you jump to building your store, you must know what you will sell. At the least, answer these three basic questions before proceeding:This is the planning stage of your business. You need to carefully consider your goals and how you see your company. It also helps to start building your brand before you even start developing your site. To begin, buy a matching domain name for your company and get a logo designed.You can also start building clout for your business even before you launch. If you are online, set up customers (more on this later in the marketing segment of the eBook). Complete Guide to Building an E-Commerce Business www.digitalsherpa.comYou can also create a Google account for the company to access apps such as Google Analytics and Google Docs that you can use for your business. Having a YouTube account is also important especially if you will be using video to market your store. The major work at this stage is to secure your store™s brand across the various online properties. This have a presence on and open accounts using your company™s name as the user name.If you already have the name of your shop, it is time to start setting should not cost you more than $10 for a .com extension. You can use NameCheap, GoDaddy or any other domain name registrar you prefer. Your domain name will be part of your brand. Think carefully about the name you want to use.company. Look for a hosting company that has good servers and that will be able to run your online store. If you do not have any preferences, you can stick with servers that run PHP. The language is open source and is supported in most server environments. Make sure your hosting accounts will support PHP and MySQL databases.Also, check the features and capabilities of the hosting account. To begin, you want an account with your own cPanel and unlimited bandwidth. With hosting companies like Bluehost and Hostgator, you can There are many guides online that can help you with choosing the right hosting company.You can build your online store through hosted solutions or self hosted solutionsThere are companies that host e-commerce scripts on their servers and provide everything that you will need on the backend of your site. This is referred to as a hosted solution. With hosted solutions, you will to redirect and give your shop a unique URL.You can also choose to host ecommerce scripts on your servers. This is what constitutes a self-hosted solution. You can use either open source or paid scripts and customize them to meet your needs. The installation process is simple even if you are not a programmer at heart. www.digitalsherpa.comgateways, you do not have to program or install any scripts on your website to start accepting payments online. You simply need to create a page for your business (on the checkout provider) and link to it. When users select an item on your store, they will be directed to the payment services provider checkout page to pay. After the payment has been made, customers will then be redirected to a ﬁthank-youﬂ or any other page on your website.The biggest drawback of using hosted solutions is that you may see lower conversions. Most online shoppers are hesitant to complete the checkout process on a third party website where they will be redirected to. However, some hosted solutions have packages that allow you to customize the checkout pages to match the design of your website. Having a consistent brand is crucial for a good user experience on your shop.TIP: When choosing a hosted checkout solution, keep in mind your customers™ user experience and security.Many hosted solutions provide a good experience to users with you doing very little on your end. The solutions have fairly similar administration panels, where you can upload photos and add catalogue entries. When using a hosted solution, be prepared to lose a lot of opportunity for customization. However, you There are many hosted e-commerce solutions you can go with. The following three are among the top solutions:Shopify makes it easy for anyone to set up an e-commerce site. The website has great demos on how easy it is to set up a store with them. Some of the features you will enjoy by setting up a store with them include a custom mobile template, unlimited server bandwidth, SSL security, a personal app store and more. into the admin backend and select the design you want. If you have CSS/HTML knowledge, you can edit the raw website design online. The editor has a simple User Interface (UI) that is similar to the WordPress theme™s editor.Here are examples of stores built using it. You can try it depending on the features and functionalities you are looking for. Compare the pricing structure here.www.digitalsherpa.comYahoo! Merchant Solution may also be right for your small business. The layout of Y!MS is fairly straight-popular payment options on your Y!MS store including credit cards, checks, money orders and PayPal. Click here to see all the features of Yahoo ecommerce solutions.If you are looking for a hosted solution, Yahoo is a great company to partner with. You can take your business from development to launch using Y!MS. Moreover, if you are looking for more customization, the small business networkyou need. Here is a detailed comparison of the available plans.c) BigCommerceBigCommerce is similar to Shopify but has limited features. The website has a clean interface, making it easy for users to sign up. You can easily add users, products, features and take payments online in just a few minutes.company gives you everything you need to set up an online store including a website, domain name, secure shopping cart, product catalog, payment gateway, email account and so on.The stores are built and optimized to rank well on Google and are also mobile friendly. The company™s built-in marketing that includes discounts and coupon codes, automatically generated customer lists, newsletters, and social media integration make sure you have an edge with your store from the beginning. There are many beautiful store themes you can choose to get started with. Click here for a showcase of stores powered by BigCommerce. Here is a breakdown of the features for each price package.If you do not want a hosted solution, you can make your own e-commerce scripts or use other open source or commercial shopping cart scripts. You will have to host the script on your web servers and control things from your end. There are many shopping carts you can go for but only a handful are worth testing. Your website launch and needs are unique and you may need a feature that another solution may not provide. You need to research well to get the right script for your business.www.digitalsherpa.com Below are some the best self-hosted e-commerce scripts you can try:a) Zen CartZen Cart is a popular open source script that will work in most web hosts. The script is free to download. The only downside of using the script is that your website will feature a ﬁPowered by Zen Cartﬂ message at the bottom. Zen Cart is best for those with some programming knowledge. The cart can be integrated with other modules to improve its functionality. Here is a list of services that the company recommends.Zen Cart has a vibrant community that is always pushing things to the next level with the script. You can spice up your site with plugins and add-onsusing Zen Cart, click here.Magento is another good script you can use for your e-commerce website. The script is written in PHP and is frequently updated. As is the case with Zen Cart, you will feel more comfortable using Magento if you are well-versed with HTML and CSS. Magento provides tools that give store owners increased control of their stores. The tools include site management, marketing promotions, analytics and reporting, catalogue management, search engine optimization, product browsing, mobile commerce and others. Click here for an overview of complete product features.The product comes in both Professional and Enterprise editions. The Professional edition is best for If you are comfortable using WordPress, you can easily set up an ecommerce store using various free and paid plugins. Examples of popular plugins that will enable your WordPress site and have ecommerce capabilities include WooCommerce, WP e-Commerce, , and others.If you are using WordPress for your ecommerce store, you should be concerned about security for your customer™s data. There are many tutorials that show how you can secure your WordPress site.Credit cards provide customers with an easy way to make payments at your store. Apart from credit cards, customers may also wish to pay through other methods such as PayPal. You will want to accept payments through the methods that your customers trust and use.To accept credit cards online, you will need a merchant account. You can check with your local bank for the requirements of opening a merchant account. Usually, you will need to have been in business for www.digitalsherpa.comof transactions within a particular cycle. There are also third party If you are just starting operations, it is highly unlikely that you will be able to open a merchant account. To begin, the lack of operational history will disqualify you. Even if you are given a merchant account, you will pay high setup and transactional fees since your business is considered ﬁhigh-risk.ﬂ Examples of merchant account providers you can work with include:After creating a merchant account, you will need a gateway. This is a provider that will securely transfer with gateways while others work with third party gateways. One of the most popular payment gateways in the U.S. is Authorize.net. The good news is that there are payment processors that can allow you to take credit card payments without the need for a merchant account. These alternatives are good for SMBs that cannot qualify for merchant accounts. The leader in this pack is PayPal. Other options you can check include Stripe, Braintree, ChargeBee, Chargify, among others.After you have set up your domain name, hosting and shopping script, you are ready to start selling www.digitalsherpa.comperform some maintenance and tweak your website design to match the needs of your customers. Set up the store to load fast and its content to be easily found by search engine robots (read the marketing section for more of this).Ensure your design will provide a good user experience to your customers. Also, provide comprehensive description to the products and use high quality images to make shoppers interested in the products.Like a physical retail store, you need to maximize the visitors at your store. However, you cannot simply hand over products over the counter. You have to pack and ship the products to your customers, often across state and national boundaries.Shipping comes with its challenges, including taxes, dealing with returned goods or reverse logistics in general. What happens when goods sold are returned but you don™t have a physical location? This company, and then the company will pack and ship the inventory as each order is received.will have to pack and ship each order individually. You may also need a warehouse or garage to store your inventory. All these cut into space and time that you can otherwise be spending more productively.If you only ship products occasionally online, using an order fragile items and perishables, your inventory may not be accepted. However, if you are looking to replace your traditional retail store, you may not want to invest in storage space. You can reduce your time handle orders of any scale.With most e-commerce websites carrying the same products as their competitors, how can you make your store be found by prospects that are ready to buy?www.digitalsherpa.comand improve your sales.Before we look at marketing your site, you need to get design right.Your E-Commerce Store DesignWhether you are using a hosted or self-hosted e-commerce script, there are two major things about design you should consider:Your store should be designed to close sales. Here are 10 design tips that will improve your conversions:Make the CTA buttons on your store easily visible. Use bold color, size and design to make the CTA button stand out to the user. See how the CTA button at Avon.com stands out.products using the search function rather than going through the categories. Simplify searches on your store with an auto-complete function. When customers add items to their cart, they want to know that it was actually registered. Somewhere on the checkout page, have a cart showing all the items added. Make the cart stand out by using contrasting colors from the color scheme of the rest of the store.down menu at Walmart store. Use large, high quality images that are optimized to load fast on the website. The best image formats to use for your products are JPEG and PNG. Show the product in multiple angles to help customers to see what they want to buy.Don™t force customers to do something that they don™t want. Requiring forced login or registration to shop is putting a wall between customers and their purchase. If you need users to register, explore other easier options such as using social media login systems.www.digitalsherpa.comProvide customers with feedback from other customers about the products at your store. Allow customers to post reviews of the products. your product and business.Let customers know where they are in the checkout process. Online indicators on every page to inform customers where they are in the checkout process.Remove distractions like sidebar navigation on the checkout page. Also, avoid the urge to continue selling on the checkout page. Use single-page checkout pages for higher conversions.x) Customized experienceLet visitors be able to customize their checkout experience. Provide tools that enable shoppers to sort products by release date, bestsellers, review, price and so on.After designing your store, you need to promote it. With your competitors looking to win the same customers you are targeting, you need to be proactive in promoting your store and building your brand online. This is where the real work begins.Generate Leads to Your E-commerce Storemethods are search engine optimization (SEO), content marketing, social media marketing and paid advertisements.high on search engine results pages (SERPs) when customers type various keywords related to your products. Here are some tips that will make your e-commerce store more SEO-friendly.Your e-commerce site should support static and keyword-rich URLs. You can modify these URLs for www.digitalsherpa.comii) Use 301 redirectsWhen you stop selling some products on your website, you may want to delete the pages where the products were listed. When you delete pages, use 301 redirects to guide customers to a new page. 301 redirects improve customer experience on your site and ensure your site retains link juice from the deleted pages.iii) Use canonicalizationIf your site has a number of pages that have the same content, use <link rel=ﬂcanonicalﬂ href=ﬂﬂ /> to tell Google which page should be given preference. This will also make the site safe from duplicate content penalties. and other irrelevant links on your site. Search engine robots cannot read images on websites. To optimize images for SEO, use Alt tags for each of them. The Alt tag is simply a text description of the image. TIP: When writing the Alt tags, make sure they contain the target keyword of the product. Use your target product keywords in the title tags. Apart from this, optimize the product descriptions to improve the click-through rate. When writing the descriptions, make sure you appeal to the customer™s emotions. TIP: Remember, buying is an emotional decision and a customer will click your website™s URL on search engine results pages simply because of the information in the description. Write descriptions using persuasive language.high on Google when customers search for them.When building backlinks, you should focus more on building quality backlinks rather than getting a large number of low-quality links. Quality backlinks refers to links coming from websites that are trusted by Google and that are in the same niche as your store.Make sure the pages on which you want to build your links are indexed by Google. Building backlinks from pages that are not indexed by Google will not add any value to your website.www.digitalsherpa.comTIP: Building backlinks can be tiresome and time consuming. You can outsource the work to a professional SEO agency.Apart from building backlinks, you should have a content marketing strategy for your store. The strategy should guide towards achieving your overall goals of getting more sales, improving brand awareness and increasing your store™s ranking on search engines.Below are some content marketing tactics you should focus.i) BloggingHave a blog on your store. You can easily incorporate a blog on your website using a content management system (CMS) like WordPress. Your blog can serve two functions:announcements or information.products you are selling.The main aim of your blog should be to educate customers about your products. Some of the topics you can blog about include tips on choosing select products, on.TIP: When blogging, focus on adding value to the lives of the customers. Avoid being ﬁsalesyﬂ in your Email marketing should be part of your content marketing campaign. The best thing with email marketing is that you can reach your prospects any time that you want. Successful email marketing is all about knowing what your prospects want and targeting them with relevant content. Producing eBooks and white papers based on your products can help you generate more leads and increase your conversions. Based on the eBooks that leads download, you can know what their interests are and nurture them through email marketing messages to warm them up for a sale.www.digitalsherpa.comEducational eBooks that show how your products work and how they will help customers can enhance your brand and make your store the go-to place for any information related to your industry.TIP: Your content marketing strategies should complement each other. For example, the leads that download your eBooks can be segmented and put in your email list for further targeting with related or Video marketing is crucial for sales because it gives customers the opportunity to see the product, and know how to use it or how it functions. Have clear videos that show the product in action. Get sure the audio is clear.TIP: You do not have to host all your videos on your website. Simply upload the videos on YouTube or other video hosting sites and link to them from your website.customers and close sales. Incorporate social media buttons on your store so that customers can share your products with their networks online.is engaging, educative and worth sharing with your target market. Post high quality photos of your products and link to the products on your store.If you have specials on your store, announce to your fans on Use Twitter to engage your customers and prospects by users who are talking about your brand or products by searching various keywords on the network using hash tags.to automate your social media tasks such as posting on Facebook and Twitter. c) Pinterestwww.digitalsherpa.comimages on your Pinterest account and provide a link to where they are on your e-commerce store. As your business grows, it may be necessary to have a full time social media manager to manage conversation with the company and get their questions answered quickly.Take Away: Social media marketing is all about relationships. Connect with your target prospects and provide value to them before you ask for a sale.advertising is the way to go. Paid advertising includes pay per click (PPC), sponsored emails or blog posts, and banner advertising.Paid advertisements come in various forms. You can pay for every click, view, number of impressions and so on. When done right, pay per click (PPC) and pay per view (PPV) can drive campaign.The key to being successful with paid advertising is to know your target market and the keywords that they type on search engines when looking for your product. Since you are using money to get your website in front of buyers, make sure your campaigns are as targeted as possible. This will ensure good return on investment (ROI). If you carry a large inventory, you many need a full time PPC or PPV manager to create and optimize your campaigns for maximum ROI.and track various metrics. Each marketing technique should be measured to determine its contribution towards achieving the overall goals of the business.Some of the metrics you should measure include:www.digitalsherpa.comscaled up while those that do not result in major impacts scaled down.'"
      ]
     },
     "execution_count": 36,
     "metadata": {},
     "output_type": "execute_result"
    }
   ],
   "source": [
    "# solar_data = re.sub(r'\\n+', '', solar_data)\n",
    "solar_data = solar_data.replace('\\n','')\n",
    "solar_data "
   ]
  },
  {
   "cell_type": "code",
   "execution_count": 37,
   "id": "3cc192e4",
   "metadata": {},
   "outputs": [
    {
     "data": {
      "text/plain": [
       "'Complete Guide to Building an E-Commerce Business CONTENT AND SOCIAL MEDIA      MARKETINGFOR SMALL BUSINESSESwww.digitalsherpa.comAdvancement in technology and an increasingly savvy consumer market has made e-commerce a powerful force in the global economy. With more people opting to shop on the Internet, SMBs take steps to reach this market by setting up online shops. As more payment services providers get into the market, setting up an e-commerce website is no longer cost-prohibitive. Today, anyone with basic web skills can set up a robust e-commerce site within a few days and without breaking the bank.One of the major things that buyers are concerned about when shopping online is their security. With major online fraud cases being reported around the world, you cannot blame consumers for being extra cautious. Therefore, when setting up an e-commerce store, you need to plan carefully and keep security at the forefront of your installation.With that said, this guide will take you from marketing. Let™s get started.The Planning StageBefore you jump to building your store, you must know what you will sell. At the least, answer these three basic questions before proceeding:This is the planning stage of your business. You need to carefully consider your goals and how you see your company. It also helps to start building your brand before you even start developing your site. To begin, buy a matching domain name for your company and get a logo designed.You can also start building clout for your business even before you launch. If you are online, set up customers (more on this later in the marketing segment of the eBook). Complete Guide to Building an E-Commerce Business www.digitalsherpa.comYou can also create a Google account for the company to access apps such as Google Analytics and Google Docs that you can use for your business. Having a YouTube account is also important especially if you will be using video to market your store. The major work at this stage is to secure your store™s brand across the various online properties. This have a presence on and open accounts using your company™s name as the user name.If you already have the name of your shop, it is time to start setting should not cost you more than $10 for a .com extension. You can use NameCheap, GoDaddy or any other domain name registrar you prefer. Your domain name will be part of your brand. Think carefully about the name you want to use.company. Look for a hosting company that has good servers and that will be able to run your online store. If you do not have any preferences, you can stick with servers that run PHP. The language is open source and is supported in most server environments. Make sure your hosting accounts will support PHP and MySQL databases.Also, check the features and capabilities of the hosting account. To begin, you want an account with your own cPanel and unlimited bandwidth. With hosting companies like Bluehost and Hostgator, you can There are many guides online that can help you with choosing the right hosting company.You can build your online store through hosted solutions or self hosted solutionsThere are companies that host e-commerce scripts on their servers and provide everything that you will need on the backend of your site. This is referred to as a hosted solution. With hosted solutions, you will to redirect and give your shop a unique URL.You can also choose to host ecommerce scripts on your servers. This is what constitutes a self-hosted solution. You can use either open source or paid scripts and customize them to meet your needs. The installation process is simple even if you are not a programmer at heart. www.digitalsherpa.comgateways, you do not have to program or install any scripts on your website to start accepting payments online. You simply need to create a page for your business (on the checkout provider) and link to it. When users select an item on your store, they will be directed to the payment services provider checkout page to pay. After the payment has been made, customers will then be redirected to a ﬁthank-youﬂ or any other page on your website.The biggest drawback of using hosted solutions is that you may see lower conversions. Most online shoppers are hesitant to complete the checkout process on a third party website where they will be redirected to. However, some hosted solutions have packages that allow you to customize the checkout pages to match the design of your website. Having a consistent brand is crucial for a good user experience on your shop.TIP: When choosing a hosted checkout solution, keep in mind your customers™ user experience and security.Many hosted solutions provide a good experience to users with you doing very little on your end. The solutions have fairly similar administration panels, where you can upload photos and add catalogue entries. When using a hosted solution, be prepared to lose a lot of opportunity for customization. However, you There are many hosted e-commerce solutions you can go with. The following three are among the top solutions:Shopify makes it easy for anyone to set up an e-commerce site. The website has great demos on how easy it is to set up a store with them. Some of the features you will enjoy by setting up a store with them include a custom mobile template, unlimited server bandwidth, SSL security, a personal app store and more. into the admin backend and select the design you want. If you have CSS/HTML knowledge, you can edit the raw website design online. The editor has a simple User Interface (UI) that is similar to the WordPress theme™s editor.Here are examples of stores built using it. You can try it depending on the features and functionalities you are looking for. Compare the pricing structure here.www.digitalsherpa.comYahoo! Merchant Solution may also be right for your small business. The layout of Y!MS is fairly straight-popular payment options on your Y!MS store including credit cards, checks, money orders and PayPal. Click here to see all the features of Yahoo ecommerce solutions.If you are looking for a hosted solution, Yahoo is a great company to partner with. You can take your business from development to launch using Y!MS. Moreover, if you are looking for more customization, the small business networkyou need. Here is a detailed comparison of the available plans.c) BigCommerceBigCommerce is similar to Shopify but has limited features. The website has a clean interface, making it easy for users to sign up. You can easily add users, products, features and take payments online in just a few minutes.company gives you everything you need to set up an online store including a website, domain name, secure shopping cart, product catalog, payment gateway, email account and so on.The stores are built and optimized to rank well on Google and are also mobile friendly. The company™s built-in marketing that includes discounts and coupon codes, automatically generated customer lists, newsletters, and social media integration make sure you have an edge with your store from the beginning. There are many beautiful store themes you can choose to get started with. Click here for a showcase of stores powered by BigCommerce. Here is a breakdown of the features for each price package.If you do not want a hosted solution, you can make your own e-commerce scripts or use other open source or commercial shopping cart scripts. You will have to host the script on your web servers and control things from your end. There are many shopping carts you can go for but only a handful are worth testing. Your website launch and needs are unique and you may need a feature that another solution may not provide. You need to research well to get the right script for your business.www.digitalsherpa.com Below are some the best self-hosted e-commerce scripts you can try:a) Zen CartZen Cart is a popular open source script that will work in most web hosts. The script is free to download. The only downside of using the script is that your website will feature a ﬁPowered by Zen Cartﬂ message at the bottom. Zen Cart is best for those with some programming knowledge. The cart can be integrated with other modules to improve its functionality. Here is a list of services that the company recommends.Zen Cart has a vibrant community that is always pushing things to the next level with the script. You can spice up your site with plugins and add-onsusing Zen Cart, click here.Magento is another good script you can use for your e-commerce website. The script is written in PHP and is frequently updated. As is the case with Zen Cart, you will feel more comfortable using Magento if you are well-versed with HTML and CSS. Magento provides tools that give store owners increased control of their stores. The tools include site management, marketing promotions, analytics and reporting, catalogue management, search engine optimization, product browsing, mobile commerce and others. Click here for an overview of complete product features.The product comes in both Professional and Enterprise editions. The Professional edition is best for If you are comfortable using WordPress, you can easily set up an ecommerce store using various free and paid plugins. Examples of popular plugins that will enable your WordPress site and have ecommerce capabilities include WooCommerce, WP e-Commerce, , and others.If you are using WordPress for your ecommerce store, you should be concerned about security for your customer™s data. There are many tutorials that show how you can secure your WordPress site.Credit cards provide customers with an easy way to make payments at your store. Apart from credit cards, customers may also wish to pay through other methods such as PayPal. You will want to accept payments through the methods that your customers trust and use.To accept credit cards online, you will need a merchant account. You can check with your local bank for the requirements of opening a merchant account. Usually, you will need to have been in business for www.digitalsherpa.comof transactions within a particular cycle. There are also third party If you are just starting operations, it is highly unlikely that you will be able to open a merchant account. To begin, the lack of operational history will disqualify you. Even if you are given a merchant account, you will pay high setup and transactional fees since your business is considered ﬁhigh-risk.ﬂ Examples of merchant account providers you can work with include:After creating a merchant account, you will need a gateway. This is a provider that will securely transfer with gateways while others work with third party gateways. One of the most popular payment gateways in the U.S. is Authorize.net. The good news is that there are payment processors that can allow you to take credit card payments without the need for a merchant account. These alternatives are good for SMBs that cannot qualify for merchant accounts. The leader in this pack is PayPal. Other options you can check include Stripe, Braintree, ChargeBee, Chargify, among others.After you have set up your domain name, hosting and shopping script, you are ready to start selling www.digitalsherpa.comperform some maintenance and tweak your website design to match the needs of your customers. Set up the store to load fast and its content to be easily found by search engine robots (read the marketing section for more of this).Ensure your design will provide a good user experience to your customers. Also, provide comprehensive description to the products and use high quality images to make shoppers interested in the products.Like a physical retail store, you need to maximize the visitors at your store. However, you cannot simply hand over products over the counter. You have to pack and ship the products to your customers, often across state and national boundaries.Shipping comes with its challenges, including taxes, dealing with returned goods or reverse logistics in general. What happens when goods sold are returned but you don™t have a physical location? This company, and then the company will pack and ship the inventory as each order is received.will have to pack and ship each order individually. You may also need a warehouse or garage to store your inventory. All these cut into space and time that you can otherwise be spending more productively.If you only ship products occasionally online, using an order fragile items and perishables, your inventory may not be accepted. However, if you are looking to replace your traditional retail store, you may not want to invest in storage space. You can reduce your time handle orders of any scale.With most e-commerce websites carrying the same products as their competitors, how can you make your store be found by prospects that are ready to buy?www.digitalsherpa.comand improve your sales.Before we look at marketing your site, you need to get design right.Your E-Commerce Store DesignWhether you are using a hosted or self-hosted e-commerce script, there are two major things about design you should consider:Your store should be designed to close sales. Here are 10 design tips that will improve your conversions:Make the CTA buttons on your store easily visible. Use bold color, size and design to make the CTA button stand out to the user. See how the CTA button at Avon.com stands out.products using the search function rather than going through the categories. Simplify searches on your store with an auto-complete function. When customers add items to their cart, they want to know that it was actually registered. Somewhere on the checkout page, have a cart showing all the items added. Make the cart stand out by using contrasting colors from the color scheme of the rest of the store.down menu at Walmart store. Use large, high quality images that are optimized to load fast on the website. The best image formats to use for your products are JPEG and PNG. Show the product in multiple angles to help customers to see what they want to buy.Don™t force customers to do something that they don™t want. Requiring forced login or registration to shop is putting a wall between customers and their purchase. If you need users to register, explore other easier options such as using social media login systems.www.digitalsherpa.comProvide customers with feedback from other customers about the products at your store. Allow customers to post reviews of the products. your product and business.Let customers know where they are in the checkout process. Online indicators on every page to inform customers where they are in the checkout process.Remove distractions like sidebar navigation on the checkout page. Also, avoid the urge to continue selling on the checkout page. Use single-page checkout pages for higher conversions.x) Customized experienceLet visitors be able to customize their checkout experience. Provide tools that enable shoppers to sort products by release date, bestsellers, review, price and so on.After designing your store, you need to promote it. With your competitors looking to win the same customers you are targeting, you need to be proactive in promoting your store and building your brand online. This is where the real work begins.Generate Leads to Your E-commerce Storemethods are search engine optimization (SEO), content marketing, social media marketing and paid advertisements.high on search engine results pages (SERPs) when customers type various keywords related to your products. Here are some tips that will make your e-commerce store more SEO-friendly.Your e-commerce site should support static and keyword-rich URLs. You can modify these URLs for www.digitalsherpa.comii) Use 301 redirectsWhen you stop selling some products on your website, you may want to delete the pages where the products were listed. When you delete pages, use 301 redirects to guide customers to a new page. 301 redirects improve customer experience on your site and ensure your site retains link juice from the deleted pages.iii) Use canonicalizationIf your site has a number of pages that have the same content, use <link rel=ﬂcanonicalﬂ href=ﬂﬂ /> to tell Google which page should be given preference. This will also make the site safe from duplicate content penalties. and other irrelevant links on your site. Search engine robots cannot read images on websites. To optimize images for SEO, use Alt tags for each of them. The Alt tag is simply a text description of the image. TIP: When writing the Alt tags, make sure they contain the target keyword of the product. Use your target product keywords in the title tags. Apart from this, optimize the product descriptions to improve the click-through rate. When writing the descriptions, make sure you appeal to the customer™s emotions. TIP: Remember, buying is an emotional decision and a customer will click your website™s URL on search engine results pages simply because of the information in the description. Write descriptions using persuasive language.high on Google when customers search for them.When building backlinks, you should focus more on building quality backlinks rather than getting a large number of low-quality links. Quality backlinks refers to links coming from websites that are trusted by Google and that are in the same niche as your store.Make sure the pages on which you want to build your links are indexed by Google. Building backlinks from pages that are not indexed by Google will not add any value to your website.www.digitalsherpa.comTIP: Building backlinks can be tiresome and time consuming. You can outsource the work to a professional SEO agency.Apart from building backlinks, you should have a content marketing strategy for your store. The strategy should guide towards achieving your overall goals of getting more sales, improving brand awareness and increasing your store™s ranking on search engines.Below are some content marketing tactics you should focus.i) BloggingHave a blog on your store. You can easily incorporate a blog on your website using a content management system (CMS) like WordPress. Your blog can serve two functions:announcements or information.products you are selling.The main aim of your blog should be to educate customers about your products. Some of the topics you can blog about include tips on choosing select products, on.TIP: When blogging, focus on adding value to the lives of the customers. Avoid being ﬁsalesyﬂ in your Email marketing should be part of your content marketing campaign. The best thing with email marketing is that you can reach your prospects any time that you want. Successful email marketing is all about knowing what your prospects want and targeting them with relevant content. Producing eBooks and white papers based on your products can help you generate more leads and increase your conversions. Based on the eBooks that leads download, you can know what their interests are and nurture them through email marketing messages to warm them up for a sale.www.digitalsherpa.comEducational eBooks that show how your products work and how they will help customers can enhance your brand and make your store the go-to place for any information related to your industry.TIP: Your content marketing strategies should complement each other. For example, the leads that download your eBooks can be segmented and put in your email list for further targeting with related or Video marketing is crucial for sales because it gives customers the opportunity to see the product, and know how to use it or how it functions. Have clear videos that show the product in action. Get sure the audio is clear.TIP: You do not have to host all your videos on your website. Simply upload the videos on YouTube or other video hosting sites and link to them from your website.customers and close sales. Incorporate social media buttons on your store so that customers can share your products with their networks online.is engaging, educative and worth sharing with your target market. Post high quality photos of your products and link to the products on your store.If you have specials on your store, announce to your fans on Use Twitter to engage your customers and prospects by users who are talking about your brand or products by searching various keywords on the network using hash tags.to automate your social media tasks such as posting on Facebook and Twitter. c) Pinterestwww.digitalsherpa.comimages on your Pinterest account and provide a link to where they are on your e-commerce store. As your business grows, it may be necessary to have a full time social media manager to manage conversation with the company and get their questions answered quickly.Take Away: Social media marketing is all about relationships. Connect with your target prospects and provide value to them before you ask for a sale.advertising is the way to go. Paid advertising includes pay per click (PPC), sponsored emails or blog posts, and banner advertising.Paid advertisements come in various forms. You can pay for every click, view, number of impressions and so on. When done right, pay per click (PPC) and pay per view (PPV) can drive campaign.The key to being successful with paid advertising is to know your target market and the keywords that they type on search engines when looking for your product. Since you are using money to get your website in front of buyers, make sure your campaigns are as targeted as possible. This will ensure good return on investment (ROI). If you carry a large inventory, you many need a full time PPC or PPV manager to create and optimize your campaigns for maximum ROI.and track various metrics. Each marketing technique should be measured to determine its contribution towards achieving the overall goals of the business.Some of the metrics you should measure include:www.digitalsherpa.comscaled up while those that do not result in major impacts scaled down.'"
      ]
     },
     "execution_count": 37,
     "metadata": {},
     "output_type": "execute_result"
    }
   ],
   "source": [
    "solar_data = re.sub(r'(\\(http://\\S+)','',solar_data)\n",
    "solar_data"
   ]
  },
  {
   "cell_type": "code",
   "execution_count": 38,
   "id": "2430d9d3",
   "metadata": {},
   "outputs": [
    {
     "data": {
      "text/plain": [
       "'complete guide to building an e-commerce business content and social mediamarketingfor small businesseswww.digitalsherpa.comadvancement in technology and an increasingly savvy consumer market has made e-commerce a powerful force in the global economy. with more people opting to shop on the internet, smbs take steps to reach this market by setting up online shops. as more payment services providers get into the market, setting up an e-commerce website is no longer cost-prohibitive. today, anyone with basic web skills can set up a robust e-commerce site within a few days and without breaking the bank.one of the major things that buyers are concerned about when shopping online is their security. with major online fraud cases being reported around the world, you cannot blame consumers for being extra cautious. therefore, when setting up an e-commerce store, you need to plan carefully and keep security at the forefront of your installation.with that said, this guide will take you from marketing. let™s get started.the planning stagebefore you jump to building your store, you must know what you will sell. at the least, answer these three basic questions before proceeding:this is the planning stage of your business. you need to carefully consider your goals and how you see your company. it also helps to start building your brand before you even start developing your site. to begin, buy a matching domain name for your company and get a logo designed.you can also start building clout for your business even before you launch. if you are online, set up customers (more on this later in the marketing segment of the ebook). complete guide to building an e-commerce business www.digitalsherpa.comyou can also create a google account for the company to access apps such as google analytics and google docs that you can use for your business. having a youtube account is also important especially if you will be using video to market your store. the major work at this stage is to secure your store™s brand across the various online properties. this have a presence on and open accounts using your company™s name as the user name.if you already have the name of your shop, it is time to start setting should not cost you more than $ for a .com extension. you can use namecheap, godaddy or any other domain name registrar you prefer. your domain name will be part of your brand. think carefully about the name you want to use.company. look for a hosting company that has good servers and that will be able to run your online store. if you do not have any preferences, you can stick with servers that run php. the language is open source and is supported in most server environments. make sure your hosting accounts will support php and mysql databases.also, check the features and capabilities of the hosting account. to begin, you want an account with your own cpanel and unlimited bandwidth. with hosting companies like bluehost and hostgator, you can there are many guides online that can help you with choosing the right hosting company.you can build your online store through hosted solutions or self hosted solutionsthere are companies that host e-commerce scripts on their servers and provide everything that you will need on the backend of your site. this is referred to as a hosted solution. with hosted solutions, you will to redirect and give your shop a unique url.you can also choose to host ecommerce scripts on your servers. this is what constitutes a self-hosted solution. you can use either open source or paid scripts and customize them to meet your needs. the installation process is simple even if you are not a programmer at heart. www.digitalsherpa.comgateways, you do not have to program or install any scripts on your website to start accepting payments online. you simply need to create a page for your business (on the checkout provider) and link to it. when users select an item on your store, they will be directed to the payment services provider checkout page to pay. after the payment has been made, customers will then be redirected to a ﬁthank-youﬂ or any other page on your website.the biggest drawback of using hosted solutions is that you may see lower conversions. most online shoppers are hesitant to complete the checkout process on a third party website where they will be redirected to. however, some hosted solutions have packages that allow you to customize the checkout pages to match the design of your website. having a consistent brand is crucial for a good user experience on your shop.tip: when choosing a hosted checkout solution, keep in mind your customers™ user experience and security.many hosted solutions provide a good experience to users with you doing very little on your end. the solutions have fairly similar administration panels, where you can upload photos and add catalogue entries. when using a hosted solution, be prepared to lose a lot of opportunity for customization. however, you there are many hosted e-commerce solutions you can go with. the following three are among the top solutions:shopify makes it easy for anyone to set up an e-commerce site. the website has great demos on how easy it is to set up a store with them. some of the features you will enjoy by setting up a store with them include a custom mobile template, unlimited server bandwidth, ssl security, a personal app store and more. into the admin backend and select the design you want. if you have css/html knowledge, you can edit the raw website design online. the editor has a simple user interface (ui) that is similar to the wordpress theme™s editor.here are examples of stores built using it. you can try it depending on the features and functionalities you are looking for. compare the pricing structure here.www.digitalsherpa.comyahoo! merchant solution may also be right for your small business. the layout of y!ms is fairly straight-popular payment options on your y!ms store including credit cards, checks, money orders and paypal. click here to see all the features of yahoo ecommerce solutions.if you are looking for a hosted solution, yahoo is a great company to partner with. you can take your business from development to launch using y!ms. moreover, if you are looking for more customization, the small business networkyou need. here is a detailed comparison of the available plans.c) bigcommercebigcommerce is similar to shopify but has limited features. the website has a clean interface, making it easy for users to sign up. you can easily add users, products, features and take payments online in just a few minutes.company gives you everything you need to set up an online store including a website, domain name, secure shopping cart, product catalog, payment gateway, email account and so on.the stores are built and optimized to rank well on google and are also mobile friendly. the company™s built-in marketing that includes discounts and coupon codes, automatically generated customer lists, newsletters, and social media integration make sure you have an edge with your store from the beginning. there are many beautiful store themes you can choose to get started with. click here for a showcase of stores powered by bigcommerce. here is a breakdown of the features for each price package.if you do not want a hosted solution, you can make your own e-commerce scripts or use other open source or commercial shopping cart scripts. you will have to host the script on your web servers and control things from your end. there are many shopping carts you can go for but only a handful are worth testing. your website launch and needs are unique and you may need a feature that another solution may not provide. you need to research well to get the right script for your business.www.digitalsherpa.com below are some the best self-hosted e-commerce scripts you can try:a) zen cartzen cart is a popular open source script that will work in most web hosts. the script is free to download. the only downside of using the script is that your website will feature a ﬁpowered by zen cartﬂ message at the bottom. zen cart is best for those with some programming knowledge. the cart can be integrated with other modules to improve its functionality. here is a list of services that the company recommends.zen cart has a vibrant community that is always pushing things to the next level with the script. you can spice up your site with plugins and add-onsusing zen cart, click here.magento is another good script you can use for your e-commerce website. the script is written in php and is frequently updated. as is the case with zen cart, you will feel more comfortable using magento if you are well-versed with html and css. magento provides tools that give store owners increased control of their stores. the tools include site management, marketing promotions, analytics and reporting, catalogue management, search engine optimization, product browsing, mobile commerce and others. click here for an overview of complete product features.the product comes in both professional and enterprise editions. the professional edition is best for if you are comfortable using wordpress, you can easily set up an ecommerce store using various free and paid plugins. examples of popular plugins that will enable your wordpress site and have ecommerce capabilities include woocommerce, wp e-commerce, , and others.if you are using wordpress for your ecommerce store, you should be concerned about security for your customer™s data. there are many tutorials that show how you can secure your wordpress site.credit cards provide customers with an easy way to make payments at your store. apart from credit cards, customers may also wish to pay through other methods such as paypal. you will want to accept payments through the methods that your customers trust and use.to accept credit cards online, you will need a merchant account. you can check with your local bank for the requirements of opening a merchant account. usually, you will need to have been in business for www.digitalsherpa.comof transactions within a particular cycle. there are also third party if you are just starting operations, it is highly unlikely that you will be able to open a merchant account. to begin, the lack of operational history will disqualify you. even if you are given a merchant account, you will pay high setup and transactional fees since your business is considered ﬁhigh-risk.ﬂ examples of merchant account providers you can work with include:after creating a merchant account, you will need a gateway. this is a provider that will securely transfer with gateways while others work with third party gateways. one of the most popular payment gateways in the u.s. is authorize.net. the good news is that there are payment processors that can allow you to take credit card payments without the need for a merchant account. these alternatives are good for smbs that cannot qualify for merchant accounts. the leader in this pack is paypal. other options you can check include stripe, braintree, chargebee, chargify, among others.after you have set up your domain name, hosting and shopping script, you are ready to start selling www.digitalsherpa.comperform some maintenance and tweak your website design to match the needs of your customers. set up the store to load fast and its content to be easily found by search engine robots (read the marketing section for more of this).ensure your design will provide a good user experience to your customers. also, provide comprehensive description to the products and use high quality images to make shoppers interested in the products.like a physical retail store, you need to maximize the visitors at your store. however, you cannot simply hand over products over the counter. you have to pack and ship the products to your customers, often across state and national boundaries.shipping comes with its challenges, including taxes, dealing with returned goods or reverse logistics in general. what happens when goods sold are returned but you don™t have a physical location? this company, and then the company will pack and ship the inventory as each order is received.will have to pack and ship each order individually. you may also need a warehouse or garage to store your inventory. all these cut into space and time that you can otherwise be spending more productively.if you only ship products occasionally online, using an order fragile items and perishables, your inventory may not be accepted. however, if you are looking to replace your traditional retail store, you may not want to invest in storage space. you can reduce your time handle orders of any scale.with most e-commerce websites carrying the same products as their competitors, how can you make your store be found by prospects that are ready to buy?www.digitalsherpa.comand improve your sales.before we look at marketing your site, you need to get design right.your e-commerce store designwhether you are using a hosted or self-hosted e-commerce script, there are two major things about design you should consider:your store should be designed to close sales. here are  design tips that will improve your conversions:make the cta buttons on your store easily visible. use bold color, size and design to make the cta button stand out to the user. see how the cta button at avon.com stands out.products using the search function rather than going through the categories. simplify searches on your store with an auto-complete function. when customers add items to their cart, they want to know that it was actually registered. somewhere on the checkout page, have a cart showing all the items added. make the cart stand out by using contrasting colors from the color scheme of the rest of the store.down menu at walmart store. use large, high quality images that are optimized to load fast on the website. the best image formats to use for your products are jpeg and png. show the product in multiple angles to help customers to see what they want to buy.don™t force customers to do something that they don™t want. requiring forced login or registration to shop is putting a wall between customers and their purchase. if you need users to register, explore other easier options such as using social media login systems.www.digitalsherpa.comprovide customers with feedback from other customers about the products at your store. allow customers to post reviews of the products. your product and business.let customers know where they are in the checkout process. online indicators on every page to inform customers where they are in the checkout process.remove distractions like sidebar navigation on the checkout page. also, avoid the urge to continue selling on the checkout page. use single-page checkout pages for higher conversions.x) customized experiencelet visitors be able to customize their checkout experience. provide tools that enable shoppers to sort products by release date, bestsellers, review, price and so on.after designing your store, you need to promote it. with your competitors looking to win the same customers you are targeting, you need to be proactive in promoting your store and building your brand online. this is where the real work begins.generate leads to your e-commerce storemethods are search engine optimization (seo), content marketing, social media marketing and paid advertisements.high on search engine results pages (serps) when customers type various keywords related to your products. here are some tips that will make your e-commerce store more seo-friendly.your e-commerce site should support static and keyword-rich urls. you can modify these urls for www.digitalsherpa.comii) use  redirectswhen you stop selling some products on your website, you may want to delete the pages where the products were listed. when you delete pages, use  redirects to guide customers to a new page.  redirects improve customer experience on your site and ensure your site retains link juice from the deleted pages.iii) use canonicalizationif your site has a number of pages that have the same content, use <link rel=ﬂcanonicalﬂ href=ﬂﬂ /> to tell google which page should be given preference. this will also make the site safe from duplicate content penalties. and other irrelevant links on your site. search engine robots cannot read images on websites. to optimize images for seo, use alt tags for each of them. the alt tag is simply a text description of the image. tip: when writing the alt tags, make sure they contain the target keyword of the product. use your target product keywords in the title tags. apart from this, optimize the product descriptions to improve the click-through rate. when writing the descriptions, make sure you appeal to the customer™s emotions. tip: remember, buying is an emotional decision and a customer will click your website™s url on search engine results pages simply because of the information in the description. write descriptions using persuasive language.high on google when customers search for them.when building backlinks, you should focus more on building quality backlinks rather than getting a large number of low-quality links. quality backlinks refers to links coming from websites that are trusted by google and that are in the same niche as your store.make sure the pages on which you want to build your links are indexed by google. building backlinks from pages that are not indexed by google will not add any value to your website.www.digitalsherpa.comtip: building backlinks can be tiresome and time consuming. you can outsource the work to a professional seo agency.apart from building backlinks, you should have a content marketing strategy for your store. the strategy should guide towards achieving your overall goals of getting more sales, improving brand awareness and increasing your store™s ranking on search engines.below are some content marketing tactics you should focus.i) blogginghave a blog on your store. you can easily incorporate a blog on your website using a content management system (cms) like wordpress. your blog can serve two functions:announcements or information.products you are selling.the main aim of your blog should be to educate customers about your products. some of the topics you can blog about include tips on choosing select products, on.tip: when blogging, focus on adding value to the lives of the customers. avoid being ﬁsalesyﬂ in your email marketing should be part of your content marketing campaign. the best thing with email marketing is that you can reach your prospects any time that you want. successful email marketing is all about knowing what your prospects want and targeting them with relevant content. producing ebooks and white papers based on your products can help you generate more leads and increase your conversions. based on the ebooks that leads download, you can know what their interests are and nurture them through email marketing messages to warm them up for a sale.www.digitalsherpa.comeducational ebooks that show how your products work and how they will help customers can enhance your brand and make your store the go-to place for any information related to your industry.tip: your content marketing strategies should complement each other. for example, the leads that download your ebooks can be segmented and put in your email list for further targeting with related or video marketing is crucial for sales because it gives customers the opportunity to see the product, and know how to use it or how it functions. have clear videos that show the product in action. get sure the audio is clear.tip: you do not have to host all your videos on your website. simply upload the videos on youtube or other video hosting sites and link to them from your website.customers and close sales. incorporate social media buttons on your store so that customers can share your products with their networks online.is engaging, educative and worth sharing with your target market. post high quality photos of your products and link to the products on your store.if you have specials on your store, announce to your fans on use twitter to engage your customers and prospects by users who are talking about your brand or products by searching various keywords on the network using hash tags.to automate your social media tasks such as posting on facebook and twitter. c) pinterestwww.digitalsherpa.comimages on your pinterest account and provide a link to where they are on your e-commerce store. as your business grows, it may be necessary to have a full time social media manager to manage conversation with the company and get their questions answered quickly.take away: social media marketing is all about relationships. connect with your target prospects and provide value to them before you ask for a sale.advertising is the way to go. paid advertising includes pay per click (ppc), sponsored emails or blog posts, and banner advertising.paid advertisements come in various forms. you can pay for every click, view, number of impressions and so on. when done right, pay per click (ppc) and pay per view (ppv) can drive campaign.the key to being successful with paid advertising is to know your target market and the keywords that they type on search engines when looking for your product. since you are using money to get your website in front of buyers, make sure your campaigns are as targeted as possible. this will ensure good return on investment (roi). if you carry a large inventory, you many need a full time ppc or ppv manager to create and optimize your campaigns for maximum roi.and track various metrics. each marketing technique should be measured to determine its contribution towards achieving the overall goals of the business.some of the metrics you should measure include:www.digitalsherpa.comscaled up while those that do not result in major impacts scaled down.'"
      ]
     },
     "execution_count": 38,
     "metadata": {},
     "output_type": "execute_result"
    }
   ],
   "source": [
    "solar_data = re.sub(r'\\s{2,15}','',solar_data)\n",
    "solar_data = re.sub(r'\\d+','',solar_data)\n",
    "solar_data = solar_data.lower()\n",
    "solar_data"
   ]
  },
  {
   "cell_type": "code",
   "execution_count": 39,
   "id": "79a7c5b9",
   "metadata": {},
   "outputs": [
    {
     "name": "stdout",
     "output_type": "stream",
     "text": [
      "164 \n",
      "\n"
     ]
    },
    {
     "data": {
      "text/plain": [
       "['complete guide to building an e-commerce business content and social mediamarketingfor small businesseswww.digitalsherpa.comadvancement in technology and an increasingly savvy consumer market has made e-commerce a powerful force in the global economy.',\n",
       " 'with more people opting to shop on the internet, smbs take steps to reach this market by setting up online shops.',\n",
       " 'as more payment services providers get into the market, setting up an e-commerce website is no longer cost-prohibitive.',\n",
       " 'today, anyone with basic web skills can set up a robust e-commerce site within a few days and without breaking the bank.one of the major things that buyers are concerned about when shopping online is their security.',\n",
       " 'with major online fraud cases being reported around the world, you cannot blame consumers for being extra cautious.',\n",
       " 'therefore, when setting up an e-commerce store, you need to plan carefully and keep security at the forefront of your installation.with that said, this guide will take you from marketing.',\n",
       " 'let™s get started.the planning stagebefore you jump to building your store, you must know what you will sell.',\n",
       " 'at the least, answer these three basic questions before proceeding:this is the planning stage of your business.',\n",
       " 'you need to carefully consider your goals and how you see your company.',\n",
       " 'it also helps to start building your brand before you even start developing your site.',\n",
       " 'to begin, buy a matching domain name for your company and get a logo designed.you can also start building clout for your business even before you launch.',\n",
       " 'if you are online, set up customers (more on this later in the marketing segment of the ebook).',\n",
       " 'complete guide to building an e-commerce business www.digitalsherpa.comyou can also create a google account for the company to access apps such as google analytics and google docs that you can use for your business.',\n",
       " 'having a youtube account is also important especially if you will be using video to market your store.',\n",
       " 'the major work at this stage is to secure your store™s brand across the various online properties.',\n",
       " 'this have a presence on and open accounts using your company™s name as the user name.if you already have the name of your shop, it is time to start setting should not cost you more than $ for a .com extension.',\n",
       " 'you can use namecheap, godaddy or any other domain name registrar you prefer.',\n",
       " 'your domain name will be part of your brand.',\n",
       " 'think carefully about the name you want to use.company.',\n",
       " 'look for a hosting company that has good servers and that will be able to run your online store.',\n",
       " 'if you do not have any preferences, you can stick with servers that run php.',\n",
       " 'the language is open source and is supported in most server environments.',\n",
       " 'make sure your hosting accounts will support php and mysql databases.also, check the features and capabilities of the hosting account.',\n",
       " 'to begin, you want an account with your own cpanel and unlimited bandwidth.',\n",
       " 'with hosting companies like bluehost and hostgator, you can there are many guides online that can help you with choosing the right hosting company.you can build your online store through hosted solutions or self hosted solutionsthere are companies that host e-commerce scripts on their servers and provide everything that you will need on the backend of your site.',\n",
       " 'this is referred to as a hosted solution.',\n",
       " 'with hosted solutions, you will to redirect and give your shop a unique url.you can also choose to host ecommerce scripts on your servers.',\n",
       " 'this is what constitutes a self-hosted solution.',\n",
       " 'you can use either open source or paid scripts and customize them to meet your needs.',\n",
       " 'the installation process is simple even if you are not a programmer at heart.',\n",
       " 'www.digitalsherpa.comgateways, you do not have to program or install any scripts on your website to start accepting payments online.',\n",
       " 'you simply need to create a page for your business (on the checkout provider) and link to it.',\n",
       " 'when users select an item on your store, they will be directed to the payment services provider checkout page to pay.',\n",
       " 'after the payment has been made, customers will then be redirected to a ﬁthank-youﬂ or any other page on your website.the biggest drawback of using hosted solutions is that you may see lower conversions.',\n",
       " 'most online shoppers are hesitant to complete the checkout process on a third party website where they will be redirected to.',\n",
       " 'however, some hosted solutions have packages that allow you to customize the checkout pages to match the design of your website.',\n",
       " 'having a consistent brand is crucial for a good user experience on your shop.tip: when choosing a hosted checkout solution, keep in mind your customers™ user experience and security.many hosted solutions provide a good experience to users with you doing very little on your end.',\n",
       " 'the solutions have fairly similar administration panels, where you can upload photos and add catalogue entries.',\n",
       " 'when using a hosted solution, be prepared to lose a lot of opportunity for customization.',\n",
       " 'however, you there are many hosted e-commerce solutions you can go with.',\n",
       " 'the following three are among the top solutions:shopify makes it easy for anyone to set up an e-commerce site.',\n",
       " 'the website has great demos on how easy it is to set up a store with them.',\n",
       " 'some of the features you will enjoy by setting up a store with them include a custom mobile template, unlimited server bandwidth, ssl security, a personal app store and more.',\n",
       " 'into the admin backend and select the design you want.',\n",
       " 'if you have css/html knowledge, you can edit the raw website design online.',\n",
       " 'the editor has a simple user interface (ui) that is similar to the wordpress theme™s editor.here are examples of stores built using it.',\n",
       " 'you can try it depending on the features and functionalities you are looking for.',\n",
       " 'compare the pricing structure here.www.digitalsherpa.comyahoo!',\n",
       " 'merchant solution may also be right for your small business.',\n",
       " 'the layout of y!ms is fairly straight-popular payment options on your y!ms store including credit cards, checks, money orders and paypal.',\n",
       " 'click here to see all the features of yahoo ecommerce solutions.if you are looking for a hosted solution, yahoo is a great company to partner with.',\n",
       " 'you can take your business from development to launch using y!ms.',\n",
       " 'moreover, if you are looking for more customization, the small business networkyou need.',\n",
       " 'here is a detailed comparison of the available plans.c) bigcommercebigcommerce is similar to shopify but has limited features.',\n",
       " 'the website has a clean interface, making it easy for users to sign up.',\n",
       " 'you can easily add users, products, features and take payments online in just a few minutes.company gives you everything you need to set up an online store including a website, domain name, secure shopping cart, product catalog, payment gateway, email account and so on.the stores are built and optimized to rank well on google and are also mobile friendly.',\n",
       " 'the company™s built-in marketing that includes discounts and coupon codes, automatically generated customer lists, newsletters, and social media integration make sure you have an edge with your store from the beginning.',\n",
       " 'there are many beautiful store themes you can choose to get started with.',\n",
       " 'click here for a showcase of stores powered by bigcommerce.',\n",
       " 'here is a breakdown of the features for each price package.if you do not want a hosted solution, you can make your own e-commerce scripts or use other open source or commercial shopping cart scripts.',\n",
       " 'you will have to host the script on your web servers and control things from your end.',\n",
       " 'there are many shopping carts you can go for but only a handful are worth testing.',\n",
       " 'your website launch and needs are unique and you may need a feature that another solution may not provide.',\n",
       " 'you need to research well to get the right script for your business.www.digitalsherpa.com below are some the best self-hosted e-commerce scripts you can try:a) zen cartzen cart is a popular open source script that will work in most web hosts.',\n",
       " 'the script is free to download.',\n",
       " 'the only downside of using the script is that your website will feature a ﬁpowered by zen cartﬂ message at the bottom.',\n",
       " 'zen cart is best for those with some programming knowledge.',\n",
       " 'the cart can be integrated with other modules to improve its functionality.',\n",
       " 'here is a list of services that the company recommends.zen cart has a vibrant community that is always pushing things to the next level with the script.',\n",
       " 'you can spice up your site with plugins and add-onsusing zen cart, click here.magento is another good script you can use for your e-commerce website.',\n",
       " 'the script is written in php and is frequently updated.',\n",
       " 'as is the case with zen cart, you will feel more comfortable using magento if you are well-versed with html and css.',\n",
       " 'magento provides tools that give store owners increased control of their stores.',\n",
       " 'the tools include site management, marketing promotions, analytics and reporting, catalogue management, search engine optimization, product browsing, mobile commerce and others.',\n",
       " 'click here for an overview of complete product features.the product comes in both professional and enterprise editions.',\n",
       " 'the professional edition is best for if you are comfortable using wordpress, you can easily set up an ecommerce store using various free and paid plugins.',\n",
       " 'examples of popular plugins that will enable your wordpress site and have ecommerce capabilities include woocommerce, wp e-commerce, , and others.if you are using wordpress for your ecommerce store, you should be concerned about security for your customer™s data.',\n",
       " 'there are many tutorials that show how you can secure your wordpress site.credit cards provide customers with an easy way to make payments at your store.',\n",
       " 'apart from credit cards, customers may also wish to pay through other methods such as paypal.',\n",
       " 'you will want to accept payments through the methods that your customers trust and use.to accept credit cards online, you will need a merchant account.',\n",
       " 'you can check with your local bank for the requirements of opening a merchant account.',\n",
       " 'usually, you will need to have been in business for www.digitalsherpa.comof transactions within a particular cycle.',\n",
       " 'there are also third party if you are just starting operations, it is highly unlikely that you will be able to open a merchant account.',\n",
       " 'to begin, the lack of operational history will disqualify you.',\n",
       " 'even if you are given a merchant account, you will pay high setup and transactional fees since your business is considered ﬁhigh-risk.ﬂ examples of merchant account providers you can work with include:after creating a merchant account, you will need a gateway.',\n",
       " 'this is a provider that will securely transfer with gateways while others work with third party gateways.',\n",
       " 'one of the most popular payment gateways in the u.s. is authorize.net.',\n",
       " 'the good news is that there are payment processors that can allow you to take credit card payments without the need for a merchant account.',\n",
       " 'these alternatives are good for smbs that cannot qualify for merchant accounts.',\n",
       " 'the leader in this pack is paypal.',\n",
       " 'other options you can check include stripe, braintree, chargebee, chargify, among others.after you have set up your domain name, hosting and shopping script, you are ready to start selling www.digitalsherpa.comperform some maintenance and tweak your website design to match the needs of your customers.',\n",
       " 'set up the store to load fast and its content to be easily found by search engine robots (read the marketing section for more of this).ensure your design will provide a good user experience to your customers.',\n",
       " 'also, provide comprehensive description to the products and use high quality images to make shoppers interested in the products.like a physical retail store, you need to maximize the visitors at your store.',\n",
       " 'however, you cannot simply hand over products over the counter.',\n",
       " 'you have to pack and ship the products to your customers, often across state and national boundaries.shipping comes with its challenges, including taxes, dealing with returned goods or reverse logistics in general.',\n",
       " 'what happens when goods sold are returned but you don™t have a physical location?',\n",
       " 'this company, and then the company will pack and ship the inventory as each order is received.will have to pack and ship each order individually.',\n",
       " 'you may also need a warehouse or garage to store your inventory.',\n",
       " 'all these cut into space and time that you can otherwise be spending more productively.if you only ship products occasionally online, using an order fragile items and perishables, your inventory may not be accepted.',\n",
       " 'however, if you are looking to replace your traditional retail store, you may not want to invest in storage space.',\n",
       " 'you can reduce your time handle orders of any scale.with most e-commerce websites carrying the same products as their competitors, how can you make your store be found by prospects that are ready to buy?www.digitalsherpa.comand improve your sales.before we look at marketing your site, you need to get design right.your e-commerce store designwhether you are using a hosted or self-hosted e-commerce script, there are two major things about design you should consider:your store should be designed to close sales.',\n",
       " 'here are  design tips that will improve your conversions:make the cta buttons on your store easily visible.',\n",
       " 'use bold color, size and design to make the cta button stand out to the user.',\n",
       " 'see how the cta button at avon.com stands out.products using the search function rather than going through the categories.',\n",
       " 'simplify searches on your store with an auto-complete function.',\n",
       " 'when customers add items to their cart, they want to know that it was actually registered.',\n",
       " 'somewhere on the checkout page, have a cart showing all the items added.',\n",
       " 'make the cart stand out by using contrasting colors from the color scheme of the rest of the store.down menu at walmart store.',\n",
       " 'use large, high quality images that are optimized to load fast on the website.',\n",
       " 'the best image formats to use for your products are jpeg and png.',\n",
       " 'show the product in multiple angles to help customers to see what they want to buy.don™t force customers to do something that they don™t want.',\n",
       " 'requiring forced login or registration to shop is putting a wall between customers and their purchase.',\n",
       " 'if you need users to register, explore other easier options such as using social media login systems.www.digitalsherpa.comprovide customers with feedback from other customers about the products at your store.',\n",
       " 'allow customers to post reviews of the products.',\n",
       " 'your product and business.let customers know where they are in the checkout process.',\n",
       " 'online indicators on every page to inform customers where they are in the checkout process.remove distractions like sidebar navigation on the checkout page.',\n",
       " 'also, avoid the urge to continue selling on the checkout page.',\n",
       " 'use single-page checkout pages for higher conversions.x) customized experiencelet visitors be able to customize their checkout experience.',\n",
       " 'provide tools that enable shoppers to sort products by release date, bestsellers, review, price and so on.after designing your store, you need to promote it.',\n",
       " 'with your competitors looking to win the same customers you are targeting, you need to be proactive in promoting your store and building your brand online.',\n",
       " 'this is where the real work begins.generate leads to your e-commerce storemethods are search engine optimization (seo), content marketing, social media marketing and paid advertisements.high on search engine results pages (serps) when customers type various keywords related to your products.',\n",
       " 'here are some tips that will make your e-commerce store more seo-friendly.your e-commerce site should support static and keyword-rich urls.',\n",
       " 'you can modify these urls for www.digitalsherpa.comii) use  redirectswhen you stop selling some products on your website, you may want to delete the pages where the products were listed.',\n",
       " 'when you delete pages, use  redirects to guide customers to a new page.',\n",
       " 'redirects improve customer experience on your site and ensure your site retains link juice from the deleted pages.iii) use canonicalizationif your site has a number of pages that have the same content, use <link rel=ﬂcanonicalﬂ href=ﬂﬂ /> to tell google which page should be given preference.',\n",
       " 'this will also make the site safe from duplicate content penalties.',\n",
       " 'and other irrelevant links on your site.',\n",
       " 'search engine robots cannot read images on websites.',\n",
       " 'to optimize images for seo, use alt tags for each of them.',\n",
       " 'the alt tag is simply a text description of the image.',\n",
       " 'tip: when writing the alt tags, make sure they contain the target keyword of the product.',\n",
       " 'use your target product keywords in the title tags.',\n",
       " 'apart from this, optimize the product descriptions to improve the click-through rate.',\n",
       " 'when writing the descriptions, make sure you appeal to the customer™s emotions.',\n",
       " 'tip: remember, buying is an emotional decision and a customer will click your website™s url on search engine results pages simply because of the information in the description.',\n",
       " 'write descriptions using persuasive language.high on google when customers search for them.when building backlinks, you should focus more on building quality backlinks rather than getting a large number of low-quality links.',\n",
       " 'quality backlinks refers to links coming from websites that are trusted by google and that are in the same niche as your store.make sure the pages on which you want to build your links are indexed by google.',\n",
       " 'building backlinks from pages that are not indexed by google will not add any value to your website.www.digitalsherpa.comtip: building backlinks can be tiresome and time consuming.',\n",
       " 'you can outsource the work to a professional seo agency.apart from building backlinks, you should have a content marketing strategy for your store.',\n",
       " 'the strategy should guide towards achieving your overall goals of getting more sales, improving brand awareness and increasing your store™s ranking on search engines.below are some content marketing tactics you should focus.i) blogginghave a blog on your store.',\n",
       " 'you can easily incorporate a blog on your website using a content management system (cms) like wordpress.',\n",
       " 'your blog can serve two functions:announcements or information.products you are selling.the main aim of your blog should be to educate customers about your products.',\n",
       " 'some of the topics you can blog about include tips on choosing select products, on.tip: when blogging, focus on adding value to the lives of the customers.',\n",
       " 'avoid being ﬁsalesyﬂ in your email marketing should be part of your content marketing campaign.',\n",
       " 'the best thing with email marketing is that you can reach your prospects any time that you want.',\n",
       " 'successful email marketing is all about knowing what your prospects want and targeting them with relevant content.',\n",
       " 'producing ebooks and white papers based on your products can help you generate more leads and increase your conversions.',\n",
       " 'based on the ebooks that leads download, you can know what their interests are and nurture them through email marketing messages to warm them up for a sale.www.digitalsherpa.comeducational ebooks that show how your products work and how they will help customers can enhance your brand and make your store the go-to place for any information related to your industry.tip: your content marketing strategies should complement each other.',\n",
       " 'for example, the leads that download your ebooks can be segmented and put in your email list for further targeting with related or video marketing is crucial for sales because it gives customers the opportunity to see the product, and know how to use it or how it functions.',\n",
       " 'have clear videos that show the product in action.',\n",
       " 'get sure the audio is clear.tip: you do not have to host all your videos on your website.',\n",
       " 'simply upload the videos on youtube or other video hosting sites and link to them from your website.customers and close sales.',\n",
       " 'incorporate social media buttons on your store so that customers can share your products with their networks online.is engaging, educative and worth sharing with your target market.',\n",
       " 'post high quality photos of your products and link to the products on your store.if you have specials on your store, announce to your fans on use twitter to engage your customers and prospects by users who are talking about your brand or products by searching various keywords on the network using hash tags.to automate your social media tasks such as posting on facebook and twitter.',\n",
       " 'c) pinterestwww.digitalsherpa.comimages on your pinterest account and provide a link to where they are on your e-commerce store.',\n",
       " 'as your business grows, it may be necessary to have a full time social media manager to manage conversation with the company and get their questions answered quickly.take away: social media marketing is all about relationships.',\n",
       " 'connect with your target prospects and provide value to them before you ask for a sale.advertising is the way to go.',\n",
       " 'paid advertising includes pay per click (ppc), sponsored emails or blog posts, and banner advertising.paid advertisements come in various forms.',\n",
       " 'you can pay for every click, view, number of impressions and so on.',\n",
       " 'when done right, pay per click (ppc) and pay per view (ppv) can drive campaign.the key to being successful with paid advertising is to know your target market and the keywords that they type on search engines when looking for your product.',\n",
       " 'since you are using money to get your website in front of buyers, make sure your campaigns are as targeted as possible.',\n",
       " 'this will ensure good return on investment (roi).',\n",
       " 'if you carry a large inventory, you many need a full time ppc or ppv manager to create and optimize your campaigns for maximum roi.and track various metrics.',\n",
       " 'each marketing technique should be measured to determine its contribution towards achieving the overall goals of the business.some of the metrics you should measure include:www.digitalsherpa.comscaled up while those that do not result in major impacts scaled down.']"
      ]
     },
     "execution_count": 39,
     "metadata": {},
     "output_type": "execute_result"
    }
   ],
   "source": [
    "#creating list of sentences\n",
    "list_sentences = sent_tokenize(solar_data)\n",
    "print(len(list_sentences),\"\\n\")\n",
    "list_sentences"
   ]
  },
  {
   "cell_type": "code",
   "execution_count": 40,
   "id": "9cd70fe3",
   "metadata": {},
   "outputs": [
    {
     "data": {
      "text/plain": [
       "{'a',\n",
       " 'about',\n",
       " 'above',\n",
       " 'after',\n",
       " 'again',\n",
       " 'against',\n",
       " 'ain',\n",
       " 'all',\n",
       " 'am',\n",
       " 'an',\n",
       " 'and',\n",
       " 'any',\n",
       " 'are',\n",
       " 'aren',\n",
       " \"aren't\",\n",
       " 'as',\n",
       " 'at',\n",
       " 'be',\n",
       " 'because',\n",
       " 'been',\n",
       " 'before',\n",
       " 'being',\n",
       " 'below',\n",
       " 'between',\n",
       " 'both',\n",
       " 'but',\n",
       " 'by',\n",
       " 'can',\n",
       " 'couldn',\n",
       " \"couldn't\",\n",
       " 'd',\n",
       " 'did',\n",
       " 'didn',\n",
       " \"didn't\",\n",
       " 'do',\n",
       " 'does',\n",
       " 'doesn',\n",
       " \"doesn't\",\n",
       " 'doing',\n",
       " 'don',\n",
       " \"don't\",\n",
       " 'down',\n",
       " 'during',\n",
       " 'each',\n",
       " 'few',\n",
       " 'for',\n",
       " 'from',\n",
       " 'further',\n",
       " 'had',\n",
       " 'hadn',\n",
       " \"hadn't\",\n",
       " 'has',\n",
       " 'hasn',\n",
       " \"hasn't\",\n",
       " 'have',\n",
       " 'haven',\n",
       " \"haven't\",\n",
       " 'having',\n",
       " 'he',\n",
       " 'her',\n",
       " 'here',\n",
       " 'hers',\n",
       " 'herself',\n",
       " 'him',\n",
       " 'himself',\n",
       " 'his',\n",
       " 'how',\n",
       " 'i',\n",
       " 'if',\n",
       " 'in',\n",
       " 'into',\n",
       " 'is',\n",
       " 'isn',\n",
       " \"isn't\",\n",
       " 'it',\n",
       " \"it's\",\n",
       " 'its',\n",
       " 'itself',\n",
       " 'just',\n",
       " 'll',\n",
       " 'm',\n",
       " 'ma',\n",
       " 'me',\n",
       " 'mightn',\n",
       " \"mightn't\",\n",
       " 'more',\n",
       " 'most',\n",
       " 'mustn',\n",
       " \"mustn't\",\n",
       " 'my',\n",
       " 'myself',\n",
       " 'needn',\n",
       " \"needn't\",\n",
       " 'no',\n",
       " 'nor',\n",
       " 'not',\n",
       " 'now',\n",
       " 'o',\n",
       " 'of',\n",
       " 'off',\n",
       " 'on',\n",
       " 'once',\n",
       " 'only',\n",
       " 'or',\n",
       " 'other',\n",
       " 'our',\n",
       " 'ours',\n",
       " 'ourselves',\n",
       " 'out',\n",
       " 'over',\n",
       " 'own',\n",
       " 're',\n",
       " 's',\n",
       " 'same',\n",
       " 'shan',\n",
       " \"shan't\",\n",
       " 'she',\n",
       " \"she's\",\n",
       " 'should',\n",
       " \"should've\",\n",
       " 'shouldn',\n",
       " \"shouldn't\",\n",
       " 'so',\n",
       " 'some',\n",
       " 'such',\n",
       " 't',\n",
       " 'than',\n",
       " 'that',\n",
       " \"that'll\",\n",
       " 'the',\n",
       " 'their',\n",
       " 'theirs',\n",
       " 'them',\n",
       " 'themselves',\n",
       " 'then',\n",
       " 'there',\n",
       " 'these',\n",
       " 'they',\n",
       " 'this',\n",
       " 'those',\n",
       " 'through',\n",
       " 'to',\n",
       " 'too',\n",
       " 'under',\n",
       " 'until',\n",
       " 'up',\n",
       " 've',\n",
       " 'very',\n",
       " 'was',\n",
       " 'wasn',\n",
       " \"wasn't\",\n",
       " 'we',\n",
       " 'were',\n",
       " 'weren',\n",
       " \"weren't\",\n",
       " 'what',\n",
       " 'when',\n",
       " 'where',\n",
       " 'which',\n",
       " 'while',\n",
       " 'who',\n",
       " 'whom',\n",
       " 'why',\n",
       " 'will',\n",
       " 'with',\n",
       " 'won',\n",
       " \"won't\",\n",
       " 'wouldn',\n",
       " \"wouldn't\",\n",
       " 'y',\n",
       " 'you',\n",
       " \"you'd\",\n",
       " \"you'll\",\n",
       " \"you're\",\n",
       " \"you've\",\n",
       " 'your',\n",
       " 'yours',\n",
       " 'yourself',\n",
       " 'yourselves'}"
      ]
     },
     "execution_count": 40,
     "metadata": {},
     "output_type": "execute_result"
    }
   ],
   "source": [
    "stop_words = set(stopwords.words('english'))\n",
    "stop_words"
   ]
  },
  {
   "cell_type": "code",
   "execution_count": 41,
   "id": "4675be8f",
   "metadata": {},
   "outputs": [
    {
     "name": "stdout",
     "output_type": "stream",
     "text": [
      "3910\n",
      "['complete', 'guide', 'to', 'building', 'an', 'e-commerce', 'business', 'content', 'and', 'social', 'mediamarketingfor', 'small', 'businesseswww.digitalsherpa.comadvancement', 'in', 'technology', 'and', 'an', 'increasingly', 'savvy', 'consumer', 'market', 'has', 'made', 'e-commerce', 'a', 'powerful', 'force', 'in', 'the', 'global', 'economy', '.', 'with', 'more', 'people', 'opting', 'to', 'shop', 'on', 'the', 'internet', ',', 'smbs', 'take', 'steps', 'to', 'reach', 'this', 'market', 'by', 'setting', 'up', 'online', 'shops', '.', 'as', 'more', 'payment', 'services', 'providers', 'get', 'into', 'the', 'market', ',', 'setting', 'up', 'an', 'e-commerce', 'website', 'is', 'no', 'longer', 'cost-prohibitive', '.', 'today', ',', 'anyone', 'with', 'basic', 'web', 'skills', 'can', 'set', 'up', 'a', 'robust', 'e-commerce', 'site', 'within', 'a', 'few', 'days', 'and', 'without', 'breaking', 'the', 'bank.one', 'of', 'the', 'major', 'things', 'that', 'buyers', 'are', 'concerned', 'about', 'when', 'shopping', 'online', 'is', 'their', 'security', '.', 'with', 'major', 'online', 'fraud', 'cases', 'being', 'reported', 'around', 'the', 'world', ',', 'you', 'can', 'not', 'blame', 'consumers', 'for', 'being', 'extra', 'cautious', '.', 'therefore', ',', 'when', 'setting', 'up', 'an', 'e-commerce', 'store', ',', 'you', 'need', 'to', 'plan', 'carefully', 'and', 'keep', 'security', 'at', 'the', 'forefront', 'of', 'your', 'installation.with', 'that', 'said', ',', 'this', 'guide', 'will', 'take', 'you', 'from', 'marketing', '.', 'let™s', 'get', 'started.the', 'planning', 'stagebefore', 'you', 'jump', 'to', 'building', 'your', 'store', ',', 'you', 'must', 'know', 'what', 'you', 'will', 'sell', '.', 'at', 'the', 'least', ',', 'answer', 'these', 'three', 'basic', 'questions', 'before', 'proceeding', ':', 'this', 'is', 'the', 'planning', 'stage', 'of', 'your', 'business', '.', 'you', 'need', 'to', 'carefully', 'consider', 'your', 'goals', 'and', 'how', 'you', 'see', 'your', 'company', '.', 'it', 'also', 'helps', 'to', 'start', 'building', 'your', 'brand', 'before', 'you', 'even', 'start', 'developing', 'your', 'site', '.', 'to', 'begin', ',', 'buy', 'a', 'matching', 'domain', 'name', 'for', 'your', 'company', 'and', 'get', 'a', 'logo', 'designed.you', 'can', 'also', 'start', 'building', 'clout', 'for', 'your', 'business', 'even', 'before', 'you', 'launch', '.', 'if', 'you', 'are', 'online', ',', 'set', 'up', 'customers', '(', 'more', 'on', 'this', 'later', 'in', 'the', 'marketing', 'segment', 'of', 'the', 'ebook', ')', '.', 'complete', 'guide', 'to', 'building', 'an', 'e-commerce', 'business', 'www.digitalsherpa.comyou', 'can', 'also', 'create', 'a', 'google', 'account', 'for', 'the', 'company', 'to', 'access', 'apps', 'such', 'as', 'google', 'analytics', 'and', 'google', 'docs', 'that', 'you', 'can', 'use', 'for', 'your', 'business', '.', 'having', 'a', 'youtube', 'account', 'is', 'also', 'important', 'especially', 'if', 'you', 'will', 'be', 'using', 'video', 'to', 'market', 'your', 'store', '.', 'the', 'major', 'work', 'at', 'this', 'stage', 'is', 'to', 'secure', 'your', 'store™s', 'brand', 'across', 'the', 'various', 'online', 'properties', '.', 'this', 'have', 'a', 'presence', 'on', 'and', 'open', 'accounts', 'using', 'your', 'company™s', 'name', 'as', 'the', 'user', 'name.if', 'you', 'already', 'have', 'the', 'name', 'of', 'your', 'shop', ',', 'it', 'is', 'time', 'to', 'start', 'setting', 'should', 'not', 'cost', 'you', 'more', 'than', '$', 'for', 'a', '.com', 'extension', '.', 'you', 'can', 'use', 'namecheap', ',', 'godaddy', 'or', 'any', 'other', 'domain', 'name', 'registrar', 'you', 'prefer', '.', 'your', 'domain', 'name', 'will', 'be', 'part', 'of', 'your', 'brand', '.', 'think', 'carefully', 'about', 'the', 'name', 'you', 'want', 'to', 'use.company', '.', 'look', 'for', 'a', 'hosting', 'company', 'that', 'has', 'good', 'servers', 'and', 'that', 'will', 'be', 'able', 'to', 'run', 'your', 'online', 'store', '.', 'if', 'you', 'do', 'not', 'have', 'any', 'preferences', ',', 'you', 'can', 'stick', 'with', 'servers', 'that', 'run', 'php', '.', 'the', 'language', 'is', 'open', 'source', 'and', 'is', 'supported', 'in', 'most', 'server', 'environments', '.', 'make', 'sure', 'your', 'hosting', 'accounts', 'will', 'support', 'php', 'and', 'mysql', 'databases.also', ',', 'check', 'the', 'features', 'and', 'capabilities', 'of', 'the', 'hosting', 'account', '.', 'to', 'begin', ',', 'you', 'want', 'an', 'account', 'with', 'your', 'own', 'cpanel', 'and', 'unlimited', 'bandwidth', '.', 'with', 'hosting', 'companies', 'like', 'bluehost', 'and', 'hostgator', ',', 'you', 'can', 'there', 'are', 'many', 'guides', 'online', 'that', 'can', 'help', 'you', 'with', 'choosing', 'the', 'right', 'hosting', 'company.you', 'can', 'build', 'your', 'online', 'store', 'through', 'hosted', 'solutions', 'or', 'self', 'hosted', 'solutionsthere', 'are', 'companies', 'that', 'host', 'e-commerce', 'scripts', 'on', 'their', 'servers', 'and', 'provide', 'everything', 'that', 'you', 'will', 'need', 'on', 'the', 'backend', 'of', 'your', 'site', '.', 'this', 'is', 'referred', 'to', 'as', 'a', 'hosted', 'solution', '.', 'with', 'hosted', 'solutions', ',', 'you', 'will', 'to', 'redirect', 'and', 'give', 'your', 'shop', 'a', 'unique', 'url.you', 'can', 'also', 'choose', 'to', 'host', 'ecommerce', 'scripts', 'on', 'your', 'servers', '.', 'this', 'is', 'what', 'constitutes', 'a', 'self-hosted', 'solution', '.', 'you', 'can', 'use', 'either', 'open', 'source', 'or', 'paid', 'scripts', 'and', 'customize', 'them', 'to', 'meet', 'your', 'needs', '.', 'the', 'installation', 'process', 'is', 'simple', 'even', 'if', 'you', 'are', 'not', 'a', 'programmer', 'at', 'heart', '.', 'www.digitalsherpa.comgateways', ',', 'you', 'do', 'not', 'have', 'to', 'program', 'or', 'install', 'any', 'scripts', 'on', 'your', 'website', 'to', 'start', 'accepting', 'payments', 'online', '.', 'you', 'simply', 'need', 'to', 'create', 'a', 'page', 'for', 'your', 'business', '(', 'on', 'the', 'checkout', 'provider', ')', 'and', 'link', 'to', 'it', '.', 'when', 'users', 'select', 'an', 'item', 'on', 'your', 'store', ',', 'they', 'will', 'be', 'directed', 'to', 'the', 'payment', 'services', 'provider', 'checkout', 'page', 'to', 'pay', '.', 'after', 'the', 'payment', 'has', 'been', 'made', ',', 'customers', 'will', 'then', 'be', 'redirected', 'to', 'a', 'ﬁthank-youﬂ', 'or', 'any', 'other', 'page', 'on', 'your', 'website.the', 'biggest', 'drawback', 'of', 'using', 'hosted', 'solutions', 'is', 'that', 'you', 'may', 'see', 'lower', 'conversions', '.', 'most', 'online', 'shoppers', 'are', 'hesitant', 'to', 'complete', 'the', 'checkout', 'process', 'on', 'a', 'third', 'party', 'website', 'where', 'they', 'will', 'be', 'redirected', 'to', '.', 'however', ',', 'some', 'hosted', 'solutions', 'have', 'packages', 'that', 'allow', 'you', 'to', 'customize', 'the', 'checkout', 'pages', 'to', 'match', 'the', 'design', 'of', 'your', 'website', '.', 'having', 'a', 'consistent', 'brand', 'is', 'crucial', 'for', 'a', 'good', 'user', 'experience', 'on', 'your', 'shop.tip', ':', 'when', 'choosing', 'a', 'hosted', 'checkout', 'solution', ',', 'keep', 'in', 'mind', 'your', 'customers™', 'user', 'experience', 'and', 'security.many', 'hosted', 'solutions', 'provide', 'a', 'good', 'experience', 'to', 'users', 'with', 'you', 'doing', 'very', 'little', 'on', 'your', 'end', '.', 'the', 'solutions', 'have', 'fairly', 'similar', 'administration', 'panels', ',', 'where', 'you', 'can', 'upload', 'photos', 'and', 'add', 'catalogue', 'entries', '.', 'when', 'using', 'a', 'hosted', 'solution', ',', 'be', 'prepared', 'to', 'lose', 'a', 'lot', 'of', 'opportunity', 'for', 'customization', '.', 'however', ',', 'you', 'there', 'are', 'many', 'hosted', 'e-commerce', 'solutions', 'you', 'can', 'go', 'with', '.', 'the', 'following', 'three', 'are', 'among', 'the', 'top', 'solutions', ':', 'shopify', 'makes', 'it', 'easy', 'for', 'anyone', 'to', 'set', 'up', 'an', 'e-commerce', 'site', '.', 'the', 'website', 'has', 'great', 'demos', 'on', 'how', 'easy', 'it', 'is', 'to', 'set', 'up', 'a', 'store', 'with', 'them', '.', 'some', 'of', 'the', 'features', 'you', 'will', 'enjoy', 'by', 'setting', 'up', 'a', 'store', 'with', 'them', 'include', 'a', 'custom', 'mobile', 'template', ',', 'unlimited', 'server', 'bandwidth', ',', 'ssl', 'security', ',', 'a', 'personal', 'app', 'store', 'and', 'more', '.', 'into', 'the', 'admin', 'backend', 'and', 'select', 'the', 'design', 'you', 'want', '.', 'if', 'you', 'have', 'css/html', 'knowledge', ',', 'you', 'can', 'edit', 'the', 'raw', 'website', 'design', 'online', '.', 'the', 'editor', 'has', 'a', 'simple', 'user', 'interface', '(', 'ui', ')', 'that', 'is', 'similar', 'to', 'the', 'wordpress', 'theme™s', 'editor.here', 'are', 'examples', 'of', 'stores', 'built', 'using', 'it', '.', 'you', 'can', 'try', 'it', 'depending', 'on', 'the', 'features', 'and', 'functionalities', 'you', 'are', 'looking', 'for', '.', 'compare', 'the', 'pricing', 'structure', 'here.www.digitalsherpa.comyahoo', '!', 'merchant', 'solution', 'may', 'also', 'be', 'right', 'for', 'your', 'small', 'business', '.', 'the', 'layout', 'of', 'y', '!', 'ms', 'is', 'fairly', 'straight-popular', 'payment', 'options', 'on', 'your', 'y', '!', 'ms', 'store', 'including', 'credit', 'cards', ',', 'checks', ',', 'money', 'orders', 'and', 'paypal', '.', 'click', 'here', 'to', 'see', 'all', 'the', 'features', 'of', 'yahoo', 'ecommerce', 'solutions.if', 'you', 'are', 'looking', 'for', 'a', 'hosted', 'solution', ',', 'yahoo', 'is', 'a', 'great', 'company', 'to', 'partner', 'with', '.', 'you', 'can', 'take', 'your', 'business', 'from', 'development', 'to', 'launch', 'using', 'y', '!', 'ms', '.', 'moreover', ',', 'if', 'you', 'are', 'looking', 'for', 'more', 'customization', ',', 'the', 'small', 'business', 'networkyou', 'need', '.', 'here', 'is', 'a', 'detailed', 'comparison', 'of', 'the', 'available', 'plans.c', ')', 'bigcommercebigcommerce', 'is', 'similar', 'to', 'shopify', 'but', 'has', 'limited', 'features', '.', 'the', 'website', 'has', 'a', 'clean', 'interface', ',', 'making', 'it', 'easy', 'for', 'users', 'to', 'sign', 'up', '.', 'you', 'can', 'easily', 'add', 'users', ',', 'products', ',', 'features', 'and', 'take', 'payments', 'online', 'in', 'just', 'a', 'few', 'minutes.company', 'gives', 'you', 'everything', 'you', 'need', 'to', 'set', 'up', 'an', 'online', 'store', 'including', 'a', 'website', ',', 'domain', 'name', ',', 'secure', 'shopping', 'cart', ',', 'product', 'catalog', ',', 'payment', 'gateway', ',', 'email', 'account', 'and', 'so', 'on.the', 'stores', 'are', 'built', 'and', 'optimized', 'to', 'rank', 'well', 'on', 'google', 'and', 'are', 'also', 'mobile', 'friendly', '.', 'the', 'company™s', 'built-in', 'marketing', 'that', 'includes', 'discounts', 'and', 'coupon', 'codes', ',', 'automatically', 'generated', 'customer', 'lists', ',', 'newsletters', ',', 'and', 'social', 'media', 'integration', 'make', 'sure', 'you', 'have', 'an', 'edge', 'with', 'your', 'store', 'from', 'the', 'beginning', '.', 'there', 'are', 'many', 'beautiful', 'store', 'themes', 'you', 'can', 'choose', 'to', 'get', 'started', 'with', '.', 'click', 'here', 'for', 'a', 'showcase', 'of', 'stores', 'powered', 'by', 'bigcommerce', '.', 'here', 'is', 'a', 'breakdown', 'of', 'the', 'features', 'for', 'each', 'price', 'package.if', 'you', 'do', 'not', 'want', 'a', 'hosted', 'solution', ',', 'you', 'can', 'make', 'your', 'own', 'e-commerce', 'scripts', 'or', 'use', 'other', 'open', 'source', 'or', 'commercial', 'shopping', 'cart', 'scripts', '.', 'you', 'will', 'have', 'to', 'host', 'the', 'script', 'on', 'your', 'web', 'servers', 'and', 'control', 'things', 'from', 'your', 'end', '.', 'there', 'are', 'many', 'shopping', 'carts', 'you', 'can', 'go', 'for', 'but', 'only', 'a', 'handful', 'are', 'worth', 'testing', '.', 'your', 'website', 'launch', 'and', 'needs', 'are', 'unique', 'and', 'you', 'may', 'need', 'a', 'feature', 'that', 'another', 'solution', 'may', 'not', 'provide', '.', 'you', 'need', 'to', 'research', 'well', 'to', 'get', 'the', 'right', 'script', 'for', 'your', 'business.www.digitalsherpa.com', 'below', 'are', 'some', 'the', 'best', 'self-hosted', 'e-commerce', 'scripts', 'you', 'can', 'try', ':', 'a', ')', 'zen', 'cartzen', 'cart', 'is', 'a', 'popular', 'open', 'source', 'script', 'that', 'will', 'work', 'in', 'most', 'web', 'hosts', '.', 'the', 'script', 'is', 'free', 'to', 'download', '.', 'the', 'only', 'downside', 'of', 'using', 'the', 'script', 'is', 'that', 'your', 'website', 'will', 'feature', 'a', 'ﬁpowered', 'by', 'zen', 'cartﬂ', 'message', 'at', 'the', 'bottom', '.', 'zen', 'cart', 'is', 'best', 'for', 'those', 'with', 'some', 'programming', 'knowledge', '.', 'the', 'cart', 'can', 'be', 'integrated', 'with', 'other', 'modules', 'to', 'improve', 'its', 'functionality', '.', 'here', 'is', 'a', 'list', 'of', 'services', 'that', 'the', 'company', 'recommends.zen', 'cart', 'has', 'a', 'vibrant', 'community', 'that', 'is', 'always', 'pushing', 'things', 'to', 'the', 'next', 'level', 'with', 'the', 'script', '.', 'you', 'can', 'spice', 'up', 'your', 'site', 'with', 'plugins', 'and', 'add-onsusing', 'zen', 'cart', ',', 'click', 'here.magento', 'is', 'another', 'good', 'script', 'you', 'can', 'use', 'for', 'your', 'e-commerce', 'website', '.', 'the', 'script', 'is', 'written', 'in', 'php', 'and', 'is', 'frequently', 'updated', '.', 'as', 'is', 'the', 'case', 'with', 'zen', 'cart', ',', 'you', 'will', 'feel', 'more', 'comfortable', 'using', 'magento', 'if', 'you', 'are', 'well-versed', 'with', 'html', 'and', 'css', '.', 'magento', 'provides', 'tools', 'that', 'give', 'store', 'owners', 'increased', 'control', 'of', 'their', 'stores', '.', 'the', 'tools', 'include', 'site', 'management', ',', 'marketing', 'promotions', ',', 'analytics', 'and', 'reporting', ',', 'catalogue', 'management', ',', 'search', 'engine', 'optimization', ',', 'product', 'browsing', ',', 'mobile', 'commerce', 'and', 'others', '.', 'click', 'here', 'for', 'an', 'overview', 'of', 'complete', 'product', 'features.the', 'product', 'comes', 'in', 'both', 'professional', 'and', 'enterprise', 'editions', '.', 'the', 'professional', 'edition', 'is', 'best', 'for', 'if', 'you', 'are', 'comfortable', 'using', 'wordpress', ',', 'you', 'can', 'easily', 'set', 'up', 'an', 'ecommerce', 'store', 'using', 'various', 'free', 'and', 'paid', 'plugins', '.', 'examples', 'of', 'popular', 'plugins', 'that', 'will', 'enable', 'your', 'wordpress', 'site', 'and', 'have', 'ecommerce', 'capabilities', 'include', 'woocommerce', ',', 'wp', 'e-commerce', ',', ',', 'and', 'others.if', 'you', 'are', 'using', 'wordpress', 'for', 'your', 'ecommerce', 'store', ',', 'you', 'should', 'be', 'concerned', 'about', 'security', 'for', 'your', 'customer™s', 'data', '.', 'there', 'are', 'many', 'tutorials', 'that', 'show', 'how', 'you', 'can', 'secure', 'your', 'wordpress', 'site.credit', 'cards', 'provide', 'customers', 'with', 'an', 'easy', 'way', 'to', 'make', 'payments', 'at', 'your', 'store', '.', 'apart', 'from', 'credit', 'cards', ',', 'customers', 'may', 'also', 'wish', 'to', 'pay', 'through', 'other', 'methods', 'such', 'as', 'paypal', '.', 'you', 'will', 'want', 'to', 'accept', 'payments', 'through', 'the', 'methods', 'that', 'your', 'customers', 'trust', 'and', 'use.to', 'accept', 'credit', 'cards', 'online', ',', 'you', 'will', 'need', 'a', 'merchant', 'account', '.', 'you', 'can', 'check', 'with', 'your', 'local', 'bank', 'for', 'the', 'requirements', 'of', 'opening', 'a', 'merchant', 'account', '.', 'usually', ',', 'you', 'will', 'need', 'to', 'have', 'been', 'in', 'business', 'for', 'www.digitalsherpa.comof', 'transactions', 'within', 'a', 'particular', 'cycle', '.', 'there', 'are', 'also', 'third', 'party', 'if', 'you', 'are', 'just', 'starting', 'operations', ',', 'it', 'is', 'highly', 'unlikely', 'that', 'you', 'will', 'be', 'able', 'to', 'open', 'a', 'merchant', 'account', '.', 'to', 'begin', ',', 'the', 'lack', 'of', 'operational', 'history', 'will', 'disqualify', 'you', '.', 'even', 'if', 'you', 'are', 'given', 'a', 'merchant', 'account', ',', 'you', 'will', 'pay', 'high', 'setup', 'and', 'transactional', 'fees', 'since', 'your', 'business', 'is', 'considered', 'ﬁhigh-risk.ﬂ', 'examples', 'of', 'merchant', 'account', 'providers', 'you', 'can', 'work', 'with', 'include', ':', 'after', 'creating', 'a', 'merchant', 'account', ',', 'you', 'will', 'need', 'a', 'gateway', '.', 'this', 'is', 'a', 'provider', 'that', 'will', 'securely', 'transfer', 'with', 'gateways', 'while', 'others', 'work', 'with', 'third', 'party', 'gateways', '.', 'one', 'of', 'the', 'most', 'popular', 'payment', 'gateways', 'in', 'the', 'u.s.', 'is', 'authorize.net', '.', 'the', 'good', 'news', 'is', 'that', 'there', 'are', 'payment', 'processors', 'that', 'can', 'allow', 'you', 'to', 'take', 'credit', 'card', 'payments', 'without', 'the', 'need', 'for', 'a', 'merchant', 'account', '.', 'these', 'alternatives', 'are', 'good', 'for', 'smbs', 'that', 'can', 'not', 'qualify', 'for', 'merchant', 'accounts', '.', 'the', 'leader', 'in', 'this', 'pack', 'is', 'paypal', '.', 'other', 'options', 'you', 'can', 'check', 'include', 'stripe', ',', 'braintree', ',', 'chargebee', ',', 'chargify', ',', 'among', 'others.after', 'you', 'have', 'set', 'up', 'your', 'domain', 'name', ',', 'hosting', 'and', 'shopping', 'script', ',', 'you', 'are', 'ready', 'to', 'start', 'selling', 'www.digitalsherpa.comperform', 'some', 'maintenance', 'and', 'tweak', 'your', 'website', 'design', 'to', 'match', 'the', 'needs', 'of', 'your', 'customers', '.', 'set', 'up', 'the', 'store', 'to', 'load', 'fast', 'and', 'its', 'content', 'to', 'be', 'easily', 'found', 'by', 'search', 'engine', 'robots', '(', 'read', 'the', 'marketing', 'section', 'for', 'more', 'of', 'this', ')', '.ensure', 'your', 'design', 'will', 'provide', 'a', 'good', 'user', 'experience', 'to', 'your', 'customers', '.', 'also', ',', 'provide', 'comprehensive', 'description', 'to', 'the', 'products', 'and', 'use', 'high', 'quality', 'images', 'to', 'make', 'shoppers', 'interested', 'in', 'the', 'products.like', 'a', 'physical', 'retail', 'store', ',', 'you', 'need', 'to', 'maximize', 'the', 'visitors', 'at', 'your', 'store', '.', 'however', ',', 'you', 'can', 'not', 'simply', 'hand', 'over', 'products', 'over', 'the', 'counter', '.', 'you', 'have', 'to', 'pack', 'and', 'ship', 'the', 'products', 'to', 'your', 'customers', ',', 'often', 'across', 'state', 'and', 'national', 'boundaries.shipping', 'comes', 'with', 'its', 'challenges', ',', 'including', 'taxes', ',', 'dealing', 'with', 'returned', 'goods', 'or', 'reverse', 'logistics', 'in', 'general', '.', 'what', 'happens', 'when', 'goods', 'sold', 'are', 'returned', 'but', 'you', 'don™t', 'have', 'a', 'physical', 'location', '?', 'this', 'company', ',', 'and', 'then', 'the', 'company', 'will', 'pack', 'and', 'ship', 'the', 'inventory', 'as', 'each', 'order', 'is', 'received.will', 'have', 'to', 'pack', 'and', 'ship', 'each', 'order', 'individually', '.', 'you', 'may', 'also', 'need', 'a', 'warehouse', 'or', 'garage', 'to', 'store', 'your', 'inventory', '.', 'all', 'these', 'cut', 'into', 'space', 'and', 'time', 'that', 'you', 'can', 'otherwise', 'be', 'spending', 'more', 'productively.if', 'you', 'only', 'ship', 'products', 'occasionally', 'online', ',', 'using', 'an', 'order', 'fragile', 'items', 'and', 'perishables', ',', 'your', 'inventory', 'may', 'not', 'be', 'accepted', '.', 'however', ',', 'if', 'you', 'are', 'looking', 'to', 'replace', 'your', 'traditional', 'retail', 'store', ',', 'you', 'may', 'not', 'want', 'to', 'invest', 'in', 'storage', 'space', '.', 'you', 'can', 'reduce', 'your', 'time', 'handle', 'orders', 'of', 'any', 'scale.with', 'most', 'e-commerce', 'websites', 'carrying', 'the', 'same', 'products', 'as', 'their', 'competitors', ',', 'how', 'can', 'you', 'make', 'your', 'store', 'be', 'found', 'by', 'prospects', 'that', 'are', 'ready', 'to', 'buy', '?', 'www.digitalsherpa.comand', 'improve', 'your', 'sales.before', 'we', 'look', 'at', 'marketing', 'your', 'site', ',', 'you', 'need', 'to', 'get', 'design', 'right.your', 'e-commerce', 'store', 'designwhether', 'you', 'are', 'using', 'a', 'hosted', 'or', 'self-hosted', 'e-commerce', 'script', ',', 'there', 'are', 'two', 'major', 'things', 'about', 'design', 'you', 'should', 'consider', ':', 'your', 'store', 'should', 'be', 'designed', 'to', 'close', 'sales', '.', 'here', 'are', 'design', 'tips', 'that', 'will', 'improve', 'your', 'conversions', ':', 'make', 'the', 'cta', 'buttons', 'on', 'your', 'store', 'easily', 'visible', '.', 'use', 'bold', 'color', ',', 'size', 'and', 'design', 'to', 'make', 'the', 'cta', 'button', 'stand', 'out', 'to', 'the', 'user', '.', 'see', 'how', 'the', 'cta', 'button', 'at', 'avon.com', 'stands', 'out.products', 'using', 'the', 'search', 'function', 'rather', 'than', 'going', 'through', 'the', 'categories', '.', 'simplify', 'searches', 'on', 'your', 'store', 'with', 'an', 'auto-complete', 'function', '.', 'when', 'customers', 'add', 'items', 'to', 'their', 'cart', ',', 'they', 'want', 'to', 'know', 'that', 'it', 'was', 'actually', 'registered', '.', 'somewhere', 'on', 'the', 'checkout', 'page', ',', 'have', 'a', 'cart', 'showing', 'all', 'the', 'items', 'added', '.', 'make', 'the', 'cart', 'stand', 'out', 'by', 'using', 'contrasting', 'colors', 'from', 'the', 'color', 'scheme', 'of', 'the', 'rest', 'of', 'the', 'store.down', 'menu', 'at', 'walmart', 'store', '.', 'use', 'large', ',', 'high', 'quality', 'images', 'that', 'are', 'optimized', 'to', 'load', 'fast', 'on', 'the', 'website', '.', 'the', 'best', 'image', 'formats', 'to', 'use', 'for', 'your', 'products', 'are', 'jpeg', 'and', 'png', '.', 'show', 'the', 'product', 'in', 'multiple', 'angles', 'to', 'help', 'customers', 'to', 'see', 'what', 'they', 'want', 'to', 'buy.don™t', 'force', 'customers', 'to', 'do', 'something', 'that', 'they', 'don™t', 'want', '.', 'requiring', 'forced', 'login', 'or', 'registration', 'to', 'shop', 'is', 'putting', 'a', 'wall', 'between', 'customers', 'and', 'their', 'purchase', '.', 'if', 'you', 'need', 'users', 'to', 'register', ',', 'explore', 'other', 'easier', 'options', 'such', 'as', 'using', 'social', 'media', 'login', 'systems.www.digitalsherpa.comprovide', 'customers', 'with', 'feedback', 'from', 'other', 'customers', 'about', 'the', 'products', 'at', 'your', 'store', '.', 'allow', 'customers', 'to', 'post', 'reviews', 'of', 'the', 'products', '.', 'your', 'product', 'and', 'business.let', 'customers', 'know', 'where', 'they', 'are', 'in', 'the', 'checkout', 'process', '.', 'online', 'indicators', 'on', 'every', 'page', 'to', 'inform', 'customers', 'where', 'they', 'are', 'in', 'the', 'checkout', 'process.remove', 'distractions', 'like', 'sidebar', 'navigation', 'on', 'the', 'checkout', 'page', '.', 'also', ',', 'avoid', 'the', 'urge', 'to', 'continue', 'selling', 'on', 'the', 'checkout', 'page', '.', 'use', 'single-page', 'checkout', 'pages', 'for', 'higher', 'conversions.x', ')', 'customized', 'experiencelet', 'visitors', 'be', 'able', 'to', 'customize', 'their', 'checkout', 'experience', '.', 'provide', 'tools', 'that', 'enable', 'shoppers', 'to', 'sort', 'products', 'by', 'release', 'date', ',', 'bestsellers', ',', 'review', ',', 'price', 'and', 'so', 'on.after', 'designing', 'your', 'store', ',', 'you', 'need', 'to', 'promote', 'it', '.', 'with', 'your', 'competitors', 'looking', 'to', 'win', 'the', 'same', 'customers', 'you', 'are', 'targeting', ',', 'you', 'need', 'to', 'be', 'proactive', 'in', 'promoting', 'your', 'store', 'and', 'building', 'your', 'brand', 'online', '.', 'this', 'is', 'where', 'the', 'real', 'work', 'begins.generate', 'leads', 'to', 'your', 'e-commerce', 'storemethods', 'are', 'search', 'engine', 'optimization', '(', 'seo', ')', ',', 'content', 'marketing', ',', 'social', 'media', 'marketing', 'and', 'paid', 'advertisements.high', 'on', 'search', 'engine', 'results', 'pages', '(', 'serps', ')', 'when', 'customers', 'type', 'various', 'keywords', 'related', 'to', 'your', 'products', '.', 'here', 'are', 'some', 'tips', 'that', 'will', 'make', 'your', 'e-commerce', 'store', 'more', 'seo-friendly.your', 'e-commerce', 'site', 'should', 'support', 'static', 'and', 'keyword-rich', 'urls', '.', 'you', 'can', 'modify', 'these', 'urls', 'for', 'www.digitalsherpa.comii', ')', 'use', 'redirectswhen', 'you', 'stop', 'selling', 'some', 'products', 'on', 'your', 'website', ',', 'you', 'may', 'want', 'to', 'delete', 'the', 'pages', 'where', 'the', 'products', 'were', 'listed', '.', 'when', 'you', 'delete', 'pages', ',', 'use', 'redirects', 'to', 'guide', 'customers', 'to', 'a', 'new', 'page', '.', 'redirects', 'improve', 'customer', 'experience', 'on', 'your', 'site', 'and', 'ensure', 'your', 'site', 'retains', 'link', 'juice', 'from', 'the', 'deleted', 'pages.iii', ')', 'use', 'canonicalizationif', 'your', 'site', 'has', 'a', 'number', 'of', 'pages', 'that', 'have', 'the', 'same', 'content', ',', 'use', '<', 'link', 'rel=ﬂcanonicalﬂ', 'href=ﬂﬂ', '/', '>', 'to', 'tell', 'google', 'which', 'page', 'should', 'be', 'given', 'preference', '.', 'this', 'will', 'also', 'make', 'the', 'site', 'safe', 'from', 'duplicate', 'content', 'penalties', '.', 'and', 'other', 'irrelevant', 'links', 'on', 'your', 'site', '.', 'search', 'engine', 'robots', 'can', 'not', 'read', 'images', 'on', 'websites', '.', 'to', 'optimize', 'images', 'for', 'seo', ',', 'use', 'alt', 'tags', 'for', 'each', 'of', 'them', '.', 'the', 'alt', 'tag', 'is', 'simply', 'a', 'text', 'description', 'of', 'the', 'image', '.', 'tip', ':', 'when', 'writing', 'the', 'alt', 'tags', ',', 'make', 'sure', 'they', 'contain', 'the', 'target', 'keyword', 'of', 'the', 'product', '.', 'use', 'your', 'target', 'product', 'keywords', 'in', 'the', 'title', 'tags', '.', 'apart', 'from', 'this', ',', 'optimize', 'the', 'product', 'descriptions', 'to', 'improve', 'the', 'click-through', 'rate', '.', 'when', 'writing', 'the', 'descriptions', ',', 'make', 'sure', 'you', 'appeal', 'to', 'the', 'customer™s', 'emotions', '.', 'tip', ':', 'remember', ',', 'buying', 'is', 'an', 'emotional', 'decision', 'and', 'a', 'customer', 'will', 'click', 'your', 'website™s', 'url', 'on', 'search', 'engine', 'results', 'pages', 'simply', 'because', 'of', 'the', 'information', 'in', 'the', 'description', '.', 'write', 'descriptions', 'using', 'persuasive', 'language.high', 'on', 'google', 'when', 'customers', 'search', 'for', 'them.when', 'building', 'backlinks', ',', 'you', 'should', 'focus', 'more', 'on', 'building', 'quality', 'backlinks', 'rather', 'than', 'getting', 'a', 'large', 'number', 'of', 'low-quality', 'links', '.', 'quality', 'backlinks', 'refers', 'to', 'links', 'coming', 'from', 'websites', 'that', 'are', 'trusted', 'by', 'google', 'and', 'that', 'are', 'in', 'the', 'same', 'niche', 'as', 'your', 'store.make', 'sure', 'the', 'pages', 'on', 'which', 'you', 'want', 'to', 'build', 'your', 'links', 'are', 'indexed', 'by', 'google', '.', 'building', 'backlinks', 'from', 'pages', 'that', 'are', 'not', 'indexed', 'by', 'google', 'will', 'not', 'add', 'any', 'value', 'to', 'your', 'website.www.digitalsherpa.comtip', ':', 'building', 'backlinks', 'can', 'be', 'tiresome', 'and', 'time', 'consuming', '.', 'you', 'can', 'outsource', 'the', 'work', 'to', 'a', 'professional', 'seo', 'agency.apart', 'from', 'building', 'backlinks', ',', 'you', 'should', 'have', 'a', 'content', 'marketing', 'strategy', 'for', 'your', 'store', '.', 'the', 'strategy', 'should', 'guide', 'towards', 'achieving', 'your', 'overall', 'goals', 'of', 'getting', 'more', 'sales', ',', 'improving', 'brand', 'awareness', 'and', 'increasing', 'your', 'store™s', 'ranking', 'on', 'search', 'engines.below', 'are', 'some', 'content', 'marketing', 'tactics', 'you', 'should', 'focus.i', ')', 'blogginghave', 'a', 'blog', 'on', 'your', 'store', '.', 'you', 'can', 'easily', 'incorporate', 'a', 'blog', 'on', 'your', 'website', 'using', 'a', 'content', 'management', 'system', '(', 'cms', ')', 'like', 'wordpress', '.', 'your', 'blog', 'can', 'serve', 'two', 'functions', ':', 'announcements', 'or', 'information.products', 'you', 'are', 'selling.the', 'main', 'aim', 'of', 'your', 'blog', 'should', 'be', 'to', 'educate', 'customers', 'about', 'your', 'products', '.', 'some', 'of', 'the', 'topics', 'you', 'can', 'blog', 'about', 'include', 'tips', 'on', 'choosing', 'select', 'products', ',', 'on.tip', ':', 'when', 'blogging', ',', 'focus', 'on', 'adding', 'value', 'to', 'the', 'lives', 'of', 'the', 'customers', '.', 'avoid', 'being', 'ﬁsalesyﬂ', 'in', 'your', 'email', 'marketing', 'should', 'be', 'part', 'of', 'your', 'content', 'marketing', 'campaign', '.', 'the', 'best', 'thing', 'with', 'email', 'marketing', 'is', 'that', 'you', 'can', 'reach', 'your', 'prospects', 'any', 'time', 'that', 'you', 'want', '.', 'successful', 'email', 'marketing', 'is', 'all', 'about', 'knowing', 'what', 'your', 'prospects', 'want', 'and', 'targeting', 'them', 'with', 'relevant', 'content', '.', 'producing', 'ebooks', 'and', 'white', 'papers', 'based', 'on', 'your', 'products', 'can', 'help', 'you', 'generate', 'more', 'leads', 'and', 'increase', 'your', 'conversions', '.', 'based', 'on', 'the', 'ebooks', 'that', 'leads', 'download', ',', 'you', 'can', 'know', 'what', 'their', 'interests', 'are', 'and', 'nurture', 'them', 'through', 'email', 'marketing', 'messages', 'to', 'warm', 'them', 'up', 'for', 'a', 'sale.www.digitalsherpa.comeducational', 'ebooks', 'that', 'show', 'how', 'your', 'products', 'work', 'and', 'how', 'they', 'will', 'help', 'customers', 'can', 'enhance', 'your', 'brand', 'and', 'make', 'your', 'store', 'the', 'go-to', 'place', 'for', 'any', 'information', 'related', 'to', 'your', 'industry.tip', ':', 'your', 'content', 'marketing', 'strategies', 'should', 'complement', 'each', 'other', '.', 'for', 'example', ',', 'the', 'leads', 'that', 'download', 'your', 'ebooks', 'can', 'be', 'segmented', 'and', 'put', 'in', 'your', 'email', 'list', 'for', 'further', 'targeting', 'with', 'related', 'or', 'video', 'marketing', 'is', 'crucial', 'for', 'sales', 'because', 'it', 'gives', 'customers', 'the', 'opportunity', 'to', 'see', 'the', 'product', ',', 'and', 'know', 'how', 'to', 'use', 'it', 'or', 'how', 'it', 'functions', '.', 'have', 'clear', 'videos', 'that', 'show', 'the', 'product', 'in', 'action', '.', 'get', 'sure', 'the', 'audio', 'is', 'clear.tip', ':', 'you', 'do', 'not', 'have', 'to', 'host', 'all', 'your', 'videos', 'on', 'your', 'website', '.', 'simply', 'upload', 'the', 'videos', 'on', 'youtube', 'or', 'other', 'video', 'hosting', 'sites', 'and', 'link', 'to', 'them', 'from', 'your', 'website.customers', 'and', 'close', 'sales', '.', 'incorporate', 'social', 'media', 'buttons', 'on', 'your', 'store', 'so', 'that', 'customers', 'can', 'share', 'your', 'products', 'with', 'their', 'networks', 'online.is', 'engaging', ',', 'educative', 'and', 'worth', 'sharing', 'with', 'your', 'target', 'market', '.', 'post', 'high', 'quality', 'photos', 'of', 'your', 'products', 'and', 'link', 'to', 'the', 'products', 'on', 'your', 'store.if', 'you', 'have', 'specials', 'on', 'your', 'store', ',', 'announce', 'to', 'your', 'fans', 'on', 'use', 'twitter', 'to', 'engage', 'your', 'customers', 'and', 'prospects', 'by', 'users', 'who', 'are', 'talking', 'about', 'your', 'brand', 'or', 'products', 'by', 'searching', 'various', 'keywords', 'on', 'the', 'network', 'using', 'hash', 'tags.to', 'automate', 'your', 'social', 'media', 'tasks', 'such', 'as', 'posting', 'on', 'facebook', 'and', 'twitter', '.', 'c', ')', 'pinterestwww.digitalsherpa.comimages', 'on', 'your', 'pinterest', 'account', 'and', 'provide', 'a', 'link', 'to', 'where', 'they', 'are', 'on', 'your', 'e-commerce', 'store', '.', 'as', 'your', 'business', 'grows', ',', 'it', 'may', 'be', 'necessary', 'to', 'have', 'a', 'full', 'time', 'social', 'media', 'manager', 'to', 'manage', 'conversation', 'with', 'the', 'company', 'and', 'get', 'their', 'questions', 'answered', 'quickly.take', 'away', ':', 'social', 'media', 'marketing', 'is', 'all', 'about', 'relationships', '.', 'connect', 'with', 'your', 'target', 'prospects', 'and', 'provide', 'value', 'to', 'them', 'before', 'you', 'ask', 'for', 'a', 'sale.advertising', 'is', 'the', 'way', 'to', 'go', '.', 'paid', 'advertising', 'includes', 'pay', 'per', 'click', '(', 'ppc', ')', ',', 'sponsored', 'emails', 'or', 'blog', 'posts', ',', 'and', 'banner', 'advertising.paid', 'advertisements', 'come', 'in', 'various', 'forms', '.', 'you', 'can', 'pay', 'for', 'every', 'click', ',', 'view', ',', 'number', 'of', 'impressions', 'and', 'so', 'on', '.', 'when', 'done', 'right', ',', 'pay', 'per', 'click', '(', 'ppc', ')', 'and', 'pay', 'per', 'view', '(', 'ppv', ')', 'can', 'drive', 'campaign.the', 'key', 'to', 'being', 'successful', 'with', 'paid', 'advertising', 'is', 'to', 'know', 'your', 'target', 'market', 'and', 'the', 'keywords', 'that', 'they', 'type', 'on', 'search', 'engines', 'when', 'looking', 'for', 'your', 'product', '.', 'since', 'you', 'are', 'using', 'money', 'to', 'get', 'your', 'website', 'in', 'front', 'of', 'buyers', ',', 'make', 'sure', 'your', 'campaigns', 'are', 'as', 'targeted', 'as', 'possible', '.', 'this', 'will', 'ensure', 'good', 'return', 'on', 'investment', '(', 'roi', ')', '.', 'if', 'you', 'carry', 'a', 'large', 'inventory', ',', 'you', 'many', 'need', 'a', 'full', 'time', 'ppc', 'or', 'ppv', 'manager', 'to', 'create', 'and', 'optimize', 'your', 'campaigns', 'for', 'maximum', 'roi.and', 'track', 'various', 'metrics', '.', 'each', 'marketing', 'technique', 'should', 'be', 'measured', 'to', 'determine', 'its', 'contribution', 'towards', 'achieving', 'the', 'overall', 'goals', 'of', 'the', 'business.some', 'of', 'the', 'metrics', 'you', 'should', 'measure', 'include', ':', 'www.digitalsherpa.comscaled', 'up', 'while', 'those', 'that', 'do', 'not', 'result', 'in', 'major', 'impacts', 'scaled', 'down', '.']\n"
     ]
    }
   ],
   "source": [
    "word_frequencies = {}\n",
    "word_tokens = word_tokenize(solar_data)\n",
    "print(len(word_tokens))\n",
    "print(word_tokens)"
   ]
  },
  {
   "cell_type": "code",
   "execution_count": 42,
   "id": "4ebc34f7",
   "metadata": {},
   "outputs": [
    {
     "name": "stdout",
     "output_type": "stream",
     "text": [
      "{'complete': 4, 'guide': 5, 'building': 11, 'e-commerce': 20, 'business': 12, 'content': 11, 'social': 8, 'mediamarketingfor': 1, 'small': 3, 'businesseswww.digitalsherpa.comadvancement': 1, 'technology': 1, 'increasingly': 1, 'savvy': 1, 'consumer': 1, 'market': 6, 'made': 2, 'powerful': 1, 'force': 2, 'global': 1, 'economy': 1, 'people': 1, 'opting': 1, 'shop': 4, 'internet': 1, 'smbs': 2, 'take': 5, 'steps': 1, 'reach': 2, 'setting': 5, 'online': 17, 'shops': 1, 'payment': 7, 'services': 3, 'providers': 2, 'get': 9, 'website': 17, 'longer': 1, 'cost-prohibitive': 1, 'today': 1, 'anyone': 2, 'basic': 2, 'web': 3, 'skills': 1, 'set': 8, 'robust': 1, 'site': 14, 'within': 2, 'days': 1, 'without': 2, 'breaking': 1, 'bank.one': 1, 'major': 5, 'things': 4, 'buyers': 2, 'concerned': 2, 'shopping': 5, 'security': 4, 'fraud': 1, 'cases': 1, 'reported': 1, 'around': 1, 'world': 1, 'blame': 1, 'consumers': 1, 'extra': 1, 'cautious': 1, 'therefore': 1, 'store': 38, 'need': 19, 'plan': 1, 'carefully': 3, 'keep': 2, 'forefront': 1, 'installation.with': 1, 'said': 1, 'marketing': 19, 'let™s': 1, 'started.the': 1, 'planning': 2, 'stagebefore': 1, 'jump': 1, 'must': 1, 'know': 6, 'sell': 1, 'least': 1, 'answer': 1, 'three': 2, 'questions': 2, 'proceeding': 1, 'stage': 2, 'consider': 2, 'goals': 3, 'see': 6, 'company': 9, 'also': 13, 'helps': 1, 'start': 6, 'brand': 8, 'even': 4, 'developing': 1, 'begin': 3, 'buy': 2, 'matching': 1, 'domain': 5, 'name': 8, 'logo': 1, 'designed.you': 1, 'clout': 1, 'launch': 3, 'customers': 27, 'later': 1, 'segment': 1, 'ebook': 1, 'www.digitalsherpa.comyou': 1, 'create': 3, 'google': 9, 'account': 13, 'access': 1, 'apps': 1, 'analytics': 2, 'docs': 1, 'use': 18, 'youtube': 2, 'important': 1, 'especially': 1, 'using': 20, 'video': 3, 'work': 7, 'secure': 3, 'store™s': 2, 'across': 2, 'various': 6, 'properties': 1, 'presence': 1, 'open': 6, 'accounts': 3, 'company™s': 2, 'user': 6, 'name.if': 1, 'already': 1, 'time': 7, 'cost': 1, '.com': 1, 'extension': 1, 'namecheap': 1, 'godaddy': 1, 'registrar': 1, 'prefer': 1, 'part': 2, 'think': 1, 'want': 13, 'use.company': 1, 'look': 2, 'hosting': 7, 'good': 8, 'servers': 5, 'able': 3, 'run': 2, 'preferences': 1, 'stick': 1, 'php': 3, 'language': 1, 'source': 4, 'supported': 1, 'server': 2, 'environments': 1, 'make': 15, 'sure': 7, 'support': 2, 'mysql': 1, 'databases.also': 1, 'check': 3, 'features': 7, 'capabilities': 2, 'cpanel': 1, 'unlimited': 2, 'bandwidth': 2, 'companies': 2, 'like': 3, 'bluehost': 1, 'hostgator': 1, 'many': 6, 'guides': 1, 'help': 4, 'choosing': 3, 'right': 4, 'company.you': 1, 'build': 2, 'hosted': 13, 'solutions': 8, 'self': 1, 'solutionsthere': 1, 'host': 4, 'scripts': 7, 'provide': 9, 'everything': 2, 'backend': 2, 'referred': 1, 'solution': 8, 'redirect': 1, 'give': 2, 'unique': 2, 'url.you': 1, 'choose': 2, 'ecommerce': 5, 'constitutes': 1, 'self-hosted': 3, 'either': 1, 'paid': 5, 'customize': 3, 'meet': 1, 'needs': 3, 'installation': 1, 'process': 3, 'simple': 2, 'programmer': 1, 'heart': 1, 'www.digitalsherpa.comgateways': 1, 'program': 1, 'install': 1, 'accepting': 1, 'payments': 5, 'simply': 5, 'page': 9, 'checkout': 12, 'provider': 3, 'link': 6, 'users': 6, 'select': 3, 'item': 1, 'directed': 1, 'pay': 7, 'redirected': 2, 'ﬁthank-youﬂ': 1, 'website.the': 1, 'biggest': 1, 'drawback': 1, 'may': 10, 'lower': 1, 'conversions': 3, 'shoppers': 3, 'hesitant': 1, 'third': 3, 'party': 3, 'however': 4, 'packages': 1, 'allow': 3, 'pages': 9, 'match': 2, 'design': 9, 'consistent': 1, 'crucial': 2, 'experience': 6, 'shop.tip': 1, 'mind': 1, 'customers™': 1, 'security.many': 1, 'little': 1, 'end': 2, 'fairly': 2, 'similar': 3, 'administration': 1, 'panels': 1, 'upload': 2, 'photos': 2, 'add': 4, 'catalogue': 2, 'entries': 1, 'prepared': 1, 'lose': 1, 'lot': 1, 'opportunity': 2, 'customization': 2, 'go': 3, 'following': 1, 'among': 2, 'top': 1, 'shopify': 2, 'makes': 1, 'easy': 4, 'great': 2, 'demos': 1, 'enjoy': 1, 'include': 7, 'custom': 1, 'mobile': 3, 'template': 1, 'ssl': 1, 'personal': 1, 'app': 1, 'admin': 1, 'css/html': 1, 'knowledge': 2, 'edit': 1, 'raw': 1, 'editor': 1, 'interface': 2, 'ui': 1, 'wordpress': 6, 'theme™s': 1, 'editor.here': 1, 'examples': 3, 'stores': 4, 'built': 2, 'try': 2, 'depending': 1, 'functionalities': 1, 'looking': 6, 'compare': 1, 'pricing': 1, 'structure': 1, 'here.www.digitalsherpa.comyahoo': 1, 'merchant': 9, 'layout': 1, 'ms': 3, 'straight-popular': 1, 'options': 3, 'including': 3, 'credit': 4, 'cards': 4, 'checks': 1, 'money': 2, 'orders': 2, 'paypal': 3, 'click': 8, 'yahoo': 2, 'solutions.if': 1, 'partner': 1, 'development': 1, 'moreover': 1, 'networkyou': 1, 'detailed': 1, 'comparison': 1, 'available': 1, 'plans.c': 1, 'bigcommercebigcommerce': 1, 'limited': 1, 'clean': 1, 'making': 1, 'sign': 1, 'easily': 5, 'products': 21, 'minutes.company': 1, 'gives': 2, 'cart': 11, 'product': 12, 'catalog': 1, 'gateway': 2, 'email': 6, 'on.the': 1, 'optimized': 2, 'rank': 1, 'well': 2, 'friendly': 1, 'built-in': 1, 'includes': 2, 'discounts': 1, 'coupon': 1, 'codes': 1, 'automatically': 1, 'generated': 1, 'customer': 3, 'lists': 1, 'newsletters': 1, 'media': 7, 'integration': 1, 'edge': 1, 'beginning': 1, 'beautiful': 1, 'themes': 1, 'started': 1, 'showcase': 1, 'powered': 1, 'bigcommerce': 1, 'breakdown': 1, 'price': 2, 'package.if': 1, 'commercial': 1, 'script': 10, 'control': 2, 'carts': 1, 'handful': 1, 'worth': 2, 'testing': 1, 'feature': 2, 'another': 2, 'research': 1, 'business.www.digitalsherpa.com': 1, 'best': 5, 'zen': 5, 'cartzen': 1, 'popular': 3, 'hosts': 1, 'free': 2, 'download': 3, 'downside': 1, 'ﬁpowered': 1, 'cartﬂ': 1, 'message': 1, 'bottom': 1, 'programming': 1, 'integrated': 1, 'modules': 1, 'improve': 5, 'functionality': 1, 'list': 2, 'recommends.zen': 1, 'vibrant': 1, 'community': 1, 'always': 1, 'pushing': 1, 'next': 1, 'level': 1, 'spice': 1, 'plugins': 3, 'add-onsusing': 1, 'here.magento': 1, 'written': 1, 'frequently': 1, 'updated': 1, 'case': 1, 'feel': 1, 'comfortable': 2, 'magento': 2, 'well-versed': 1, 'html': 1, 'css': 1, 'provides': 1, 'tools': 3, 'owners': 1, 'increased': 1, 'management': 3, 'promotions': 1, 'reporting': 1, 'search': 10, 'engine': 6, 'optimization': 2, 'browsing': 1, 'commerce': 1, 'others': 2, 'overview': 1, 'features.the': 1, 'comes': 2, 'professional': 3, 'enterprise': 1, 'editions': 1, 'edition': 1, 'enable': 2, 'woocommerce': 1, 'wp': 1, 'others.if': 1, 'customer™s': 2, 'data': 1, 'tutorials': 1, 'show': 4, 'site.credit': 1, 'way': 2, 'apart': 2, 'wish': 1, 'methods': 2, 'accept': 2, 'trust': 1, 'use.to': 1, 'local': 1, 'bank': 1, 'requirements': 1, 'opening': 1, 'usually': 1, 'www.digitalsherpa.comof': 1, 'transactions': 1, 'particular': 1, 'cycle': 1, 'starting': 1, 'operations': 1, 'highly': 1, 'unlikely': 1, 'lack': 1, 'operational': 1, 'history': 1, 'disqualify': 1, 'given': 2, 'high': 4, 'setup': 1, 'transactional': 1, 'fees': 1, 'since': 2, 'considered': 1, 'ﬁhigh-risk.ﬂ': 1, 'creating': 1, 'securely': 1, 'transfer': 1, 'gateways': 3, 'one': 1, 'u.s.': 1, 'authorize.net': 1, 'news': 1, 'processors': 1, 'card': 1, 'alternatives': 1, 'qualify': 1, 'leader': 1, 'pack': 4, 'stripe': 1, 'braintree': 1, 'chargebee': 1, 'chargify': 1, 'others.after': 1, 'ready': 2, 'selling': 3, 'www.digitalsherpa.comperform': 1, 'maintenance': 1, 'tweak': 1, 'load': 2, 'fast': 2, 'found': 2, 'robots': 2, 'read': 2, 'section': 1, '.ensure': 1, 'comprehensive': 1, 'description': 3, 'quality': 5, 'images': 4, 'interested': 1, 'products.like': 1, 'physical': 2, 'retail': 2, 'maximize': 1, 'visitors': 2, 'hand': 1, 'counter': 1, 'ship': 4, 'often': 1, 'state': 1, 'national': 1, 'boundaries.shipping': 1, 'challenges': 1, 'taxes': 1, 'dealing': 1, 'returned': 2, 'goods': 2, 'reverse': 1, 'logistics': 1, 'general': 1, 'happens': 1, 'sold': 1, 'don™t': 2, 'location': 1, 'inventory': 4, 'order': 3, 'received.will': 1, 'individually': 1, 'warehouse': 1, 'garage': 1, 'cut': 1, 'space': 2, 'otherwise': 1, 'spending': 1, 'productively.if': 1, 'occasionally': 1, 'fragile': 1, 'items': 3, 'perishables': 1, 'accepted': 1, 'replace': 1, 'traditional': 1, 'invest': 1, 'storage': 1, 'reduce': 1, 'handle': 1, 'scale.with': 1, 'websites': 3, 'carrying': 1, 'competitors': 2, 'prospects': 5, 'www.digitalsherpa.comand': 1, 'sales.before': 1, 'right.your': 1, 'designwhether': 1, 'two': 2, 'designed': 1, 'close': 2, 'sales': 4, 'tips': 3, 'cta': 3, 'buttons': 2, 'visible': 1, 'bold': 1, 'color': 2, 'size': 1, 'button': 2, 'stand': 2, 'avon.com': 1, 'stands': 1, 'out.products': 1, 'function': 2, 'rather': 2, 'going': 1, 'categories': 1, 'simplify': 1, 'searches': 1, 'auto-complete': 1, 'actually': 1, 'registered': 1, 'somewhere': 1, 'showing': 1, 'added': 1, 'contrasting': 1, 'colors': 1, 'scheme': 1, 'rest': 1, 'store.down': 1, 'menu': 1, 'walmart': 1, 'large': 3, 'image': 2, 'formats': 1, 'jpeg': 1, 'png': 1, 'multiple': 1, 'angles': 1, 'buy.don™t': 1, 'something': 1, 'requiring': 1, 'forced': 1, 'login': 2, 'registration': 1, 'putting': 1, 'wall': 1, 'purchase': 1, 'register': 1, 'explore': 1, 'easier': 1, 'systems.www.digitalsherpa.comprovide': 1, 'feedback': 1, 'post': 2, 'reviews': 1, 'business.let': 1, 'indicators': 1, 'every': 2, 'inform': 1, 'process.remove': 1, 'distractions': 1, 'sidebar': 1, 'navigation': 1, 'avoid': 2, 'urge': 1, 'continue': 1, 'single-page': 1, 'higher': 1, 'conversions.x': 1, 'customized': 1, 'experiencelet': 1, 'sort': 1, 'release': 1, 'date': 1, 'bestsellers': 1, 'review': 1, 'on.after': 1, 'designing': 1, 'promote': 1, 'win': 1, 'targeting': 3, 'proactive': 1, 'promoting': 1, 'real': 1, 'begins.generate': 1, 'leads': 4, 'storemethods': 1, 'seo': 3, 'advertisements.high': 1, 'results': 2, 'serps': 1, 'type': 2, 'keywords': 4, 'related': 3, 'seo-friendly.your': 1, 'static': 1, 'keyword-rich': 1, 'urls': 2, 'modify': 1, 'www.digitalsherpa.comii': 1, 'redirectswhen': 1, 'stop': 1, 'delete': 2, 'listed': 1, 'redirects': 2, 'new': 1, 'ensure': 2, 'retains': 1, 'juice': 1, 'deleted': 1, 'pages.iii': 1, 'canonicalizationif': 1, 'number': 3, 'rel=ﬂcanonicalﬂ': 1, 'href=ﬂﬂ': 1, 'tell': 1, 'preference': 1, 'safe': 1, 'duplicate': 1, 'penalties': 1, 'irrelevant': 1, 'links': 4, 'optimize': 3, 'alt': 3, 'tags': 3, 'tag': 1, 'text': 1, 'tip': 2, 'writing': 2, 'contain': 1, 'target': 5, 'keyword': 1, 'title': 1, 'descriptions': 3, 'click-through': 1, 'rate': 1, 'appeal': 1, 'emotions': 1, 'remember': 1, 'buying': 1, 'emotional': 1, 'decision': 1, 'website™s': 1, 'url': 1, 'information': 2, 'write': 1, 'persuasive': 1, 'language.high': 1, 'them.when': 1, 'backlinks': 6, 'focus': 2, 'getting': 2, 'low-quality': 1, 'refers': 1, 'coming': 1, 'trusted': 1, 'niche': 1, 'store.make': 1, 'indexed': 2, 'value': 3, 'website.www.digitalsherpa.comtip': 1, 'tiresome': 1, 'consuming': 1, 'outsource': 1, 'agency.apart': 1, 'strategy': 2, 'towards': 2, 'achieving': 2, 'overall': 2, 'improving': 1, 'awareness': 1, 'increasing': 1, 'ranking': 1, 'engines.below': 1, 'tactics': 1, 'focus.i': 1, 'blogginghave': 1, 'blog': 6, 'incorporate': 2, 'system': 1, 'cms': 1, 'serve': 1, 'functions': 2, 'announcements': 1, 'information.products': 1, 'selling.the': 1, 'main': 1, 'aim': 1, 'educate': 1, 'topics': 1, 'on.tip': 1, 'blogging': 1, 'adding': 1, 'lives': 1, 'ﬁsalesyﬂ': 1, 'campaign': 1, 'thing': 1, 'successful': 2, 'knowing': 1, 'relevant': 1, 'producing': 1, 'ebooks': 4, 'white': 1, 'papers': 1, 'based': 2, 'generate': 1, 'increase': 1, 'interests': 1, 'nurture': 1, 'messages': 1, 'warm': 1, 'sale.www.digitalsherpa.comeducational': 1, 'enhance': 1, 'go-to': 1, 'place': 1, 'industry.tip': 1, 'strategies': 1, 'complement': 1, 'example': 1, 'segmented': 1, 'put': 1, 'clear': 1, 'videos': 3, 'action': 1, 'audio': 1, 'clear.tip': 1, 'sites': 1, 'website.customers': 1, 'share': 1, 'networks': 1, 'online.is': 1, 'engaging': 1, 'educative': 1, 'sharing': 1, 'store.if': 1, 'specials': 1, 'announce': 1, 'fans': 1, 'twitter': 2, 'engage': 1, 'talking': 1, 'searching': 1, 'network': 1, 'hash': 1, 'tags.to': 1, 'automate': 1, 'tasks': 1, 'posting': 1, 'facebook': 1, 'c': 1, 'pinterestwww.digitalsherpa.comimages': 1, 'pinterest': 1, 'grows': 1, 'necessary': 1, 'full': 2, 'manager': 2, 'manage': 1, 'conversation': 1, 'answered': 1, 'quickly.take': 1, 'away': 1, 'relationships': 1, 'connect': 1, 'ask': 1, 'sale.advertising': 1, 'advertising': 2, 'per': 3, 'ppc': 3, 'sponsored': 1, 'emails': 1, 'posts': 1, 'banner': 1, 'advertising.paid': 1, 'advertisements': 1, 'come': 1, 'forms': 1, 'view': 2, 'impressions': 1, 'done': 1, 'ppv': 2, 'drive': 1, 'campaign.the': 1, 'key': 1, 'engines': 1, 'front': 1, 'campaigns': 2, 'targeted': 1, 'possible': 1, 'return': 1, 'investment': 1, 'roi': 1, 'carry': 1, 'maximum': 1, 'roi.and': 1, 'track': 1, 'metrics': 2, 'technique': 1, 'measured': 1, 'determine': 1, 'contribution': 1, 'business.some': 1, 'measure': 1, 'www.digitalsherpa.comscaled': 1, 'result': 1, 'impacts': 1, 'scaled': 1}\n"
     ]
    }
   ],
   "source": [
    "word_frequencies = {}\n",
    "for word in word_tokens:\n",
    "    if word not in punctuation:\n",
    "        if word not in stop_words:\n",
    "            if word not in word_frequencies.keys():\n",
    "                word_frequencies[word] = 1\n",
    "            else:\n",
    "                word_frequencies[word] +=1\n",
    "\n",
    "\n",
    "print(word_frequencies)"
   ]
  },
  {
   "cell_type": "code",
   "execution_count": 46,
   "id": "37d94317",
   "metadata": {},
   "outputs": [
    {
     "data": {
      "text/plain": [
       "118"
      ]
     },
     "execution_count": 46,
     "metadata": {},
     "output_type": "execute_result"
    }
   ],
   "source": [
    "max(word_frequencies.values())"
   ]
  },
  {
   "cell_type": "code",
   "execution_count": 22,
   "id": "f5f76c2d",
   "metadata": {},
   "outputs": [
    {
     "name": "stdout",
     "output_type": "stream",
     "text": [
      "!\"#$%&'()*+,-./:;<=>?@[\\]^_`{|}~\n"
     ]
    },
    {
     "data": {
      "text/plain": [
       "'!\"#$%&\\'()*+,-./:;<=>?@[\\\\]^_`{|}~\\n'"
      ]
     },
     "execution_count": 22,
     "metadata": {},
     "output_type": "execute_result"
    }
   ],
   "source": [
    "#print(punctuation)\n",
    "#for adding punctuation\n",
    "#punctuation = punctuation +'\\n' # adding newline also in punctuation\n",
    "#punctuation\n"
   ]
  },
  {
   "cell_type": "code",
   "execution_count": null,
   "id": "6f1d0e69",
   "metadata": {},
   "outputs": [],
   "source": []
  },
  {
   "cell_type": "code",
   "execution_count": null,
   "id": "f79be584",
   "metadata": {},
   "outputs": [],
   "source": []
  },
  {
   "cell_type": "code",
   "execution_count": null,
   "id": "a012a3ff",
   "metadata": {},
   "outputs": [],
   "source": []
  },
  {
   "cell_type": "code",
   "execution_count": null,
   "id": "a4fd8187",
   "metadata": {},
   "outputs": [],
   "source": []
  },
  {
   "cell_type": "code",
   "execution_count": null,
   "id": "3d123edc",
   "metadata": {},
   "outputs": [],
   "source": []
  },
  {
   "cell_type": "code",
   "execution_count": null,
   "id": "64e63933",
   "metadata": {},
   "outputs": [],
   "source": []
  },
  {
   "cell_type": "code",
   "execution_count": null,
   "id": "1b2ad67f",
   "metadata": {},
   "outputs": [],
   "source": []
  },
  {
   "cell_type": "code",
   "execution_count": null,
   "id": "c49b0a0e",
   "metadata": {},
   "outputs": [],
   "source": []
  },
  {
   "cell_type": "code",
   "execution_count": null,
   "id": "755dff20",
   "metadata": {},
   "outputs": [],
   "source": [
    "\n"
   ]
  },
  {
   "cell_type": "code",
   "execution_count": 18,
   "id": "cbd10c3c",
   "metadata": {},
   "outputs": [],
   "source": []
  },
  {
   "cell_type": "code",
   "execution_count": null,
   "id": "b3828a5b",
   "metadata": {},
   "outputs": [],
   "source": []
  },
  {
   "cell_type": "code",
   "execution_count": null,
   "id": "50f8e7db",
   "metadata": {},
   "outputs": [],
   "source": []
  },
  {
   "cell_type": "code",
   "execution_count": null,
   "id": "34ae3361",
   "metadata": {},
   "outputs": [],
   "source": []
  },
  {
   "cell_type": "code",
   "execution_count": null,
   "id": "00e7fe36",
   "metadata": {},
   "outputs": [],
   "source": []
  },
  {
   "cell_type": "code",
   "execution_count": null,
   "id": "5a296626",
   "metadata": {},
   "outputs": [],
   "source": []
  },
  {
   "cell_type": "code",
   "execution_count": null,
   "id": "703d1a17",
   "metadata": {},
   "outputs": [],
   "source": []
  },
  {
   "cell_type": "code",
   "execution_count": null,
   "id": "4decc506",
   "metadata": {},
   "outputs": [],
   "source": []
  },
  {
   "cell_type": "code",
   "execution_count": null,
   "id": "a5ae3e79",
   "metadata": {},
   "outputs": [],
   "source": []
  },
  {
   "cell_type": "code",
   "execution_count": null,
   "id": "0e2c30b1",
   "metadata": {},
   "outputs": [],
   "source": []
  },
  {
   "cell_type": "code",
   "execution_count": null,
   "id": "0ba3f2d9",
   "metadata": {},
   "outputs": [],
   "source": []
  },
  {
   "cell_type": "code",
   "execution_count": null,
   "id": "790a0781",
   "metadata": {},
   "outputs": [],
   "source": []
  },
  {
   "cell_type": "code",
   "execution_count": null,
   "id": "b3a46f00",
   "metadata": {},
   "outputs": [],
   "source": []
  }
 ],
 "metadata": {
  "kernelspec": {
   "display_name": "Python 3 (ipykernel)",
   "language": "python",
   "name": "python3"
  },
  "language_info": {
   "codemirror_mode": {
    "name": "ipython",
    "version": 3
   },
   "file_extension": ".py",
   "mimetype": "text/x-python",
   "name": "python",
   "nbconvert_exporter": "python",
   "pygments_lexer": "ipython3",
   "version": "3.8.8"
  },
  "toc": {
   "base_numbering": 1,
   "nav_menu": {},
   "number_sections": true,
   "sideBar": true,
   "skip_h1_title": false,
   "title_cell": "Table of Contents",
   "title_sidebar": "Contents",
   "toc_cell": false,
   "toc_position": {},
   "toc_section_display": true,
   "toc_window_display": false
  },
  "varInspector": {
   "cols": {
    "lenName": 16,
    "lenType": 16,
    "lenVar": 40
   },
   "kernels_config": {
    "python": {
     "delete_cmd_postfix": "",
     "delete_cmd_prefix": "del ",
     "library": "var_list.py",
     "varRefreshCmd": "print(var_dic_list())"
    },
    "r": {
     "delete_cmd_postfix": ") ",
     "delete_cmd_prefix": "rm(",
     "library": "var_list.r",
     "varRefreshCmd": "cat(var_dic_list()) "
    }
   },
   "types_to_exclude": [
    "module",
    "function",
    "builtin_function_or_method",
    "instance",
    "_Feature"
   ],
   "window_display": false
  }
 },
 "nbformat": 4,
 "nbformat_minor": 5
}
