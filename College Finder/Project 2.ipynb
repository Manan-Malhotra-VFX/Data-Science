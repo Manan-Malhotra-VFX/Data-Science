{
 "cells": [
  {
   "cell_type": "code",
   "execution_count": 92,
   "id": "a8c86c9e",
   "metadata": {},
   "outputs": [
    {
     "name": "stdout",
     "output_type": "stream",
     "text": [
      "Enter: {1: 'rock', 2: 'paper', 3: 'scissor'}\n",
      "\n",
      "Enter a choice for 1st user: rock\n",
      "Enter a choice for 2nd user: scissor\n",
      "\n",
      "Your choice: rock \n",
      "Your friend's choice: scissor\n"
     ]
    }
   ],
   "source": [
    "possible_choices = {1:'rock' ,2:'paper' , 3:'scissor'}\n",
    "print(\"Enter:\",possible_choices)\n",
    "user1 = input(\"\\nEnter a choice for 1st user: \")\n",
    "user2 = input(\"Enter a choice for 2nd user: \")\n",
    "print(\"\\nYour choice: {} \\nYour friend's choice: {}\".format(user1,user2))"
   ]
  },
  {
   "cell_type": "code",
   "execution_count": 93,
   "id": "7f20f6d1",
   "metadata": {
    "code_folding": []
   },
   "outputs": [
    {
     "name": "stdout",
     "output_type": "stream",
     "text": [
      "rock smashes scissors. you win!!!\n"
     ]
    }
   ],
   "source": [
    "if user1 == user2 :\n",
    "    print(\"both players wins {user1}.it's a Tie!\")\n",
    "elif user1 == \"rock\" or \"1\" :\n",
    "    if user2 == \"scissor\" or \"3\" :\n",
    "        print(\"rock smashes scissors. you win!!!\")\n",
    "    else :\n",
    "        print(\"paper cover rock. you lose!\")\n",
    "elif user1 == \"paper\" or \"2\":\n",
    "    if user2 == \"rock\" or \"1\":\n",
    "        print(\"paper covers rock. you win!!!\")\n",
    "    else :\n",
    "        print(\"scissors cut paper. you lose!\")\n",
    "elif user1 == \"scissor\" or \"3\":\n",
    "    if user2 == \"paper\" or \"2\":\n",
    "        print(\"scissors cut paper. you win!!!\")\n",
    "    else :\n",
    "        print(\"rock smashes scissors. you lose!\")"
   ]
  },
  {
   "cell_type": "code",
   "execution_count": 24,
   "id": "560ae0f2",
   "metadata": {},
   "outputs": [
    {
     "name": "stdout",
     "output_type": "stream",
     "text": [
      "If you'd like to play again, please type 'yes':no\n",
      "you are an amazing player!! see you soon\n"
     ]
    }
   ],
   "source": [
    "play_again = input(\"If you'd like to play again, please type 'yes':\")\n",
    "if play_again == \"yes\":\n",
    "    print(\"happy to have you back on game!!!\")\n",
    "else:\n",
    "    print(\"you are an amazing player!! see you soon\")"
   ]
  }
 ],
 "metadata": {
  "kernelspec": {
   "display_name": "Python 3 (ipykernel)",
   "language": "python",
   "name": "python3"
  },
  "language_info": {
   "codemirror_mode": {
    "name": "ipython",
    "version": 3
   },
   "file_extension": ".py",
   "mimetype": "text/x-python",
   "name": "python",
   "nbconvert_exporter": "python",
   "pygments_lexer": "ipython3",
   "version": "3.8.8"
  },
  "toc": {
   "base_numbering": 1,
   "nav_menu": {},
   "number_sections": true,
   "sideBar": true,
   "skip_h1_title": false,
   "title_cell": "Table of Contents",
   "title_sidebar": "Contents",
   "toc_cell": false,
   "toc_position": {},
   "toc_section_display": true,
   "toc_window_display": false
  },
  "varInspector": {
   "cols": {
    "lenName": 16,
    "lenType": 16,
    "lenVar": 40
   },
   "kernels_config": {
    "python": {
     "delete_cmd_postfix": "",
     "delete_cmd_prefix": "del ",
     "library": "var_list.py",
     "varRefreshCmd": "print(var_dic_list())"
    },
    "r": {
     "delete_cmd_postfix": ") ",
     "delete_cmd_prefix": "rm(",
     "library": "var_list.r",
     "varRefreshCmd": "cat(var_dic_list()) "
    }
   },
   "types_to_exclude": [
    "module",
    "function",
    "builtin_function_or_method",
    "instance",
    "_Feature"
   ],
   "window_display": false
  }
 },
 "nbformat": 4,
 "nbformat_minor": 5
}
