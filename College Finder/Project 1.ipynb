{
 "cells": [
  {
   "cell_type": "code",
   "execution_count": 1,
   "id": "c65612de",
   "metadata": {},
   "outputs": [
    {
     "name": "stdout",
     "output_type": "stream",
     "text": [
      "Enter the name of the student : Manan Malhotra\n",
      "Enter the division : PG\n",
      "Enter the standard you are in : NA\n",
      " Enter roll number : 1234\n"
     ]
    }
   ],
   "source": [
    "name = input(\"Enter the name of the student : \")\n",
    "Division = str(input(\"Enter the division : \"))\n",
    "std = str(input(\"Enter the standard you are in : \"))\n",
    "roll_num = int(input(\" Enter roll number : \"))"
   ]
  },
  {
   "cell_type": "code",
   "execution_count": 2,
   "id": "2a58bc15",
   "metadata": {},
   "outputs": [
    {
     "name": "stdout",
     "output_type": "stream",
     "text": [
      " Enter the marks obtained in the subjects\n",
      "Enter the marks in Mathematics : 100\n",
      "Enter the marks in Physics : 100\n",
      "Enter the marks in English : 100\n"
     ]
    }
   ],
   "source": [
    "print(\" Enter the marks obtained in the subjects\")\n",
    "m1 = int(input(\"Enter the marks in Mathematics : \"))\n",
    "m2 = int(input(\"Enter the marks in Physics : \"))\n",
    "m3 = int(input(\"Enter the marks in English : \"))"
   ]
  },
  {
   "cell_type": "code",
   "execution_count": 3,
   "id": "29be2636",
   "metadata": {},
   "outputs": [
    {
     "name": "stdout",
     "output_type": "stream",
     "text": [
      "The total marks is: \t 300\n",
      "The average marks is: \t 100.0\n",
      "The percentage is: \t 100.0\n"
     ]
    }
   ],
   "source": [
    "total_marks = m1 + m2 + m3\n",
    "print(\"The total marks is: \\t\" , total_marks)\n",
    "average_marks = total_marks/3\n",
    "print(\"The average marks is: \\t\" , average_marks )\n",
    "percentage = (total_marks/300)*100\n",
    "print(\"The percentage is: \\t\" , percentage )"
   ]
  }
 ],
 "metadata": {
  "kernelspec": {
   "display_name": "Python 3 (ipykernel)",
   "language": "python",
   "name": "python3"
  },
  "language_info": {
   "codemirror_mode": {
    "name": "ipython",
    "version": 3
   },
   "file_extension": ".py",
   "mimetype": "text/x-python",
   "name": "python",
   "nbconvert_exporter": "python",
   "pygments_lexer": "ipython3",
   "version": "3.8.8"
  },
  "toc": {
   "base_numbering": 1,
   "nav_menu": {},
   "number_sections": true,
   "sideBar": true,
   "skip_h1_title": false,
   "title_cell": "Table of Contents",
   "title_sidebar": "Contents",
   "toc_cell": false,
   "toc_position": {},
   "toc_section_display": true,
   "toc_window_display": false
  },
  "varInspector": {
   "cols": {
    "lenName": 16,
    "lenType": 16,
    "lenVar": 40
   },
   "kernels_config": {
    "python": {
     "delete_cmd_postfix": "",
     "delete_cmd_prefix": "del ",
     "library": "var_list.py",
     "varRefreshCmd": "print(var_dic_list())"
    },
    "r": {
     "delete_cmd_postfix": ") ",
     "delete_cmd_prefix": "rm(",
     "library": "var_list.r",
     "varRefreshCmd": "cat(var_dic_list()) "
    }
   },
   "types_to_exclude": [
    "module",
    "function",
    "builtin_function_or_method",
    "instance",
    "_Feature"
   ],
   "window_display": false
  }
 },
 "nbformat": 4,
 "nbformat_minor": 5
}
