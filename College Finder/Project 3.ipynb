{
 "cells": [
  {
   "cell_type": "markdown",
   "id": "d2c5ed20",
   "metadata": {},
   "source": [
    "# Multiplication Table using while loop\n"
   ]
  },
  {
   "cell_type": "code",
   "execution_count": 1,
   "id": "df726552",
   "metadata": {},
   "outputs": [
    {
     "name": "stdout",
     "output_type": "stream",
     "text": [
      "------------------------------------------------------------------------------------------\n",
      "While loop iterate until and unless given condition is true\n",
      "------------------------------------------------------------------------------------------\n"
     ]
    }
   ],
   "source": [
    "print('-'*90)\n",
    "print('While loop iterate until and unless given condition is true')\n",
    "print('-'*90)"
   ]
  },
  {
   "cell_type": "code",
   "execution_count": 7,
   "id": "38d2c475",
   "metadata": {},
   "outputs": [
    {
     "name": "stdout",
     "output_type": "stream",
     "text": [
      "Enter no. you wish for multiplication:9\n",
      "Multiplication table of 9 is:\n",
      "9 *0 = 0\n",
      "9 *1 = 9\n",
      "9 *2 = 18\n",
      "9 *3 = 27\n",
      "9 *4 = 36\n",
      "9 *5 = 45\n",
      "9 *6 = 54\n",
      "9 *7 = 63\n",
      "9 *8 = 72\n",
      "9 *9 = 81\n",
      "9 *10 = 90\n"
     ]
    }
   ],
   "source": [
    "num=int(input(\"Enter no. you wish for multiplication:\"))\n",
    "print('Multiplication table of {num} is:'.format(num=num))\n",
    "\n",
    "i=0\n",
    "while i<11:\n",
    "    result=num*i\n",
    "    print(str(num) + \" \" + '*' + str(i) + \" \" + '=' + \" \"+ str(result))\n",
    "    i=i+1\n"
   ]
  },
  {
   "cell_type": "code",
   "execution_count": null,
   "id": "82af0e90",
   "metadata": {},
   "outputs": [],
   "source": []
  }
 ],
 "metadata": {
  "kernelspec": {
   "display_name": "Python 3 (ipykernel)",
   "language": "python",
   "name": "python3"
  },
  "language_info": {
   "codemirror_mode": {
    "name": "ipython",
    "version": 3
   },
   "file_extension": ".py",
   "mimetype": "text/x-python",
   "name": "python",
   "nbconvert_exporter": "python",
   "pygments_lexer": "ipython3",
   "version": "3.8.3"
  }
 },
 "nbformat": 4,
 "nbformat_minor": 5
}
